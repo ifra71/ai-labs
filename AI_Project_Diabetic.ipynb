{
  "nbformat": 4,
  "nbformat_minor": 0,
  "metadata": {
    "colab": {
      "provenance": []
    },
    "kernelspec": {
      "name": "python3",
      "display_name": "Python 3"
    },
    "language_info": {
      "name": "python"
    }
  },
  "cells": [
    {
      "cell_type": "markdown",
      "source": [
        "#ResNet50 with 59% accuracy\n"
      ],
      "metadata": {
        "id": "McC4prdbaGRs"
      }
    },
    {
      "cell_type": "code",
      "execution_count": null,
      "metadata": {
        "colab": {
          "base_uri": "https://localhost:8080/"
        },
        "id": "QHftQ-uGnW0V",
        "outputId": "4cf383b9-9d88-4d98-8fb5-6bbd67aa4e94"
      },
      "outputs": [
        {
          "output_type": "stream",
          "name": "stdout",
          "text": [
            "Mounted at /content/drive\n"
          ]
        }
      ],
      "source": [
        "from google.colab import drive\n",
        "drive.mount('/content/drive')\n"
      ]
    },
    {
      "cell_type": "code",
      "source": [
        "dataset_path = '/content/drive/MyDrive/my_dataset_folder/archive (1)'"
      ],
      "metadata": {
        "id": "f9MDSKWppnQb"
      },
      "execution_count": null,
      "outputs": []
    },
    {
      "cell_type": "code",
      "source": [
        "!pip install tensorflow\n"
      ],
      "metadata": {
        "colab": {
          "base_uri": "https://localhost:8080/"
        },
        "id": "CcGplxKypvbY",
        "outputId": "67fe6bf2-8c8f-43bb-c2e8-c845ae9011e7"
      },
      "execution_count": null,
      "outputs": [
        {
          "output_type": "stream",
          "name": "stdout",
          "text": [
            "Requirement already satisfied: tensorflow in /usr/local/lib/python3.10/dist-packages (2.17.1)\n",
            "Requirement already satisfied: absl-py>=1.0.0 in /usr/local/lib/python3.10/dist-packages (from tensorflow) (1.4.0)\n",
            "Requirement already satisfied: astunparse>=1.6.0 in /usr/local/lib/python3.10/dist-packages (from tensorflow) (1.6.3)\n",
            "Requirement already satisfied: flatbuffers>=24.3.25 in /usr/local/lib/python3.10/dist-packages (from tensorflow) (24.3.25)\n",
            "Requirement already satisfied: gast!=0.5.0,!=0.5.1,!=0.5.2,>=0.2.1 in /usr/local/lib/python3.10/dist-packages (from tensorflow) (0.6.0)\n",
            "Requirement already satisfied: google-pasta>=0.1.1 in /usr/local/lib/python3.10/dist-packages (from tensorflow) (0.2.0)\n",
            "Requirement already satisfied: h5py>=3.10.0 in /usr/local/lib/python3.10/dist-packages (from tensorflow) (3.12.1)\n",
            "Requirement already satisfied: libclang>=13.0.0 in /usr/local/lib/python3.10/dist-packages (from tensorflow) (18.1.1)\n",
            "Requirement already satisfied: ml-dtypes<0.5.0,>=0.3.1 in /usr/local/lib/python3.10/dist-packages (from tensorflow) (0.4.1)\n",
            "Requirement already satisfied: opt-einsum>=2.3.2 in /usr/local/lib/python3.10/dist-packages (from tensorflow) (3.4.0)\n",
            "Requirement already satisfied: packaging in /usr/local/lib/python3.10/dist-packages (from tensorflow) (24.2)\n",
            "Requirement already satisfied: protobuf!=4.21.0,!=4.21.1,!=4.21.2,!=4.21.3,!=4.21.4,!=4.21.5,<5.0.0dev,>=3.20.3 in /usr/local/lib/python3.10/dist-packages (from tensorflow) (4.25.5)\n",
            "Requirement already satisfied: requests<3,>=2.21.0 in /usr/local/lib/python3.10/dist-packages (from tensorflow) (2.32.3)\n",
            "Requirement already satisfied: setuptools in /usr/local/lib/python3.10/dist-packages (from tensorflow) (75.1.0)\n",
            "Requirement already satisfied: six>=1.12.0 in /usr/local/lib/python3.10/dist-packages (from tensorflow) (1.17.0)\n",
            "Requirement already satisfied: termcolor>=1.1.0 in /usr/local/lib/python3.10/dist-packages (from tensorflow) (2.5.0)\n",
            "Requirement already satisfied: typing-extensions>=3.6.6 in /usr/local/lib/python3.10/dist-packages (from tensorflow) (4.12.2)\n",
            "Requirement already satisfied: wrapt>=1.11.0 in /usr/local/lib/python3.10/dist-packages (from tensorflow) (1.17.0)\n",
            "Requirement already satisfied: grpcio<2.0,>=1.24.3 in /usr/local/lib/python3.10/dist-packages (from tensorflow) (1.68.1)\n",
            "Requirement already satisfied: tensorboard<2.18,>=2.17 in /usr/local/lib/python3.10/dist-packages (from tensorflow) (2.17.1)\n",
            "Requirement already satisfied: keras>=3.2.0 in /usr/local/lib/python3.10/dist-packages (from tensorflow) (3.5.0)\n",
            "Requirement already satisfied: tensorflow-io-gcs-filesystem>=0.23.1 in /usr/local/lib/python3.10/dist-packages (from tensorflow) (0.37.1)\n",
            "Requirement already satisfied: numpy<2.0.0,>=1.23.5 in /usr/local/lib/python3.10/dist-packages (from tensorflow) (1.26.4)\n",
            "Requirement already satisfied: wheel<1.0,>=0.23.0 in /usr/local/lib/python3.10/dist-packages (from astunparse>=1.6.0->tensorflow) (0.45.1)\n",
            "Requirement already satisfied: rich in /usr/local/lib/python3.10/dist-packages (from keras>=3.2.0->tensorflow) (13.9.4)\n",
            "Requirement already satisfied: namex in /usr/local/lib/python3.10/dist-packages (from keras>=3.2.0->tensorflow) (0.0.8)\n",
            "Requirement already satisfied: optree in /usr/local/lib/python3.10/dist-packages (from keras>=3.2.0->tensorflow) (0.13.1)\n",
            "Requirement already satisfied: charset-normalizer<4,>=2 in /usr/local/lib/python3.10/dist-packages (from requests<3,>=2.21.0->tensorflow) (3.4.0)\n",
            "Requirement already satisfied: idna<4,>=2.5 in /usr/local/lib/python3.10/dist-packages (from requests<3,>=2.21.0->tensorflow) (3.10)\n",
            "Requirement already satisfied: urllib3<3,>=1.21.1 in /usr/local/lib/python3.10/dist-packages (from requests<3,>=2.21.0->tensorflow) (2.2.3)\n",
            "Requirement already satisfied: certifi>=2017.4.17 in /usr/local/lib/python3.10/dist-packages (from requests<3,>=2.21.0->tensorflow) (2024.8.30)\n",
            "Requirement already satisfied: markdown>=2.6.8 in /usr/local/lib/python3.10/dist-packages (from tensorboard<2.18,>=2.17->tensorflow) (3.7)\n",
            "Requirement already satisfied: tensorboard-data-server<0.8.0,>=0.7.0 in /usr/local/lib/python3.10/dist-packages (from tensorboard<2.18,>=2.17->tensorflow) (0.7.2)\n",
            "Requirement already satisfied: werkzeug>=1.0.1 in /usr/local/lib/python3.10/dist-packages (from tensorboard<2.18,>=2.17->tensorflow) (3.1.3)\n",
            "Requirement already satisfied: MarkupSafe>=2.1.1 in /usr/local/lib/python3.10/dist-packages (from werkzeug>=1.0.1->tensorboard<2.18,>=2.17->tensorflow) (3.0.2)\n",
            "Requirement already satisfied: markdown-it-py>=2.2.0 in /usr/local/lib/python3.10/dist-packages (from rich->keras>=3.2.0->tensorflow) (3.0.0)\n",
            "Requirement already satisfied: pygments<3.0.0,>=2.13.0 in /usr/local/lib/python3.10/dist-packages (from rich->keras>=3.2.0->tensorflow) (2.18.0)\n",
            "Requirement already satisfied: mdurl~=0.1 in /usr/local/lib/python3.10/dist-packages (from markdown-it-py>=2.2.0->rich->keras>=3.2.0->tensorflow) (0.1.2)\n"
          ]
        }
      ]
    },
    {
      "cell_type": "code",
      "source": [
        "!pip install opencv-python-headless\n"
      ],
      "metadata": {
        "colab": {
          "base_uri": "https://localhost:8080/"
        },
        "id": "xDfv8YwmpyZq",
        "outputId": "c4962cfd-94a8-4212-8f3d-fbf85baea4d2"
      },
      "execution_count": null,
      "outputs": [
        {
          "output_type": "stream",
          "name": "stdout",
          "text": [
            "Requirement already satisfied: opencv-python-headless in /usr/local/lib/python3.10/dist-packages (4.10.0.84)\n",
            "Requirement already satisfied: numpy>=1.21.2 in /usr/local/lib/python3.10/dist-packages (from opencv-python-headless) (1.26.4)\n"
          ]
        }
      ]
    },
    {
      "cell_type": "code",
      "source": [
        "!pip install matplotlib\n"
      ],
      "metadata": {
        "colab": {
          "base_uri": "https://localhost:8080/"
        },
        "id": "i3TLJV4Dp3y_",
        "outputId": "4367da06-8e18-47c8-f386-01fd28165f42"
      },
      "execution_count": null,
      "outputs": [
        {
          "output_type": "stream",
          "name": "stdout",
          "text": [
            "Requirement already satisfied: matplotlib in /usr/local/lib/python3.10/dist-packages (3.8.0)\n",
            "Requirement already satisfied: contourpy>=1.0.1 in /usr/local/lib/python3.10/dist-packages (from matplotlib) (1.3.1)\n",
            "Requirement already satisfied: cycler>=0.10 in /usr/local/lib/python3.10/dist-packages (from matplotlib) (0.12.1)\n",
            "Requirement already satisfied: fonttools>=4.22.0 in /usr/local/lib/python3.10/dist-packages (from matplotlib) (4.55.3)\n",
            "Requirement already satisfied: kiwisolver>=1.0.1 in /usr/local/lib/python3.10/dist-packages (from matplotlib) (1.4.7)\n",
            "Requirement already satisfied: numpy<2,>=1.21 in /usr/local/lib/python3.10/dist-packages (from matplotlib) (1.26.4)\n",
            "Requirement already satisfied: packaging>=20.0 in /usr/local/lib/python3.10/dist-packages (from matplotlib) (24.2)\n",
            "Requirement already satisfied: pillow>=6.2.0 in /usr/local/lib/python3.10/dist-packages (from matplotlib) (11.0.0)\n",
            "Requirement already satisfied: pyparsing>=2.3.1 in /usr/local/lib/python3.10/dist-packages (from matplotlib) (3.2.0)\n",
            "Requirement already satisfied: python-dateutil>=2.7 in /usr/local/lib/python3.10/dist-packages (from matplotlib) (2.8.2)\n",
            "Requirement already satisfied: six>=1.5 in /usr/local/lib/python3.10/dist-packages (from python-dateutil>=2.7->matplotlib) (1.17.0)\n"
          ]
        }
      ]
    },
    {
      "cell_type": "code",
      "source": [
        "!pip install pandas\n"
      ],
      "metadata": {
        "colab": {
          "base_uri": "https://localhost:8080/"
        },
        "id": "3KgnOZ8Ap1_f",
        "outputId": "2c4808fe-8b71-4de4-c4ee-5d368219bbbf"
      },
      "execution_count": null,
      "outputs": [
        {
          "output_type": "stream",
          "name": "stdout",
          "text": [
            "Requirement already satisfied: pandas in /usr/local/lib/python3.10/dist-packages (2.2.2)\n",
            "Requirement already satisfied: numpy>=1.22.4 in /usr/local/lib/python3.10/dist-packages (from pandas) (1.26.4)\n",
            "Requirement already satisfied: python-dateutil>=2.8.2 in /usr/local/lib/python3.10/dist-packages (from pandas) (2.8.2)\n",
            "Requirement already satisfied: pytz>=2020.1 in /usr/local/lib/python3.10/dist-packages (from pandas) (2024.2)\n",
            "Requirement already satisfied: tzdata>=2022.7 in /usr/local/lib/python3.10/dist-packages (from pandas) (2024.2)\n",
            "Requirement already satisfied: six>=1.5 in /usr/local/lib/python3.10/dist-packages (from python-dateutil>=2.8.2->pandas) (1.17.0)\n"
          ]
        }
      ]
    },
    {
      "cell_type": "code",
      "source": [
        "import pandas as pd\n",
        "\n",
        "# Load the CSV file\n",
        "csv_path = dataset_path + '/train.csv'\n",
        "train_df = pd.read_csv(csv_path)\n",
        "\n",
        "# Inspect the first few rows of the dataframe to understand its structure\n",
        "train_df.head()\n"
      ],
      "metadata": {
        "colab": {
          "base_uri": "https://localhost:8080/",
          "height": 905
        },
        "id": "EWT9TtbwqBJd",
        "outputId": "cc44db7b-aa73-4cd4-9324-6031cd9505f3"
      },
      "execution_count": null,
      "outputs": [
        {
          "output_type": "execute_result",
          "data": {
            "text/plain": [
              "        id_code  diagnosis\n",
              "0  000c1434d8d7          2\n",
              "1  001639a390f0          4\n",
              "2  0024cdab0c1e          1\n",
              "3  002c21358ce6          0\n",
              "4  005b95c28852          0"
            ],
            "text/html": [
              "\n",
              "  <div id=\"df-739a3345-c04a-408a-a422-40a12dcca0c4\" class=\"colab-df-container\">\n",
              "    <div>\n",
              "<style scoped>\n",
              "    .dataframe tbody tr th:only-of-type {\n",
              "        vertical-align: middle;\n",
              "    }\n",
              "\n",
              "    .dataframe tbody tr th {\n",
              "        vertical-align: top;\n",
              "    }\n",
              "\n",
              "    .dataframe thead th {\n",
              "        text-align: right;\n",
              "    }\n",
              "</style>\n",
              "<table border=\"1\" class=\"dataframe\">\n",
              "  <thead>\n",
              "    <tr style=\"text-align: right;\">\n",
              "      <th></th>\n",
              "      <th>id_code</th>\n",
              "      <th>diagnosis</th>\n",
              "    </tr>\n",
              "  </thead>\n",
              "  <tbody>\n",
              "    <tr>\n",
              "      <th>0</th>\n",
              "      <td>000c1434d8d7</td>\n",
              "      <td>2</td>\n",
              "    </tr>\n",
              "    <tr>\n",
              "      <th>1</th>\n",
              "      <td>001639a390f0</td>\n",
              "      <td>4</td>\n",
              "    </tr>\n",
              "    <tr>\n",
              "      <th>2</th>\n",
              "      <td>0024cdab0c1e</td>\n",
              "      <td>1</td>\n",
              "    </tr>\n",
              "    <tr>\n",
              "      <th>3</th>\n",
              "      <td>002c21358ce6</td>\n",
              "      <td>0</td>\n",
              "    </tr>\n",
              "    <tr>\n",
              "      <th>4</th>\n",
              "      <td>005b95c28852</td>\n",
              "      <td>0</td>\n",
              "    </tr>\n",
              "  </tbody>\n",
              "</table>\n",
              "</div>\n",
              "    <div class=\"colab-df-buttons\">\n",
              "\n",
              "  <div class=\"colab-df-container\">\n",
              "    <button class=\"colab-df-convert\" onclick=\"convertToInteractive('df-739a3345-c04a-408a-a422-40a12dcca0c4')\"\n",
              "            title=\"Convert this dataframe to an interactive table.\"\n",
              "            style=\"display:none;\">\n",
              "\n",
              "  <svg xmlns=\"http://www.w3.org/2000/svg\" height=\"24px\" viewBox=\"0 -960 960 960\">\n",
              "    <path d=\"M120-120v-720h720v720H120Zm60-500h600v-160H180v160Zm220 220h160v-160H400v160Zm0 220h160v-160H400v160ZM180-400h160v-160H180v160Zm440 0h160v-160H620v160ZM180-180h160v-160H180v160Zm440 0h160v-160H620v160Z\"/>\n",
              "  </svg>\n",
              "    </button>\n",
              "\n",
              "  <style>\n",
              "    .colab-df-container {\n",
              "      display:flex;\n",
              "      gap: 12px;\n",
              "    }\n",
              "\n",
              "    .colab-df-convert {\n",
              "      background-color: #E8F0FE;\n",
              "      border: none;\n",
              "      border-radius: 50%;\n",
              "      cursor: pointer;\n",
              "      display: none;\n",
              "      fill: #1967D2;\n",
              "      height: 32px;\n",
              "      padding: 0 0 0 0;\n",
              "      width: 32px;\n",
              "    }\n",
              "\n",
              "    .colab-df-convert:hover {\n",
              "      background-color: #E2EBFA;\n",
              "      box-shadow: 0px 1px 2px rgba(60, 64, 67, 0.3), 0px 1px 3px 1px rgba(60, 64, 67, 0.15);\n",
              "      fill: #174EA6;\n",
              "    }\n",
              "\n",
              "    .colab-df-buttons div {\n",
              "      margin-bottom: 4px;\n",
              "    }\n",
              "\n",
              "    [theme=dark] .colab-df-convert {\n",
              "      background-color: #3B4455;\n",
              "      fill: #D2E3FC;\n",
              "    }\n",
              "\n",
              "    [theme=dark] .colab-df-convert:hover {\n",
              "      background-color: #434B5C;\n",
              "      box-shadow: 0px 1px 3px 1px rgba(0, 0, 0, 0.15);\n",
              "      filter: drop-shadow(0px 1px 2px rgba(0, 0, 0, 0.3));\n",
              "      fill: #FFFFFF;\n",
              "    }\n",
              "  </style>\n",
              "\n",
              "    <script>\n",
              "      const buttonEl =\n",
              "        document.querySelector('#df-739a3345-c04a-408a-a422-40a12dcca0c4 button.colab-df-convert');\n",
              "      buttonEl.style.display =\n",
              "        google.colab.kernel.accessAllowed ? 'block' : 'none';\n",
              "\n",
              "      async function convertToInteractive(key) {\n",
              "        const element = document.querySelector('#df-739a3345-c04a-408a-a422-40a12dcca0c4');\n",
              "        const dataTable =\n",
              "          await google.colab.kernel.invokeFunction('convertToInteractive',\n",
              "                                                    [key], {});\n",
              "        if (!dataTable) return;\n",
              "\n",
              "        const docLinkHtml = 'Like what you see? Visit the ' +\n",
              "          '<a target=\"_blank\" href=https://colab.research.google.com/notebooks/data_table.ipynb>data table notebook</a>'\n",
              "          + ' to learn more about interactive tables.';\n",
              "        element.innerHTML = '';\n",
              "        dataTable['output_type'] = 'display_data';\n",
              "        await google.colab.output.renderOutput(dataTable, element);\n",
              "        const docLink = document.createElement('div');\n",
              "        docLink.innerHTML = docLinkHtml;\n",
              "        element.appendChild(docLink);\n",
              "      }\n",
              "    </script>\n",
              "  </div>\n",
              "\n",
              "\n",
              "<div id=\"df-bf6854e4-ccc4-4004-aec0-df675d6daa1e\">\n",
              "  <button class=\"colab-df-quickchart\" onclick=\"quickchart('df-bf6854e4-ccc4-4004-aec0-df675d6daa1e')\"\n",
              "            title=\"Suggest charts\"\n",
              "            style=\"display:none;\">\n",
              "\n",
              "<svg xmlns=\"http://www.w3.org/2000/svg\" height=\"24px\"viewBox=\"0 0 24 24\"\n",
              "     width=\"24px\">\n",
              "    <g>\n",
              "        <path d=\"M19 3H5c-1.1 0-2 .9-2 2v14c0 1.1.9 2 2 2h14c1.1 0 2-.9 2-2V5c0-1.1-.9-2-2-2zM9 17H7v-7h2v7zm4 0h-2V7h2v10zm4 0h-2v-4h2v4z\"/>\n",
              "    </g>\n",
              "</svg>\n",
              "  </button>\n",
              "\n",
              "<style>\n",
              "  .colab-df-quickchart {\n",
              "      --bg-color: #E8F0FE;\n",
              "      --fill-color: #1967D2;\n",
              "      --hover-bg-color: #E2EBFA;\n",
              "      --hover-fill-color: #174EA6;\n",
              "      --disabled-fill-color: #AAA;\n",
              "      --disabled-bg-color: #DDD;\n",
              "  }\n",
              "\n",
              "  [theme=dark] .colab-df-quickchart {\n",
              "      --bg-color: #3B4455;\n",
              "      --fill-color: #D2E3FC;\n",
              "      --hover-bg-color: #434B5C;\n",
              "      --hover-fill-color: #FFFFFF;\n",
              "      --disabled-bg-color: #3B4455;\n",
              "      --disabled-fill-color: #666;\n",
              "  }\n",
              "\n",
              "  .colab-df-quickchart {\n",
              "    background-color: var(--bg-color);\n",
              "    border: none;\n",
              "    border-radius: 50%;\n",
              "    cursor: pointer;\n",
              "    display: none;\n",
              "    fill: var(--fill-color);\n",
              "    height: 32px;\n",
              "    padding: 0;\n",
              "    width: 32px;\n",
              "  }\n",
              "\n",
              "  .colab-df-quickchart:hover {\n",
              "    background-color: var(--hover-bg-color);\n",
              "    box-shadow: 0 1px 2px rgba(60, 64, 67, 0.3), 0 1px 3px 1px rgba(60, 64, 67, 0.15);\n",
              "    fill: var(--button-hover-fill-color);\n",
              "  }\n",
              "\n",
              "  .colab-df-quickchart-complete:disabled,\n",
              "  .colab-df-quickchart-complete:disabled:hover {\n",
              "    background-color: var(--disabled-bg-color);\n",
              "    fill: var(--disabled-fill-color);\n",
              "    box-shadow: none;\n",
              "  }\n",
              "\n",
              "  .colab-df-spinner {\n",
              "    border: 2px solid var(--fill-color);\n",
              "    border-color: transparent;\n",
              "    border-bottom-color: var(--fill-color);\n",
              "    animation:\n",
              "      spin 1s steps(1) infinite;\n",
              "  }\n",
              "\n",
              "  @keyframes spin {\n",
              "    0% {\n",
              "      border-color: transparent;\n",
              "      border-bottom-color: var(--fill-color);\n",
              "      border-left-color: var(--fill-color);\n",
              "    }\n",
              "    20% {\n",
              "      border-color: transparent;\n",
              "      border-left-color: var(--fill-color);\n",
              "      border-top-color: var(--fill-color);\n",
              "    }\n",
              "    30% {\n",
              "      border-color: transparent;\n",
              "      border-left-color: var(--fill-color);\n",
              "      border-top-color: var(--fill-color);\n",
              "      border-right-color: var(--fill-color);\n",
              "    }\n",
              "    40% {\n",
              "      border-color: transparent;\n",
              "      border-right-color: var(--fill-color);\n",
              "      border-top-color: var(--fill-color);\n",
              "    }\n",
              "    60% {\n",
              "      border-color: transparent;\n",
              "      border-right-color: var(--fill-color);\n",
              "    }\n",
              "    80% {\n",
              "      border-color: transparent;\n",
              "      border-right-color: var(--fill-color);\n",
              "      border-bottom-color: var(--fill-color);\n",
              "    }\n",
              "    90% {\n",
              "      border-color: transparent;\n",
              "      border-bottom-color: var(--fill-color);\n",
              "    }\n",
              "  }\n",
              "</style>\n",
              "\n",
              "  <script>\n",
              "    async function quickchart(key) {\n",
              "      const quickchartButtonEl =\n",
              "        document.querySelector('#' + key + ' button');\n",
              "      quickchartButtonEl.disabled = true;  // To prevent multiple clicks.\n",
              "      quickchartButtonEl.classList.add('colab-df-spinner');\n",
              "      try {\n",
              "        const charts = await google.colab.kernel.invokeFunction(\n",
              "            'suggestCharts', [key], {});\n",
              "      } catch (error) {\n",
              "        console.error('Error during call to suggestCharts:', error);\n",
              "      }\n",
              "      quickchartButtonEl.classList.remove('colab-df-spinner');\n",
              "      quickchartButtonEl.classList.add('colab-df-quickchart-complete');\n",
              "    }\n",
              "    (() => {\n",
              "      let quickchartButtonEl =\n",
              "        document.querySelector('#df-bf6854e4-ccc4-4004-aec0-df675d6daa1e button');\n",
              "      quickchartButtonEl.style.display =\n",
              "        google.colab.kernel.accessAllowed ? 'block' : 'none';\n",
              "    })();\n",
              "  </script>\n",
              "</div>\n",
              "\n",
              "    </div>\n",
              "  </div>\n"
            ],
            "application/vnd.google.colaboratory.intrinsic+json": {
              "type": "dataframe",
              "variable_name": "train_df",
              "summary": "{\n  \"name\": \"train_df\",\n  \"rows\": 3662,\n  \"fields\": [\n    {\n      \"column\": \"id_code\",\n      \"properties\": {\n        \"dtype\": \"string\",\n        \"num_unique_values\": 3662,\n        \"samples\": [\n          \"90960ddf4d14\",\n          \"4e0656629d02\",\n          \"3b018e8b7303\"\n        ],\n        \"semantic_type\": \"\",\n        \"description\": \"\"\n      }\n    },\n    {\n      \"column\": \"diagnosis\",\n      \"properties\": {\n        \"dtype\": \"number\",\n        \"std\": 1,\n        \"min\": 0,\n        \"max\": 4,\n        \"num_unique_values\": 5,\n        \"samples\": [\n          4,\n          3,\n          1\n        ],\n        \"semantic_type\": \"\",\n        \"description\": \"\"\n      }\n    }\n  ]\n}"
            }
          },
          "metadata": {},
          "execution_count": 9
        },
        {
          "output_type": "display_data",
          "data": {
            "text/plain": [
              "<google.colab._quickchart_helpers.SectionTitle at 0x7a6c42f7b7c0>"
            ],
            "text/html": [
              "<h4 class=\"colab-quickchart-section-title\">Distributions</h4>\n",
              "<style>\n",
              "  .colab-quickchart-section-title {\n",
              "      clear: both;\n",
              "  }\n",
              "</style>"
            ]
          },
          "metadata": {}
        },
        {
          "output_type": "display_data",
          "data": {
            "text/plain": [
              "from matplotlib import pyplot as plt\n",
              "_df_0['diagnosis'].plot(kind='hist', bins=20, title='diagnosis')\n",
              "plt.gca().spines[['top', 'right',]].set_visible(False)"
            ],
            "text/html": [
              "      <div class=\"colab-quickchart-chart-with-code\" id=\"chart-f8eab84b-7a9a-415e-a01c-6c18466ce3cc\">\n",
              "        <img style=\"width: 180px;\" src=\"data:image/png;base64,iVBORw0KGgoAAAANSUhEUgAAAjEAAAGrCAYAAAAxesZMAAAAOXRFWHRTb2Z0d2FyZQBNYXRwbG90\n",
              "bGliIHZlcnNpb24zLjguMCwgaHR0cHM6Ly9tYXRwbG90bGliLm9yZy81sbWrAAAACXBIWXMAAA9h\n",
              "AAAPYQGoP6dpAAAoxElEQVR4nO3df3BV5Z3H8c81kYCSHwRIEw1JNgkJBSXJxWQjtGh1WAEroYFW\n",
              "rLgC5gdSBjuxhbKUbaG1oVNhpOwgQSJqmQE1RM1C0RGFNqzIDzG2wookcLkJG0hXMQkUQn6c/YPx\n",
              "rrf5QW7MSfKE92vmmck5z3Of+304nJnPnHvuPQ7LsiwBAAAY5obeLgAAAKArCDEAAMBIhBgAAGAk\n",
              "QgwAADASIQYAABiJEAMAAIxEiAEAAEYixAAAACMRYgAAgJEIMQC6XVNTkxwOh/bu3avS0lINHjxY\n",
              "zc3NvV1Wp7jdbg0ePFgnT57s7VIAXIN/bxcAoH/79re/rQsXLvR2GZ0WFRVlVL3A9YwrMQAAwEiE\n",
              "GABfW01NjTIzMxUSEqLY2Fi9/PLLnr69e/fK4XCoqanJsz1+/HgNHTpUQ4YM0T333KOysjKv+TZv\n",
              "3qz4+HgFBgYqMzNTCxcu1N133+3pv/vuu/XEE0/ohz/8oYKDgzVixAg9++yzXnPs3LlT48aNU3Bw\n",
              "sBISEvT000+rpaVFknTlyhUtWLBA4eHhCgwMVExMjNatWydJcrlccjgcKi8vlyR99NFHuuuuuxQS\n",
              "EqIhQ4Zo3LhxOn78eHf/EwLoAkIMgK9t9uzZ+vvf/66TJ0/q8OHD2rp1a7tjb7zxRj399NOqrq6W\n",
              "2+1WfHy8MjIydOXKFUnSn//8Z82fP1/r1q3TF198oaysLD3//POt5nnhhReUlZWl8+fP65lnntHC\n",
              "hQs9wePQoUP63ve+pyVLluizzz7T1q1btWbNGv3+97+XJL344ovav3+/Pv74Y9XX1+v999/XhAkT\n",
              "2qx3wYIFuvfee/W///u/+tvf/qbCwkKFhIR8zX8xAN2BEAPgazlz5ozefvtt/e53v1NoaKhCQ0OV\n",
              "n5/f7vgJEyZo/PjxGjBggAIDA/Xb3/5Wbrfbc3XjpZdeUkZGhqZMmSI/Pz9NnTpVU6dObTXPjBkz\n",
              "dM899+iGG27QjBkzFBoaqg8++ECStGnTJt1///36wQ9+IH9/f40bN04//elPtWHDBknSgAEDdOHC\n",
              "BR07dkyNjY0KDw+X0+lss94BAwbI7Xbr9OnT8vf3V3Jysr7xjW983X82AN2AEAPga6mqqpIk/dM/\n",
              "/ZNn31f//kd/+ctf9MADD+jWW29VUFCQZ2xNTY2kq6EoOjra6zUxMTGt5rnlllu8tm+++WbV19dL\n",
              "kiorKxUXF+fVHx8fL7fbLenqlaPc3Fz99Kc/1bBhwzRlyhRPAPpHL7zwghwOh+655x5FRkbqxz/+\n",
              "MTf+An0EIQbA1xIZGSnp6r0kX/rq3//o+9//vuLi4vTxxx+rrq5Op06dkiRZliVJuvXWW3X69Gmv\n",
              "1/zj9rWMGDFCFRUVXvsqKioUFRUlSfLz89NPfvITHThwQGfOnNE3v/lNZWRktDlXdHS0nnvuOZ0+\n",
              "fVp79+7V22+/3eGVJgA9hxAD4Gu59dZbde+992rx4sU6f/68zp8/r3/7t39rd3xtba2CgoIUHBys\n",
              "zz//XE8++aRX/yOPPKI33nhDb731lpqbm/Xmm2/qj3/8o081zZs3Tzt37tT27dvV3NysDz/8UL/7\n",
              "3e+Uk5MjSXr33Xd1+PBhXblyRQMHDtTgwYPl5+fX5lwvvPCCqqqqZFmWgoKC5O/vL39/fp0C6AsI\n",
              "MQC+ti1btmjAgAGKiYmR0+nUgw8+2O7Y559/Xq+++qoCAwOVnp6uKVOmePXfddddWr9+vRYsWKCQ\n",
              "kBAVFBTo4Ycf1sCBAztdzz//8z+rqKhITz31lIYMGaLvf//7WrRokZ544glJVz+6mjNnjkJDQzV8\n",
              "+HD96U9/UlFRUZtz7dmzR2lpaRo8eLCSkpJ05513asmSJZ2uBYB9HNaX13ABoI+aPn26vvGNb6ig\n",
              "oKC3SwHQh3AlBkCfs337dtXV1amxsVEvv/yyduzYoYcffri3ywLQx/DBLoA+5z//8z+VnZ2tK1eu\n",
              "KDo6Ws8//7wmTpzY22UB6GP4OAkAABiJj5MAAICRCDEAAMBIhBgAAGAkQgwAADBSvw8xa9eu7e0S\n",
              "AACADfp9iPH1mSsAAMAM/T7EAACA/okQAwAAjESIAQAARiLEAAAAIxFiAACAkQgxAADASIQYAABg\n",
              "JEIMAAAwEiEGAAAYiRADAACMRIgBAABGIsQAAAAj2RZiLl++rOnTpyshIUFJSUmaNGmSysvL2xy7\n",
              "Y8cOjRo1SiNHjlRmZqbq6uo61QcAAK5ftl6JycnJ0fHjx/XRRx8pIyNDWVlZrcZcuHBBjz32mF5/\n",
              "/XWdOHFCt9xyi371q19dsw8AAFzfbAsxAwcO1NSpU+VwOCRJ6enpcrlcrcbt2rVLKSkpGjVqlCRp\n",
              "wYIF2rp16zX72tLQ0KC6ujqv1tzc3M0rAwAAfYF/T73R2rVrlZGR0Wq/2+1WdHS0ZzsmJkbV1dVq\n",
              "amrqsM/fv3Xp+fn5WrFihde+9PT0blzF/4v52U5b5pUk16r7bZsbAID+okdu7P3Nb36j8vJy5efn\n",
              "2/o+S5cuVW1trVdLS0uz9T0BAEDvsD3EPP300youLtauXbt00003teqPiorS6dOnPdsul0sRERHy\n",
              "9/fvsK8tAQEBCgoK8mp+fn7dvygAANDrbA0xa9as0datW/X2228rJCSkzTGTJ0/WkSNH9Mknn0iS\n",
              "1q9fr1mzZl2zDwAAXN9suyemqqpKTz75pGJjY/Wd73xH0tUrJQcOHNC///u/65ZbbtH8+fMVGBio\n",
              "TZs2afr06WpqatJtt92mF198UZI67AMAANc3h2VZVm8XYae8vDytWbOm2+flxl4AAHoXv9gLAACM\n",
              "RIgBAABGIsQAAAAjEWIAAICRCDEAAMBIhBgAAGAkQgwAADASIQYAABiJEAMAAIxEiAEAAEYixAAA\n",
              "ACMRYgAAgJEIMQAAwEiEGAAAYCRCDAAAMBIhBgAAGIkQAwAAjESIAQAARiLEAAAAIxFiAACAkQgx\n",
              "AADASIQYAABgJEIMAAAwEiEGAAAYiRADAACMRIgBAABGIsQAAAAjEWIAAICRCDEAAMBIhBgAAGAk\n",
              "QgwAADASIQYAABiJEAMAAIxEiAEAAEYixAAAACPZGmIWLVqkmJgYORwOlZWVtTlm8+bNSk5O9rRh\n",
              "w4YpMzNTkuRyueTn5+fVX1FRYWfJAADAEP52Tj5z5kwtXrxY3/rWt9odM3fuXM2dO9ezfdttt+nh\n",
              "hx/2bAcGBrYbgAAAwPXL1hAzceJEn8YfOHBANTU1mjZtWpfer6GhQQ0NDV77mpubuzQXAADo2/rU\n",
              "PTGFhYV65JFHdOONN3r2Xbx4UampqXI6nVq5cmWHoSQ/P1/BwcFe7eDBgz1ROgAA6GF9JsRcvHhR\n",
              "27Zt02OPPebZFxERoTNnzujQoUPavXu3SktLtXr16nbnWLp0qWpra71aWlpaT5QPAAB6WJ8JMa++\n",
              "+qrGjBmj0aNHe/YFBAQoLCxMkhQaGqp58+aptLS03TkCAgIUFBTk1fz8/GyvHQAA9Lw+E2IKCwu9\n",
              "rsJIUk1NjRobGyVdvd+luLhYKSkpvVEeAADoY2wNMbm5uYqMjFRVVZXuu+8+xcfHS5KysrJUUlLi\n",
              "GXf8+HGVlZXpwQcf9Hr9vn37lJKSoqSkJDmdToWHh2vZsmV2lgwAAAzhsCzL6u0i7JSXl6c1a9Z0\n",
              "+7wxP9vZ7XN+ybXqftvmBgCgv+gzHycBAAD4ghADAACMRIgBAABGIsQAAAAjEWIAAICRCDEAAMBI\n",
              "hBgAAGAkQgwAADASIQYAABiJEAMAAIxEiAEAAEYixAAAACMRYgAAgJEIMQAAwEiEGAAAYCRCDAAA\n",
              "MBIhBgAAGIkQAwAAjESIAQAARiLEAAAAIxFiAACAkQgxAADASIQYAABgJEIMAAAwEiEGAAAYiRAD\n",
              "AACMRIgBAABGIsQAAAAjEWIAAICRCDEAAMBIhBgAAGAkQgwAADASIQYAABiJEAMAAIxEiAEAAEay\n",
              "NcQsWrRIMTExcjgcKisra3PM3r17NWjQICUnJ3vapUuXPP2FhYUaOXKk4uLilJ2drcbGRjtLBgAA\n",
              "hrA1xMycOVP79u1TdHR0h+MSExNVVlbmaYMGDZIknTp1SsuXL1dpaanKy8t17tw5bdy40c6SAQCA\n",
              "IWwNMRMnTlRkZGSXX19UVKRp06YpPDxcDodD8+fP19atW9sd39DQoLq6Oq/W3Nzc5fcHAAB9V5+4\n",
              "J6aiokJOp1Opqalav369Z7/b7fa6ihMTEyO3293uPPn5+QoODvZqBw8etLV2AADQO3o9xDidTlVV\n",
              "VenIkSN67bXXtGHDBr3yyitdmmvp0qWqra31amlpad1cMQAA6At6PcQEBQUpODhYkhQZGamHHnpI\n",
              "paWlkqSoqCidPn3aM9blcikqKqrduQICAhQUFOTV/Pz87F0AAADoFb0eYqqrq9XS0iJJqq+v144d\n",
              "O5SSkiJJmjFjhkpKSnT27FlZlqUNGzZo1qxZvVkuAADoI2wNMbm5uYqMjFRVVZXuu+8+xcfHS5Ky\n",
              "srJUUlIiSdq+fbtuv/12JSUlKT09XZMmTdLcuXMlSbGxsVqxYoUmTJig+Ph4DR8+XLm5uXaWDAAA\n",
              "DOGwLMvq7SLslJeXpzVr1nT7vDE/29ntc37Jtep+2+YGAKC/6PWPkwAAALqCEAMAAIxEiAEAAEYi\n",
              "xAAAACMRYgAAgJEIMQAAwEiEGAAAYCRCDAAAMBIhBgAAGIkQAwAAjESIAQAARiLEAAAAIxFiAACA\n",
              "kQgxAADASIQYAABgJEIMAAAwEiEGAAAYiRADAACMRIgBAABGIsQAAAAjEWIAAICRCDEAAMBIhBgA\n",
              "AGAkQgwAADASIQYAABiJEAMAAIxEiAEAAEYixAAAACMRYgAAgJEIMQAAwEiEGAAAYCRCDAAAMBIh\n",
              "BgAAGIkQAwAAjESIAQAARrI1xCxatEgxMTFyOBwqKytrc8y7776rtLQ0jR49WmPGjNHixYvV0tIi\n",
              "SXK5XPLz81NycrKnVVRU2FkyAAAwhK0hZubMmdq3b5+io6PbHTNkyBBt27ZNx44d0wcffKD33ntP\n",
              "L730kqc/MDBQZWVlnhYXF2dnyQAAwBD+dk4+ceLEa45JSUnx/D1w4EAlJyfL5XJ16f0aGhrU0NDg\n",
              "ta+5ublLcwEAgL6tT90Tc/bsWRUVFem73/2uZ9/FixeVmpoqp9OplStXdhhK8vPzFRwc7NUOHjzY\n",
              "E6UDAIAe1mdCTF1dnR544AEtXrxYd9xxhyQpIiJCZ86c0aFDh7R7926VlpZq9erV7c6xdOlS1dbW\n",
              "erW0tLSeWgIAAOhBfSLE1NfXa/LkycrIyFBeXp5nf0BAgMLCwiRJoaGhmjdvnkpLS9udJyAgQEFB\n",
              "QV7Nz8/P9voBAEDP6/UQc+HCBU2ePFmTJ0/Wz3/+c6++mpoaNTY2Srp6v0txcbHXPTQAAOD6ZWuI\n",
              "yc3NVWRkpKqqqnTfffcpPj5ekpSVlaWSkhJJ0tq1a3Xw4EEVFxd7vkb91FNPSZL27dunlJQUJSUl\n",
              "yel0Kjw8XMuWLbOzZAAAYAiHZVlWbxdhp7y8PK1Zs6bb54352c5un/NLrlX32zY3AAD9Ra9/nAQA\n",
              "ANAVhBgAAGAkQgwAADASIQYAABjJ5xDz1ltv2VEHAACAT3wOMStXrlRiYqLWrl2ruro6O2oCAAC4\n",
              "Jp9DzH/9139p27Zt+vjjj5WQkKAFCxbo2LFjdtQGAADQri7dE5OSkqLnnntOb775pnbs2KGxY8dq\n",
              "0qRJ+utf/9rd9QEAALSpSyFm9+7dysjIUGZmpn70ox/p7Nmzys3N1fe+973urg8AAKBN/r6+4Jvf\n",
              "/KaGDRumRYsWKTMz0/OAxZkzZ6qwsLDbCwQAAGiLzyFmy5YtGjduXJt9u3bt+toFAQAAdIbPHyd9\n",
              "8MEH+vzzzz3bn332mZ577rluLQoAAOBafA4x69evV2hoqGd76NChWr9+fbcWBQAAcC0+h5i2Hnrd\n",
              "3NzcLcUAAAB0ls8hJiIiQq+88opn++WXX1ZERES3FgUAAHAtPt/Y+8wzzygjI0OLFy+WJN100016\n",
              "4403ur0wAACAjvgcYkaNGqVjx47p+PHjkqTExETP16wBAAB6is8hRpIcDodCQkLU1NSkM2fOSJKi\n",
              "oqK6tTAAAICO+BxiXnjhBS1atEg33nijbrjh6i01DodDNTU13V4cAABAe3wOMb/61a906NAhJSYm\n",
              "2lEPAABAp/j87aRhw4YRYAAAQK/zOcRMnz5dzzzzjGpqalRXV+dpAAAAPcnnj5OWLVsmScrLy5PD\n",
              "4ZBlWXI4HPzgHQAA6FE+h5iWlhY76gAAAPCJzx8nSVcfAvmHP/xBkvTFF1+ourq6W4sCAAC4li49\n",
              "AHLevHn65S9/KenqU6x/+MMfdnddAAAAHfI5xGzcuFHvv/++goKCJElxcXH629/+1u2FAQAAdMTn\n",
              "EBMQEKBBgwZ57fP379IP/wIAAHSZzyFm+PDh+vTTT+VwOCRd/QVfHjkAAAB6WpeeYv3QQw/pk08+\n",
              "0YgRIxQUFKQdO3bYURsAAEC7fA4x8fHxOnDggI4fPy7LsniKNQAA6BU+hxi32y1JuvnmmyWJp1gD\n",
              "AIBe4XOIGTdunOeXei9fvqy///3vGjp0KE+xBgAAPcrnEPOPX6cuLi7WRx991G0FAQAAdEaXfrH3\n",
              "qzIzM7Vz587uqAUAAKDTfA4xX31y9fnz5/Xmm2+2+xTrRYsWKSYmRg6HQ2VlZe3OWVhYqJEjRyou\n",
              "Lk7Z2dlqbGzsVB8AALh++RxiQkJCNGTIEIWEhCgsLEx5eXn6/e9/3+bYmTNnat++fYqOjm53vlOn\n",
              "Tmn58uUqLS1VeXm5zp07p40bN16zDwAAXN98DjEtLS1qbm5WS0uLGhsbdezYMU2ePLnNsRMnTlRk\n",
              "ZGSH8xUVFWnatGkKDw+Xw+HQ/PnztXXr1mv2taWhocHrSlFdXZ2am5t9XSIAADBArz8vwO12e12p\n",
              "iYmJ8XyNu6O+tuTn52vFihVe+9LT07u5YvQXMT+z714u16r7bZsb/8+uY8jxQ3/TX88Vn6/E3HDD\n",
              "DfLz82vVvtzfm5YuXara2lqvlpaW1qs1AQAAe/h8JWblypW6dOmSHn/8cUnShg0bNGjQIP34xz/u\n",
              "UgFRUVGqqKjwbLtcLs8P53XU15aAgAAFBAR47evtYAUAAOzh85WY1157TU899ZQiIyMVGRmpX//6\n",
              "1youLtbNN9/s+RVfX8yYMUMlJSU6e/asLMvShg0bNGvWrGv2AQCA65vPIaa+vt7r13lrampUX1/f\n",
              "5tjc3FxFRkaqqqpK9913n+Lj4yVJWVlZKikpkSTFxsZqxYoVmjBhguLj4zV8+HDl5uZesw8AAFzf\n",
              "fP446cknn1RSUpKmTp0qSXrzzTf1y1/+ss2xBQUFbe7ftGmT13Z2drays7PbHNtRHwAAuH75HGJy\n",
              "c3M1YcIE7dmzR5KUl5enMWPGdHthAAAAHenSV6yHDh2q22+/XXfffbeampp05coVDRgwoLtrAwAA\n",
              "aJfP98QUFRUpPT1dc+fOlSQdPXpU06dP7+66AAAAOuRziMnPz9eRI0cUEhIiSUpKStLp06e7uy4A\n",
              "AIAO+Rxi/Pz8NHToUK99fJQEAAB6ms8hJjAwUOfOnZPD4ZAkvfPOOwoNDe32wgAAADri8429v/3t\n",
              "bzVlyhSdPHlS3/rWt3Tq1Cnt3GnfM2gAAADa4lOI+fIJ1nv27NF7770ny7I0fvx4z/0xAAAAPcWn\n",
              "EHPDDTcoJydHH330kaZMmWJXTQAAANfk8z0xI0eOVHl5uR21AAAAdJrP98R8/vnnSk5O1vjx4zV4\n",
              "8GDP/uLi4m4tDAAAoCOdDjE5OTnauHGjHn30UU2bNk1Dhgyxsy4AAIAOdTrEHD58WJL06KOPyul0\n",
              "6siRI7YVBQAAcC0+3xMjSZZldXcdAAAAPun0lZhLly7pr3/9qyzL0uXLlz1/f2ns2LG2FAgAANAW\n",
              "n0LMtGnTPNtf/dvhcOjkyZPdWxkAAEAHOh1iXC6XjWUAAAD4pkv3xAAAAPQ2QgwAADASIQYAABiJ\n",
              "EAMAAIxEiAEAAEYixAAAACMRYgAAgJEIMQAAwEiEGAAAYCRCDAAAMBIhBgAAGIkQAwAAjESIAQAA\n",
              "RiLEAAAAIxFiAACAkQgxAADASIQYAABgJEIMAAAwkq0h5sSJExo/frwSEhKUmpqqo0ePthqzefNm\n",
              "JScne9qwYcOUmZkpSXK5XPLz8/Pqr6iosLNkAABgCH87J8/NzVVOTo7mzJmjoqIizZkzR4cOHfIa\n",
              "M3fuXM2dO9ezfdttt+nhhx/2bAcGBqqsrMzOMgEAgIFsuxJTU1Ojw4cPa/bs2ZKkGTNmqLKyUuXl\n",
              "5e2+5sCBA6qpqdG0adO69J4NDQ2qq6vzas3NzV2aCwAA9G22hZjKykpFRETI3//qxR6Hw6GoqCi5\n",
              "3e52X1NYWKhHHnlEN954o2ffxYsXlZqaKqfTqZUrV3YYSvLz8xUcHOzVDh482H2LAgAAfUafubH3\n",
              "4sWL2rZtmx577DHPvoiICJ05c0aHDh3S7t27VVpaqtWrV7c7x9KlS1VbW+vV0tLSeqJ8AADQw2wL\n",
              "MSNGjFB1dbWampokSZZlye12Kyoqqs3xr776qsaMGaPRo0d79gUEBCgsLEySFBoaqnnz5qm0tLTd\n",
              "9wwICFBQUJBX8/Pz68ZVAQCAvsK2EBMWFian06ktW7ZIkrZv367IyEjFx8e3Ob6wsNDrKox09b6a\n",
              "xsZGSVfvdykuLlZKSopdJQMAAIPY+nFSQUGBCgoKlJCQoFWrVmnz5s2SpKysLJWUlHjGHT9+XGVl\n",
              "ZXrwwQe9Xr9v3z6lpKQoKSlJTqdT4eHhWrZsmZ0lAwAAQ9j6FevExETt37+/1f5Nmza1GldfX99q\n",
              "XGZmpuc3YwAAAL6qz9zYCwAA4AtCDAAAMBIhBgAAGIkQAwAAjESIAQAARiLEAAAAIxFiAACAkQgx\n",
              "AADASIQYAABgJEIMAAAwEiEGAAAYiRADAACMRIgBAABGIsQAAAAjEWIAAICRCDEAAMBIhBgAAGAk\n",
              "QgwAADASIQYAABiJEAMAAIxEiAEAAEYixAAAACMRYgAAgJEIMQAAwEiEGAAAYCRCDAAAMBIhBgAA\n",
              "GIkQAwAAjESIAQAARiLEAAAAIxFiAACAkQgxAADASIQYAABgJEIMAAAwEiEGAAAYydYQc+LECY0f\n",
              "P14JCQlKTU3V0aNHW43Zu3evBg0apOTkZE+7dOmSp7+wsFAjR45UXFycsrOz1djYaGfJAADAELaG\n",
              "mNzcXOXk5OjTTz/VkiVLNGfOnDbHJSYmqqyszNMGDRokSTp16pSWL1+u0tJSlZeX69y5c9q4caOd\n",
              "JQMAAEPYFmJqamp0+PBhzZ49W5I0Y8YMVVZWqry8vNNzFBUVadq0aQoPD5fD4dD8+fO1devWdsc3\n",
              "NDSorq7OqzU3N3/ttQAAgL7HthBTWVmpiIgI+fv7S5IcDoeioqLkdrtbja2oqJDT6VRqaqrWr1/v\n",
              "2e92uxUdHe3ZjomJafP1X8rPz1dwcLBXO3jwYDeuCgAA9BW9fmOv0+lUVVWVjhw5otdee00bNmzQ\n",
              "K6+80qW5li5dqtraWq+WlpbWzRUDAIC+wLYQM2LECFVXV6upqUmSZFmW3G63oqKivMYFBQUpODhY\n",
              "khQZGamHHnpIpaWlkqSoqCidPn3aM9blcrV6/VcFBAQoKCjIq/n5+XX30gAAQB9gW4gJCwuT0+nU\n",
              "li1bJEnbt29XZGSk4uPjvcZVV1erpaVFklRfX68dO3YoJSVF0tX7aEpKSnT27FlZlqUNGzZo1qxZ\n",
              "dpUMAAAMYuvHSQUFBSooKFBCQoJWrVqlzZs3S5KysrJUUlIi6Wq4uf3225WUlKT09HRNmjRJc+fO\n",
              "lSTFxsZqxYoVmjBhguLj4zV8+HDl5ubaWTIAADCEv52TJyYmav/+/a32b9q0yfP3woULtXDhwnbn\n",
              "yM7OVnZ2ti31AQAAc/X6jb0AAABdQYgBAABGIsQAAAAjEWIAAICRCDEAAMBIhBgAAGAkQgwAADAS\n",
              "IQYAABiJEAMAAIxEiAEAAEYixAAAACMRYgAAgJEIMQAAwEiEGAAAYCRCDAAAMBIhBgAAGIkQAwAA\n",
              "jESIAQAARiLEAAAAIxFiAACAkQgxAADASIQYAABgJEIMAAAwEiEGAAAYiRADAACMRIgBAABGIsQA\n",
              "AAAjEWIAAICRCDEAAMBIhBgAAGAkQgwAADASIQYAABiJEAMAAIxEiAEAAEYixAAAACPZGmJOnDih\n",
              "8ePHKyEhQampqTp69GirMe+++67S0tI0evRojRkzRosXL1ZLS4skyeVyyc/PT8nJyZ5WUVFhZ8kA\n",
              "AMAQtoaY3Nxc5eTk6NNPP9WSJUs0Z86cVmOGDBmibdu26dixY/rggw/03nvv6aWXXvL0BwYGqqys\n",
              "zNPi4uLsLBkAABjCthBTU1Ojw4cPa/bs2ZKkGTNmqLKyUuXl5V7jUlJSFBsbK0kaOHCgkpOT5XK5\n",
              "uvSeDQ0Nqqur82rNzc1fax0AAKBvsi3EVFZWKiIiQv7+/pIkh8OhqKgoud3udl9z9uxZFRUV6bvf\n",
              "/a5n38WLF5Wamiqn06mVK1d2GEry8/MVHBzs1Q4ePNh9iwIAAH1Gn7mxt66uTg888IAWL16sO+64\n",
              "Q5IUERGhM2fO6NChQ9q9e7dKS0u1evXqdudYunSpamtrvVpaWlpPLQEAAPQg20LMiBEjVF1draam\n",
              "JkmSZVlyu92KiopqNba+vl6TJ09WRkaG8vLyPPsDAgIUFhYmSQoNDdW8efNUWlra7nsGBAQoKCjI\n",
              "q/n5+XXzygAAQF9gW4gJCwuT0+nUli1bJEnbt29XZGSk4uPjvcZduHBBkydP1uTJk/Xzn//cq6+m\n",
              "pkaNjY2Srt7vUlxcrJSUFLtKBgAABrH146SCggIVFBQoISFBq1at0ubNmyVJWVlZKikpkSStXbtW\n",
              "Bw8eVHFxsedr1E899ZQkad++fUpJSVFSUpKcTqfCw8O1bNkyO0sGAACG8Ldz8sTERO3fv7/V/k2b\n",
              "Nnn+XrZsWbvBJDMzU5mZmbbVBwAAzNVnbuwFAADwBSEGAAAYiRADAACMRIgBAABGIsQAAAAjEWIA\n",
              "AICRCDEAAMBIhBgAAGAkQgwAADASIQYAABiJEAMAAIxEiAEAAEYixAAAACMRYgAAgJEIMQAAwEiE\n",
              "GAAAYCRCDAAAMBIhBgAAGIkQAwAAjESIAQAARiLEAAAAIxFiAACAkQgxAADASIQYAABgJEIMAAAw\n",
              "EiEGAAAYiRADAACMRIgBAABGIsQAAAAjEWIAAICRCDEAAMBIhBgAAGAkQgwAADASIQYAABiJEAMA\n",
              "AIxka4g5ceKExo8fr4SEBKWmpuro0aNtjissLNTIkSMVFxen7OxsNTY2dqoPAABcv2wNMbm5ucrJ\n",
              "ydGnn36qJUuWaM6cOa3GnDp1SsuXL1dpaanKy8t17tw5bdy48Zp9AADg+mZbiKmpqdHhw4c1e/Zs\n",
              "SdKMGTNUWVmp8vJyr3FFRUWaNm2awsPD5XA4NH/+fG3duvWafW1paGhQXV2dV2tubrZriQAAoBf5\n",
              "2zVxZWWlIiIi5O9/9S0cDoeioqLkdrsVHx/vGed2uxUdHe3ZjomJkdvtvmZfW/Lz87VixQqvfaNG\n",
              "jVJeXl63rOlLzc3Nijh4UGlpafLz8+vWuSUpL++dbp/TV83NzTpo4xp7W38/hv39+En2HsPePn7S\n",
              "9XMM+/Ma+9L6Mm2Ys7m5WXfe+Wvb1hcdHa0nnniiwzG2hZjesHTp0laBJSAgQAEBAd36PnV1dQoO\n",
              "DtZbb72loKCgbp27r+jva2R95uvva+zv65P6/xpZn/1sCzEjRoxQdXW1mpqa5O/vL8uy5Ha7FRUV\n",
              "5TUuKipKFRUVnm2Xy+UZ01FfW+wILAAAoG+y7Z6YsLAwOZ1ObdmyRZK0fft2RUZGen2UJF29V6ak\n",
              "pERnz56VZVnasGGDZs2adc0+AABwfbP120kFBQUqKChQQkKCVq1apc2bN0uSsrKyVFJSIkmKjY3V\n",
              "ihUrNGHCBMXHx2v48OHKzc29Zh8AALi+2XpPTGJiovbv399q/6ZNm7y2s7OzlZ2d3eYcHfX1loCA\n",
              "AP3iF7/o1x9d9fc1sj7z9fc19vf1Sf1/jazPfg7Lsqxee3cAAIAu4rEDAADASIQYAABgJEIMAAAw\n",
              "EiEGAAAYiRDTge54Cndf15k17t27V4MGDVJycrKnXbp0qReq9c2iRYsUExMjh8OhsrKydseZfPw6\n",
              "s0ZTj58kXb58WdOnT1dCQoKSkpI0adKkVs9f+9KOHTs0atQojRw5UpmZmaqrq+vhan3X2fW5XC75\n",
              "+fl5HcOv/hBoX/cv//IvGjt2rJKTk/Xtb39bH374YZvjTD0XO7M+k8/DL23evFkOh0Ovv/56m/29\n",
              "cg5aaNd3vvMda/PmzZZlWdarr75q3XHHHa3GnDx50oqIiLCqq6utlpYW64EHHrD+4z/+o4cr7brO\n",
              "rHHPnj1WUlJSzxbWDf70pz9ZlZWVVnR0tPXhhx+2Ocb049eZNZp6/CzLsi5dumTt3LnTamlpsSzL\n",
              "statW2fdddddrcbV19dbYWFh1n//939blmVZP/rRj6yf/OQnPVlql3R2fadOnbKCg4N7trhudP78\n",
              "ec/fxcXF1tixY1uNMflc7Mz6TD4PLevq/8E777zTSk9Pt1577bVW/b11DnIlph3d8RTuvq6zazTV\n",
              "xIkTFRkZ2eEYk4+f1Lk1mmzgwIGaOnWqHA6HJCk9PV0ul6vVuF27diklJUWjRo2SJC1YsMCI49jZ\n",
              "9ZkuJCTE83dtba1nvV9l8rnYmfWZrKWlRVlZWVq3bl27vwnTW+cgIaYdHT2F+6t8fdJ2X9LZNUpS\n",
              "RUWFnE6nUlNTtX79+p4u1TYmHz9f9Jfjt3btWmVkZLTa39Zx/PLZbSZpb32SdPHiRaWmpsrpdGrl\n",
              "ypVqbm7u4eq+nn/913/ViBEjtHz5cv3hD39o1W/6uXit9Unmnodr1qzRhAkTNG7cuHbH9NY52K+e\n",
              "Yg17OJ1OVVVVKTg4WFVVVZo6daqGDRumH/zgB71dGjqhvxy/3/zmNyovL9c777zT26XYoqP1RURE\n",
              "6MyZMwoLC9Pnn3+uBx98UKtXr9bixYt7odKueemllyRJL774opYsWaI//vGPvVxR97rW+kw9Dz/+\n",
              "+GNt375df/7zn3u7lDZxJaYdX30Kt6QOn8J9+vRpz/a1nrTdl3R2jUFBQQoODpYkRUZG6qGHHlJp\n",
              "aWmP12sHk49fZ/WH4/f000+ruLhYu3bt0k033dSqv63j+NWrjH3dtdYXEBCgsLAwSVJoaKjmzZtn\n",
              "3DH80qOPPqo9e/bos88+89rfX87F9tZn6nlYWloql8ulkSNHKiYmRu+//75ycnL07LPPeo3rrXOQ\n",
              "ENOO7ngKd1/X2TVWV1erpaVFklRfX68dO3YoJSWlx+u1g8nHr7NMP35r1qzR1q1b9fbbb3vde/BV\n",
              "kydP1pEjR/TJJ59IktavX2/McezM+mpqajzf1GloaFBxcbExx/CLL77Q//zP/3i2X3/9dQ0dOlSh\n",
              "oaFe40w9Fzu7PlPPw8cff1zV1dVyuVxyuVxKT0/Xxo0b9fjjj3uN67Vz0PZbhw32ySefWOnp6dbI\n",
              "kSOtcePGWX/5y18sy7Ksxx57zHrjjTc84zZu3GjFxsZasbGx1rx586wrV670Vsk+68wa161bZ40e\n",
              "PdoaO3asNXr0aOsXv/iF59sUfVlOTo516623Wn5+flZYWJgVFxdnWVb/On6dWaOpx8+yLKuystKS\n",
              "ZMXGxlpJSUlWUlKSlZaWZlmWZS1fvtx69tlnPWPfeOMNKzEx0YqLi7MyMjKsL774orfK7rTOrm/7\n",
              "9u3WmDFjPMdw4cKF1uXLl3uz9E5zuVxWamqqddttt1ljx4617r33Xs836frDudjZ9Zl8Hn7VXXfd\n",
              "5fl2Ul84B3kAJAAAMBIfJwEAACMRYgAAgJEIMQAAwEiEGAAAYCRCDAAAMBIhBgAAGIkQAwAAjESI\n",
              "AQAARiLEAAAAIxFiAACAkf4PBmQUb6Mhz+IAAAAASUVORK5CYII=\n",
              "\">\n",
              "      </div>\n",
              "      <script type=\"text/javascript\">\n",
              "        (() => {\n",
              "          const chartElement = document.getElementById(\"chart-f8eab84b-7a9a-415e-a01c-6c18466ce3cc\");\n",
              "          async function getCodeForChartHandler(event) {\n",
              "            const chartCodeResponse =  await google.colab.kernel.invokeFunction(\n",
              "                'getCodeForChart', [\"chart-f8eab84b-7a9a-415e-a01c-6c18466ce3cc\"], {});\n",
              "            const responseJson = chartCodeResponse.data['application/json'];\n",
              "            await google.colab.notebook.addCell(responseJson.code, 'code');\n",
              "          }\n",
              "          chartElement.onclick = getCodeForChartHandler;\n",
              "        })();\n",
              "      </script>\n",
              "      <style>\n",
              "        .colab-quickchart-chart-with-code  {\n",
              "            display: block;\n",
              "            float: left;\n",
              "            border: 1px solid transparent;\n",
              "        }\n",
              "\n",
              "        .colab-quickchart-chart-with-code:hover {\n",
              "            cursor: pointer;\n",
              "            border: 1px solid #aaa;\n",
              "        }\n",
              "      </style>"
            ]
          },
          "metadata": {}
        },
        {
          "output_type": "display_data",
          "data": {
            "text/plain": [
              "<google.colab._quickchart_helpers.SectionTitle at 0x7a6c42f7a410>"
            ],
            "text/html": [
              "<h4 class=\"colab-quickchart-section-title\">Categorical distributions</h4>\n",
              "<style>\n",
              "  .colab-quickchart-section-title {\n",
              "      clear: both;\n",
              "  }\n",
              "</style>"
            ]
          },
          "metadata": {}
        },
        {
          "output_type": "display_data",
          "data": {
            "text/plain": [
              "from matplotlib import pyplot as plt\n",
              "import seaborn as sns\n",
              "_df_1.groupby('id_code').size().plot(kind='barh', color=sns.palettes.mpl_palette('Dark2'))\n",
              "plt.gca().spines[['top', 'right',]].set_visible(False)"
            ],
            "text/html": [
              "      <div class=\"colab-quickchart-chart-with-code\" id=\"chart-63e29f33-4758-4dab-a064-05fd3600b413\">\n",
              "        <img style=\"width: 180px;\" src=\"data:image/png;base64,iVBORw0KGgoAAAANSUhEUgAAAm0AAAGZCAYAAADb4AYsAAAAOXRFWHRTb2Z0d2FyZQBNYXRwbG90\n",
              "bGliIHZlcnNpb24zLjguMCwgaHR0cHM6Ly9tYXRwbG90bGliLm9yZy81sbWrAAAACXBIWXMAAA9h\n",
              "AAAPYQGoP6dpAAAwDUlEQVR4nO3de3zPdf/H8ed3G5PrsimMZWaNDTtbtlBTpEg59HMoJhbaXH7I\n",
              "pcKuCB2o6KDTj7q0S3RJ0cFFmUKsWwfDDk6NyYwMC23Odvj8/vDrc137mZm1We953G+37y37nL6v\n",
              "74dbe9w+3+9nc1iWZQkAAAB/aE7VPQAAAAAuj2gDAAAwANEGAABgAKINAADAAEQbAACAAYg2AAAA\n",
              "AxBtAAAABiDaAAAADEC0AQAAGIBoq2HmzJlT3SMAAIAqQLTVMPv27avuEQAAQBUg2gAAAAxAtAEA\n",
              "ABiAaAMAADAA0QYAAGAAog0AAMAARBsAAIABiDYAAAADEG0AAAAGINoAAAAMQLQBAAAYgGgDAAAw\n",
              "ANEGAABgAKINAADAAEQbAACAAYg2AAAAAxBtAAAABnBYlmVV9xCoPCE93NThoeurewwAAGqUeQP3\n",
              "VfcIXGkDAAAwAdEGAABgAKINAADAAEQbAACAAYg2AAAAAxBtAAAABiDaAAAADEC0AQAAGIBoAwAA\n",
              "MADRBgAAYACiDQAAwABEGwAAgAGINgAAAAMQbQAAAAao8mjbvXu3OnbsKH9/f0VERGj79u1lLpck\n",
              "Hx8ftWrVSmFhYQoLC9OSJUvsdQ6HQ7/++mupz7Vq1Sq1a9dOISEhat++vdLS0ux1d9xxh2666Sb7\n",
              "mK+88splZ//b3/6m1q1bKzQ0VO3atVNiYqK9Ljc3Vz179lRISIjatGmjoUOH6syZM5KkM2fOaMiQ\n",
              "IQoKClJQUJB69eql3NxcSdLXX3+t6667zp4jLCzM3m/t2rWKjIxUQECAAgMDNWHCBBUXF5fzTAMA\n",
              "gJqsyqMtLi5OsbGx2rVrlyZOnKiYmJgyl/9myZIlSk1NVWpqqh544IHLPs/x48cVHR2tBQsWKD09\n",
              "XbNmzVJ0dHSJbV555RX7mH/9618ve8yoqCilpKQoLS1N8+fP14ABA3Tq1ClJ0nPPPSc/Pz+lp6dr\n",
              "27ZtOnz4sBISEiRJ8+bN0+nTp7V161Zt27ZNjRs31qxZs+zjtmrVyp4jNTVV1113nSTp+uuv1wcf\n",
              "fKAdO3Zo8+bN+vbbb/Xee+9ddk4AAFDzVWm0HTlyRJs2bdLgwYMlSX379tX+/fu1cePGUpdnZmaW\n",
              "67izZ89W27Zt5e/vr/fff1+StGfPHjVo0ECBgYGSLgRXdna2tmzZctnj7dy5U926dVNISIhCQkI0\n",
              "d+5cSdI999xjB1VwcLAsy7KvmDkcDp04cULFxcU6f/68Tp8+LS8vL3vd6dOnVVBQoMLCQp08edJe\n",
              "V5a2bdvK19dXklSnTh2FhYUpKyurXOcEAADUbFUabfv375enp6dcXFwkXYgZb29vJSUllbo8Ozvb\n",
              "3nfIkCEKDg7W8OHD7VD6jcPhUEpKilatWqUxY8YoKytLfn5+Onr0qL799ltJ0vLly3XixIkS0TNp\n",
              "0iQFBwfrgQce0E8//SRJKiwsVO/evRUTE6P09HSlp6erX79+F72WhIQE+fr6qnnz5pKkKVOmKDMz\n",
              "U02aNJGHh4fatGmjXr16SbpwFbFevXry8PBQ48aNlZeXp9GjR9vH2rNnj8LDwxUREaG33nqr1HN3\n",
              "6NAhLV26VPfdd98lz++5c+eUn59f4lFcbF1yewAAYK4/5I0IGzZsUHp6urZs2aKGDRtq6NChJdaP\n",
              "GDFCkuTr66tOnTppw4YNcnd319KlSxUfH6+bb75Zq1evVkBAgB2GCxcu1I8//qj09HRFRUXZMZSR\n",
              "kaGzZ89q4MCB9vEbNmxY4vnWrFmj6dOna8mSJXI4HJKkDz74QAEBAcrJydHBgwe1a9cu/f3vf5ck\n",
              "rV69WsXFxTp06JBycnJUv359PfXUU5Kk8PBwHThwQFu2bNEnn3yiuXPn6sMPPyzxfPn5+erZs6cm\n",
              "TJigdu3aXfI8zZw5U+7u7iUeuXvOX/H5BgAAf3xVGm3NmjVTTk6OCgsLJUmWZSk7O1tRUVGlLvf2\n",
              "9pYk+7+1atXSuHHjlJSUVObz/BZSnTt31vr167V582a99NJLOnjwoAICAuxZftt29OjR+umnn3T0\n",
              "6NHLvob169fr4Ycf1r/+9S+1atXKXv7WW28pOjpazs7Oqlevnvr166d169ZJkt5++23df//9qlOn\n",
              "jmrXrq3o6Gh7nZubm9zd3SVJXl5eGjhwYInXd+LECXXv3l29e/fW+PHjy5wtPj5eeXl5JR6NWtS+\n",
              "7GsCAADmqdJo8/DwUHh4uBYtWiRJWrZsmby8vBQZGVnq8pYtW+rUqVMl7g5dvHix2rZtW+K4v33g\n",
              "PysrS0lJSYqKipIk5eTk2Ns888wz6tKli1q2bKnCwkIdPnzYXrds2TI1btxYDRo0UKtWrVS3bl0t\n",
              "XrzYXv/LL79IunDF76GHHtJnn32m0NDQEjP4+vpq1apVkqSCggIlJiYqKCjIXrd69WpZliXLsrRy\n",
              "5Up7XU5Ojn1H6IkTJ7RixQr79Z08eVLdu3dX9+7dNXny5MueX1dXV7m5uZV4ODk5LrsfAAAwj8Oy\n",
              "rCr9EFRGRoZiYmJ09OhRubm5KSEhQcHBwZdc/tNPP6lv374qKiqSZVny9fXVnDlz5OPjc2Fgh0OT\n",
              "J0/WihUrdOrUKU2dOtW+S/SRRx5RUlKSCgsL1aFDB73++uuqX7++Tp06pdtvv13nzp2Tk5OTGjZs\n",
              "qJdfftkOsYyMDI0ZM0Y5OTlycnLSqFGjFBcXJz8/P+Xn58vT09N+PQsXLlRwcLD27t2rkSNH6uDB\n",
              "gyoqKlKHDh305ptvqk6dOjp27JhiY2O1c+dOSVLr1q01b948NWzYUG+88Yb+53/+Ry4uLiosLFT/\n",
              "/v01depUORwOPffcc5o2bZp9M4Uk9e/fX08++WS5z3dIDzd1eOj63/vXBgAA/sO8gfuqe4SqjzZc\n",
              "XUQbAACV748QbX/IGxEAAABQEtEGAABgAKINAADAAEQbAACAAYg2AAAAAxBtAAAABiDaAAAADEC0\n",
              "AQAAGIBoAwAAMADRBgAAYACiDQAAwABEGwAAgAGINgAAAAO4VPcAqFxdW4/QywNfru4xAABAJeNK\n",
              "GwAAgAGINgAAAAMQbQAAAAYg2gAAAAxAtAEAABiAaAMAADAA0QYAAGAAog0AAMAARBsAAIABiDYA\n",
              "AAADEG0AAAAGINoAAAAMQLQBAAAYgGgDAAAwANEGAABgAKINAADAAEQbAACAAYg2AAAAAxBtAAAA\n",
              "BiDaAAAADEC0AQAAGIBoAwAAMADRBgAAYACiDQAAwABEGwAAgAGINgAAAAMQbQAAAAYg2gAAAAxA\n",
              "tAEAABiAaAMAADAA0QYAAGAAog0AAMAARBsAAIABiDYAAAADEG0AAAAGINoAAAAM4FLdA6BynVqw\n",
              "SYdWzaruMQAAqFGa7HiiukfgShsAAIAJiDYAAAADEG0AAAAGINoAAAAMQLQBAAAYgGgDAAAwANEG\n",
              "AABgAKINAADAAEQbAACAAYg2AAAAAxBtAAAABiDaAAAADEC0AQAAGIBoAwAAMMBVibbdu3erY8eO\n",
              "8vf3V0REhLZv317m8rNnz6pPnz7y9/dXaGio7rrrLmVmZl72ef72t7+pdevWCg0NVbt27ZSYmGiv\n",
              "W7lypW6++Wa5urpq3LhxJfZ78803FRwcrLCwMAUFBem1116z102bNk2NGjVSWFiYwsLCFB0dba/L\n",
              "zc1Vz549FRISojZt2mjo0KE6c+bM7zlVWr9+vSIiIhQYGKiAgAB99913v+t4AACgZrgq0RYXF6fY\n",
              "2Fjt2rVLEydOVExMTJnLJSk2NlYZGRlKS0tT7969NWLEiMs+T1RUlFJSUpSWlqb58+drwIABOnXq\n",
              "lCTJz89P7777rp544omL9hs8eLC2bt2q1NRUffvtt5o9e7ZSUlLs9dHR0UpNTVVqaqref/99e/lz\n",
              "zz0nPz8/paena9u2bTp8+LASEhIqeJakgwcPaujQoXrvvfe0fft2paSkqE2bNhU+HgAAqDmqPNqO\n",
              "HDmiTZs2afDgwZKkvn37av/+/dq4cWOpyzMzM1WnTh316NFDDodDktS+fXtlZWXZx9y5c6e6deum\n",
              "kJAQhYSEaO7cuZKke+65R9ddd50kKTg4WJZlKTc3V5Lsq3YuLi4Xzeju7m7/+dSpUyooKCjXa3M4\n",
              "HDpx4oSKi4t1/vx5nT59Wl5eXpKk8+fP64knnlBQUJBCQ0PVvXt3e7/Zs2crMjJS4eHh6t69u/bt\n",
              "2ydJeuuttzRo0CA71FxdXVW/fv1yzQIAAGq2Ko+2/fv3y9PT044lh8Mhb29vJSUllbo8Ozv7omPM\n",
              "mTNHvXv3liQVFhaqd+/eiomJUXp6utLT09WvX7+L9klISJCvr6+aN29erjmXLl2qwMBA+fj46PHH\n",
              "H1fbtm3tdR999JFCQ0PVpUsXrVu3zl4+ZcoUZWZmqkmTJvLw8FCbNm3Uq1cvSdLMmTO1a9cubd68\n",
              "WWlpaVq4cKEk6Z///KcyMjL03XffacuWLYqOjtaoUaMkSTt27NCZM2fUtWtXhYWFacyYMfaVwtKc\n",
              "O3dO+fn5JR5FVnG5Xi8AADDLH/5GhBkzZigzM1MzZ86UJGVkZOjs2bMaOHCgvU3Dhg1L7LNmzRpN\n",
              "nz5dS5Yssa/WXU6/fv20fft2ZWRkaNGiRcrIyJAkjRw5UllZWUpLS9MzzzyjBx54wL4y9sEHHygg\n",
              "IEA5OTk6ePCgdu3apb///e+SpBUrVujRRx+Vq6urJKlRo0aSpE8//VRfffWVbr75ZoWFhenFF1+0\n",
              "Q7WwsFAbNmzQRx99pOTkZB0/flxTp0695MwzZ86Uu7t7iUfqmf3ler0AAMAsVR5tzZo1U05OjgoL\n",
              "CyVJlmUpOztbUVFRpS739va29509e7Y+/vhjffHFF6pbt265nm/9+vV6+OGH9a9//UutWrW64nl9\n",
              "fHx0yy23aMWKFZKkJk2aqFatWpKkW2+9VW3bttWmTZskXXg7Mzo6Ws7OzqpXr5769etX4kpcaSzL\n",
              "Unx8vP0Zua1bt2rr1q2SJG9vb9177726/vrrVatWLQ0cOFDff//9JY8VHx+vvLy8Eo+w65pd8WsG\n",
              "AAB/fFUebR4eHgoPD9eiRYskScuWLZOXl5f9ma7/v7xly5aSpJdfflmLFy/Wl19+WeJzXa1atVLd\n",
              "unW1ePFie9kvv/wiSdqwYYMeeughffbZZwoNDS33jDt27LD/nJubq7Vr1yokJESSdODAAXvd7t27\n",
              "lZqaquDgYEmSr6+vVq1aJUkqKChQYmKigoKCJEm9evXSnDlzdO7cOfu4ktSnTx/NnTtXx44ds/f7\n",
              "7aaHQYMGad26dfY+X3zxRZmvw9XVVW5ubiUezo4//MVTAABQAQ7LsqyqfpKMjAzFxMTo6NGjcnNz\n",
              "U0JCgoKDgy+5/MCBA2rWrJl8fX1Vr149SRcC5YcffrCPN2bMGOXk5MjJyUmjRo1SXFyc/Pz8lJ+f\n",
              "L09PT/u5Fy5cqODgYK1Zs0ZDhw5Vfn6+LMuSu7u73nrrLfXq1UtxcXFKSkpS7dq1ZVmW4uLi7M+Z\n",
              "DR06VJs3b5aLi4ucnZ0VHx9vf4Zu7969GjlypA4ePKiioiJ16NBBb775purUqaPz58/rySef1Oef\n",
              "f65atWrpxhtv1Oeffy5Jeu211zR//nxJF94SHTZsmB577DFJ0qxZs5SQkCBnZ2cFBgZq7ty5V3Qz\n",
              "QlyDTpreuOfv+wsDAAAlNNlx8U+fuNquSrTh6iHaAACofH+EaOO9NAAAAAMQbQAAAAYg2gAAAAxA\n",
              "tAEAABiAaAMAADAA0QYAAGAAog0AAMAARBsAAIABiDYAAAADEG0AAAAGINoAAAAMQLQBAAAYgGgD\n",
              "AAAwgEt1D4DK9aeh7dTk5SeqewwAAFDJuNIGAABgAKINAADAAEQbAACAAYg2AAAAAxBtAAAABiDa\n",
              "AAAADEC0AQAAGIBoAwAAMADRBgAAYACiDQAAwABEGwAAgAGINgAAAAMQbQAAAAYg2gAAAAxAtAEA\n",
              "ABiAaAMAADAA0QYAAGAAog0AAMAARBsAAIABiDYAAAADEG0AAAAGINoAAAAMQLQBAAAYgGgDAAAw\n",
              "ANEGAABgAKINAADAAEQbAACAAYg2AAAAAxBtAAAABiDaAAAADEC0AQAAGIBoAwAAMADRBgAAYACi\n",
              "DQAAwABEGwAAgAEqHG0FBQXas2dPZc4CAACAS3BYlmVd6U5ff/21Bg0aJBcXF2VnZys5OVlz5szR\n",
              "okWLqmJGXIF24X3U5fYR1T0GAAA1youv3FfdI1TsStukSZOUlJSkBg0aSJIiIiKUkpJSqYMBAADg\n",
              "3yoUbUVFRWrRokWJZbVr166UgQAAAHCxCkVbnTp1dPLkSTkcDknS1q1bdd1111XqYAAAAPg3l4rs\n",
              "NGXKFN199936+eefNXjwYH311Vf65z//WdmzAQAA4P9UKNruvvtu+fn5adWqVbIsS9OnT7/o7VIA\n",
              "AABUngpFmyTddNNN+stf/lKZswAAAOASrijabrrpJvtzbKX56aeffvdAAAAAuNgVRduKFSskSR98\n",
              "8IGysrIUFxcnSXrnnXfUvHnzyp8OAAAAkq4w2gIDAyVJq1atUnJysr381ltvVWRkpJ5++unKnQ4A\n",
              "AACSKvgjP/Ly8nTq1Cn761OnTikvL6/ShgIAAEBJFboRYdCgQWrfvr0GDBggSfroo480ePDgSh0M\n",
              "AAAA/1ahaJs2bZoiIiK0du1aSdILL7yge+65p1IHAwAAwL9V+Ed+3HvvvWrbtq0k6cYbb6y0gQAA\n",
              "AHCxCn2mbefOnQoMDFRQUJCCgoIUHBysH3/8sbJnAwAAwP+pULSNGjVKTz75pI4dO6Zjx47pySef\n",
              "vOwP2t29e7c6duwof39/RUREaPv27WUuP3v2rPr06SN/f3+FhobqrrvuUmZm5kXHXbt2rZydnfXq\n",
              "q69e8et4/PHHNW3atMtuFxMTc8njFxcXa8yYMWrRooVatmypN95447LHS05OVseOHVW3bl316dPn\n",
              "yoYGAADXpApF2/HjxzVo0CD76wcffFDHjx8vc5+4uDjFxsZq165dmjhxomJiYspcLkmxsbHKyMhQ\n",
              "WlqaevfurREjRpQ4Zl5eniZNmqQePXpU5GVUikWLFmnHjh3atWuXNm7cqFmzZtnheSmenp569dVX\n",
              "9corr1ylKQEAgOkqFG3Ozs7asWOH/fWOHTvk7Ox8ye2PHDmiTZs22XeY9u3bV/v379fGjRtLXZ6Z\n",
              "mak6deqoR48e9m9gaN++vbKyskocd/To0Zo8ebIaNGhQYvnPP/+sfv36KTg4WCEhIZoyZYokKScn\n",
              "R926dVNAQIC6du2qAwcO2PusWbNGHTp0UNu2bRUYGKj58+eXOGZ6erp9RXDo0KE6c+aMJGnJkiV6\n",
              "5JFH5OzsrBtuuEEPPPCAFi9eLOlCVI4YMUJBQUEKDQ3VsGHDJEleXl6KjIyUq6vrReeqoKBAkyZN\n",
              "UmRkpMLCwjRgwIBLBvG5c+eUn59f4mEVF1/y7wEAAJirQtE2Y8YMderUSV26dFGXLl10++23a+bM\n",
              "mZfcfv/+/fL09JSLy4X7HhwOh7y9vZWUlFTq8uzs7IuOMWfOHPXu3dv+eunSpXJyclKvXr0u2nbw\n",
              "4MG6+eabtXXrVqWnp2vs2LGSpLFjxyoyMlI7duzQggULtGbNGnuf8PBwffPNN0pJSVFSUpKefvrp\n",
              "ElH3ww8/KDExUTt37tSxY8fsq2TZ2dklfhuEj4+PPf+4ceNUu3ZtpaenKy0tTS+88MJlz+2sWbP0\n",
              "pz/9SRs3blRqaqqCg4M1efLkUredOXOm3N3dSzxyDu+67HMAAADzVOju0W7dumnnzp364YcfJF24\n",
              "CtawYcNKHew/zZgxQ5mZmXZkHTp0SM8++6y+/vrri7Y9efKkvvnmGyUmJtrLGjVqJOnC1bTZs2dL\n",
              "kpo2bVoi+I4eParhw4dr165dcnFx0dGjR7Vt2zZ5eXlJkgYMGKB69epJkoYPH67XXntNf/vb38qc\n",
              "e8WKFfrhhx/k5ORUYo6yfPrpp8rLy9OyZcskSefPn5ePj0+p28bHx2v8+PEllnXuxM/LAwCgJqpQ\n",
              "tCUnJ6t169a67777JEn5+fnatGmT2rVrV+r2zZo1U05OjgoLC+Xi4iLLspSdna2oqChNnz79ouXe\n",
              "3t72vrNnz9bHH3+sr776SnXr1pUkbd68WTk5OQoLC5Mk/fLLL1q+fLlyc3MVHx9f7tfx21uvkjRy\n",
              "5Ej16NFDy5Ytk8PhUHh4uM6ePXvZfb29vbVv3z516NBBkpSVlVVi/itlWZZef/113X333Zfd1tXV\n",
              "9aK3WB1OFbp4CgAA/uAq9B0+Li7ODihJqlu3rkaOHHnJ7T08PBQeHq5FixZJkpYtW2Z/rqu05S1b\n",
              "tpQkvfzyy1q8eLG+/PJL1a9f3z7evffeq8OHDysrK0tZWVnq16+fnnrqKT333HP685//rE6dOuml\n",
              "l16yt8/NzZUkde3aVe+++66kC59vW758ub3N8ePH1bx5czkcDm3YsEFpaWklXsPSpUt18uRJFRUV\n",
              "KSEhQV27dpUk9e/fX++8846Kiop07NgxLVmyRA888IAkqVevXpo9e7aK/+9zZr/NUZY+ffrolVde\n",
              "0enTpyVJp0+fvuyNDQAAoOarULQVFxeXuPHAxcVFhYWFZe4zb948zZs3T/7+/nr++eeVkJBQ5vID\n",
              "Bw7oscce06+//qrOnTsrLCxMt9xyS7nmW7hwoTZt2qTAwECFhYXZP4Zjzpw5+v777xUQEKAhQ4ao\n",
              "S5cu9j7PP/+8Jk2apLCwML377rsXPVdERIS6deumNm3aqH79+ho3bpwk6aGHHlLr1q3l5+eniIgI\n",
              "jR8/XsHBwZKkV155RefOnVNwcLDCwsLst1MzMjLk5eWl8ePHKzExUV5eXnrrrbckSRMnTlRERIRu\n",
              "ueUWhYSEqH379kpNTS3X6wYAADWXw7Is60p3ioyM1Pvvvy8/Pz9J0q5duxQdHa3k5ORKHxBXpl14\n",
              "H3W5fcTlNwQAAOX24iv3VfcIFftM29SpU3XbbbfZv280MTHRvkIGAACAylehaLv33nv1zTff6Msv\n",
              "v5QkTZkyRS1atKjUwQAAAPBvFf6F8X5+fvbbo//fnXfeWeJnoAEAAOD3qZKfD3Hs2LGqOCwAAMA1\n",
              "q0qi7T9//hkAAAB+P34SKwAAgAGINgAAAANUSbQ1a9asKg4LAABwzbqiu0c3bNhQ5vpOnTpJkj77\n",
              "7LOKTwQAAICLXFG0PfbYY5KkoqIipaamytfXVw6HQ3v27FFYWJi2bNlSJUMCAABc667o7dHk5GQl\n",
              "JycrLCxMiYmJyszM1O7du7V69WqFh4dX1YwAAADXvAp9pm3Tpk2666677K+7du3K7x0FAACoQhWK\n",
              "NmdnZ61bt87+ev369XJy4kZUAACAqlKhX2P15ptv6sEHH1StWrUkSYWFhVqyZEmlDoaK6XSHr158\n",
              "+b7qHgMAAFSyCkVbx44dtWfPHv3444+SpNatW9sBBwAAgMp3RdF26tQp/elPf1J+fr4kqXnz5pKk\n",
              "M2fO6MyZM3Jzc6v8CQEAAHBl0RYVFaUtW7aofv36cjgcsiyrxH+Lioqqak4AAIBr2hVF228/h624\n",
              "uLhKhgEAAEDpuOUTAADAAEQbAACAAYg2AAAAAxBtAAAABiDaAAAADEC0AQAAGIBoAwAAMADRBgAA\n",
              "YACiDQAAwABEGwAAgAGINgAAAAMQbQAAAAYg2gAAAAxAtAEAABiAaAMAADAA0QYAAGAAog0AAMAA\n",
              "RBsAAIABiDYAAAADEG0AAAAGINoAAAAMQLQBAAAYgGgDAAAwANEGAABgAKINAADAAEQbAACAAYg2\n",
              "AAAAAxBtAAAABiDaAAAADEC0AQAAGIBoAwAAMADRBgAAYACHZVlWdQ+ByvNwoEPxEbQ4AACVyf8f\n",
              "RdU9AlfaAAAATEC0AQAAGIBoAwAAMADRBgAAYACiDQAAwABEGwAAgAGINgAAAAMQbQAAAAYg2gAA\n",
              "AAxAtAEAABiAaAMAADAA0QYAAGAAog0AAMAARBsAAIABrmq07d69Wx07dpS/v78iIiK0ffv2MpdL\n",
              "0tixY+Xj4yOHw6HU1NQSxzt37pxGjx4tPz8/BQcHa/Dgwfa6u+++WyEhIQoLC1NUVJRSUlLsdatW\n",
              "rVK7du0UEhKi9u3bKy0trVzzV/SYR44cUffu3eXn56egoCBt2LDBXvf9998rODhYbdu2VWJiYpnb\n",
              "AgCAa5fL1XyyuLg4xcbGKiYmRkuXLlVMTIySk5MvuVyS+vXrpwkTJui222676HiTJk2Sw+HQrl27\n",
              "5HA4dOjQIXvdhx9+qPr160uSPvnkE8XExCgtLU3Hjx9XdHS0NmzYoMDAQCUlJSk6Olrbtm277PwV\n",
              "PeakSZPUvn17rVq1SsnJybr//vu1d+9e1apVSwsWLNCgQYMUHx8vSRo2bNgltwUAANeuqxZtR44c\n",
              "0aZNm7R69WpJUt++fTV69Ght3Lix1OWZmZlq2bKlOnXqVOrxTp06pfnz5+vAgQNyOBySpCZNmtjr\n",
              "f4srScrLy7O32bNnjxo0aKDAwEBJUlRUlLKzs7VlyxaFh4fr8ccf1/r161VQUCA3Nze98847atWq\n",
              "1e865ocffqjMzExJUkREhG688UatX79emzZt0pIlS3TddddpyZIl+vrrry+5bdeuXS86B+fOndO5\n",
              "c+dKLCsqvtzfBAAAMNFVe3t0//798vT0lIvLhU50OBzy9vZWUlJSqcuzs7PLPN6ePXt0ww03aMaM\n",
              "GWrXrp2ioqK0Zs2aEtsMGTJEzZo105QpU7Rw4UJJkp+fn44ePapvv/1WkrR8+XKdOHFCWVlZkqSJ\n",
              "EycqOTlZqampGjVqlB599NHfdcyjR4+qoKCgRFD6+PgoOztbkyZNUq9evfTEE08oNTVVRUVFl9y2\n",
              "NDNnzpS7u3uJR/ovZZ42AABgqKv69mhlKiws1L59+xQQEKDnn39eKSkpuuuuu7R9+3Y1btxYkvTe\n",
              "e+9JkhYsWKCJEyfq888/l7u7u5YuXar4+HidPHlSHTp0UEBAgB2NX375pV5//XWdOHFCxcXFOnbs\n",
              "WInnrcgxq0p8fLzGjx9fYtnoW9yr9DkBAED1uGrR1qxZM+Xk5KiwsFAuLi6yLEvZ2dmKiorS9OnT\n",
              "L1ru7e1d5vG8vb3l5OSk6OhoSVLbtm110003aevWrXa0/Wbo0KEaOXKkjh49qgYNGqhz587q3Lmz\n",
              "pAtvMTZp0kQBAQHKzs7W6NGjlZycrBYtWig9Pf2Sb8+W95gNGjSQi4uLDh06ZF9By8rKKvX1Xcm2\n",
              "kuTq6ipXV9cSy5y5HxgAgBrpqn2L9/DwUHh4uBYtWiRJWrZsmby8vBQZGVnq8pYtW5Z5vIYNG+rO\n",
              "O+9UYmKiJGnv3r3au3ev2rRpo19//VUHDx60t/3000/VoEED3XDDDZKknJwce90zzzyjLl26qGXL\n",
              "lsrLy1OtWrXk6ekpy7L0xhtv2NtV9JiS1L9/f82dO1eSlJycrJ9//lm33357qa/rSrYFAADXjqv6\n",
              "9ui8efMUExOjGTNmyM3NTQkJCWUuly7ccbpy5UodOnRI3bp1U7169ewP6s+dO1fDhw/XxIkT5eTk\n",
              "pHnz5qlp06bat2+f+vfvrzNnzsjJyUmNGjXSihUr7BsHnnrqKSUlJamwsFAdOnTQ/PnzJUnBwcF6\n",
              "8MEHFRgYqAYNGqhPnz72HHl5eRU6piS98MILeuihh+Tn56fatWtr0aJFl7wb9Eq2BQAA1w6HZVlW\n",
              "dQ+ByvNwoEPxEbxHCgBAZfL/R1F1j8BvRAAAADAB0QYAAGAAog0AAMAARBsAAIABiDYAAAADEG0A\n",
              "AAAGINoAAAAMQLQBAAAYgGgDAAAwANEGAABgAKINAADAAEQbAACAAYg2AAAAA7hU9wCoXNd3+6v8\n",
              "X365uscAAACVjCttAAAABiDaAAAADEC0AQAAGIBoAwAAMADRBgAAYACiDQAAwABEGwAAgAGINgAA\n",
              "AAMQbQAAAAYg2gAAAAxAtAEAABiAaAMAADAA0QYAAGAAog0AAMAARBsAAIABiDYAAAADEG0AAAAG\n",
              "INoAAAAMQLQBAAAYgGgDAAAwANEGAABgAKINAADAAEQbAACAAYg2AAAAAxBtAAAABiDaAAAADEC0\n",
              "AQAAGIBoAwAAMADRBgAAYACiDQAAwABEGwAAgAGINgAAAAMQbQAAAAYg2gAAAAxAtAEAABiAaAMA\n",
              "ADCAw7Isq7qHQOX5c7cI1X/wzuoeAwCAGuXAw89X9whcaQMAADAB0QYAAGAAog0AAMAARBsAAIAB\n",
              "iDYAAAADEG0AAAAGINoAAAAMQLQBAAAYgGgDAAAwANEGAABgAKINAADAAEQbAACAAYg2AAAAAxBt\n",
              "AAAABqjyaNu9e7c6duwof39/RUREaPv27WUuv9y6S5kxY4ZatWolJycnffrpp6Vus3btWjk7O+vV\n",
              "V1+1lz355JMKDg5WWFiYwsLC9MEHH1y0386dO1W3bl2NGzfuks//+OOPa9q0aZKkM2fOaMiQIQoK\n",
              "ClJQUJB69eql3NzcUvdbsWKF7rjjDklSYmKiPUdYWJhuvPFGhYeHX/a1AwCAmq/Koy0uLk6xsbHa\n",
              "tWuXJk6cqJiYmDKXX27dpXTt2lVffPGFOnXqVOr6vLw8TZo0ST169Cix/IknntDWrVuVmpqqlStX\n",
              "KjY2Vr/88ou9vqCgQLGxsbr//vvL/ZrnzZun06dPa+vWrdq2bZsaN26sWbNmXXa/bt26KTU11X6E\n",
              "h4crOjq63M8LAABqriqNtiNHjmjTpk0aPHiwJKlv377av3+/Nm7cWOryzMzMS+6TmZkpSfruu+90\n",
              "2223KTQ0VCEhIfrss88kSZGRkfL19b3kLKNHj9bkyZPVoEGDEsvr169v//nkyZOyLEvFxcX2sqef\n",
              "flr9+/eXn59fif1ycnLUrVs3BQQEqGvXrjpw4IC9zuFw6PTp0yooKFBhYaFOnjwpLy8vSRcicNSo\n",
              "UfLz81NkZKTWrVtX6rwHDx7UmjVr9NBDD13yNZ07d075+fklHiqyLrk9AAAwV5VG2/79++Xp6SkX\n",
              "FxdJF2LG29tbSUlJpS7Pzs6+5D7Z2dk6duyY+vTpo5kzZyotLU2pqamKioq67BxLly6Vk5OTevXq\n",
              "Ver61157Ta1atVJ4eLjefvtteXh4SJJ++OEHfffddxozZsxF+4wdO1aRkZHasWOHFixYoDVr1tjr\n",
              "4uLiVK9ePXl4eKhx48bKy8vT6NGjJUlvv/22MjIytH37dn3zzTfasmVLqTP94x//UI8ePexZSjNz\n",
              "5ky5u7uXeJzfm3PZ8wEAAMxj1I0I3333nVq1amWHmpOTk2644YYy9zl06JCeffZZzZkz55LbjB07\n",
              "VhkZGfr22281Y8YMHT16VKdPn9aoUaP0zjvvyOFwXLTPmjVrNGLECElS06ZNSwTh6tWrVVxcrEOH\n",
              "DiknJ0f169fXU089Ze83ZMgQ1a5dW7Vr19awYcMuOrZlWXr33Xc1fPjwMl9bfHy88vLySjxq3+RZ\n",
              "5j4AAMBMLlV58GbNmiknJ0eFhYVycXGRZVnKzs5WVFSUpk+fftFyb29vubm5lbqPt7e3MjIyrniG\n",
              "zZs3KycnR2FhYZKkX375RcuXL1dubq6ee+65EtuGhoaqadOm+vrrr+Xv76/s7Gx17txZkvTrr7+q\n",
              "uLhYx48f14IFCy56nv8Mu7fffluDBg1SnTp1JEnR0dGaMWNGqfOVFoTr16/X2bNn1a1btzJfm6ur\n",
              "q1xdXUsudL74eAAAwHxVeqXNw8ND4eHhWrRokSRp2bJl8vLyUmRkZKnLW7Zsecl9WrZsqY4dO2r3\n",
              "7t1KSkqSJBUXF+vYsWNlznDvvffq8OHDysrKUlZWlvr166ennnrKDrYdO3bY2+7Zs0cpKSkKCAhQ\n",
              "cHCwcnNz7f3GjRunYcOG2cHWtWtXvfvuu5IufL5t+fLl9nF8fX21evVqWZYly7K0cuVKBQUF2fst\n",
              "WrRIBQUFOn/+vBISEi6aef78+YqJiZGzs/OVn3QAAFAjVemVNunCnZQxMTGaMWOG3Nzc7Ei51PKy\n",
              "1l1//fX65JNP9Nhjj+nEiRNycnLSM888o549e+rZZ5/V3LlzlZubq23btmn06NFKSUlRo0aNypxv\n",
              "woQJ2rt3r2rVqiUXFxe98cYbatOmzWVf15w5cxQTE6OAgAA1bdpUXbp0sddNmzZNsbGxdqi1bt1a\n",
              "8+bNkyQ98sgj2rZtmwICAnT99dcrKipKmzdvtvfNy8vTxx9/rK1bt5bzDAMAgGuBw7IsbjesQf7c\n",
              "LUL1H7yzuscAAKBGOfDw89U9glk3IgAAAFyriDYAAAADEG0AAAAGINoAAAAMQLQBAAAYgGgDAAAw\n",
              "ANEGAABgAKINAADAAEQbAACAAYg2AAAAAxBtAAAABiDaAAAADEC0AQAAGMClugdA5YoNjNLLDz9f\n",
              "3WMAAIBKxpU2AAAAAxBtAAAABiDaAAAADEC0AQAAGIBoAwAAMADRBgAAYACiDQAAwABEGwAAgAGI\n",
              "NgAAAAMQbQAAAAYg2gAAAAxAtAEAABiAaAMAADAA0QYAAGAAog0AAMAARBsAAIABiDYAAAADuFT3\n",
              "AKg8586d0xdffKGioiI5OztX9zjXjKKiIm3cuFGRkZGc96uMc189OO/Vh3NfPa7GeW/evLkeffTR\n",
              "MrdxWJZlVcmz46rLz8+Xu7u78vLy5ObmVt3jXDM479WHc189OO/Vh3NfPf4o5523RwEAAAxAtAEA\n",
              "ABiAaAMAADAA0VaDuLq6aurUqXJ1da3uUa4pnPfqw7mvHpz36sO5rx5/lPPOjQgAAAAG4EobAACA\n",
              "AYg2AAAAAxBtAAAABiDaDLR792517NhR/v7+ioiI0Pbt20vdbv78+fLz81OLFi30yCOPqKCg4CpP\n",
              "WrOU57yvXbtWkZGRCggIUGBgoCZMmKDi4uJqmLZmKe+/eUmyLEtdunRR/fr1r96ANVR5z/vWrVt1\n",
              "xx13qE2bNmrTpo0+/vjjqzxpzVOec19cXKzx48crICBAISEh6ty5szIzM6th2ppj7Nix8vHxkcPh\n",
              "UGpq6iW3q7bvrxaM07lzZyshIcGyLMv66KOPrHbt2l20zU8//WR5enpaOTk5VnFxsdWzZ0/rjTfe\n",
              "uMqT1izlOe9btmyx9uzZY1mWZZ05c8a69dZb7X1QceU597956aWXrBEjRlju7u5XZ7garDzn/dSp\n",
              "U9ZNN91kJSUlWZZlWYWFhdaRI0eu5pg1UnnO/SeffGJFRkZa58+ftyzLsp555hmrf//+V3PMGmf9\n",
              "+vXW/v37rebNm1spKSmlblOd31+JNsMcPnzYqlevnlVQUGBZlmUVFxdbjRs3tnbv3l1iuxdffNGK\n",
              "i4uzv165cqV16623XtVZa5Lynvf/77//+7+tqVOnXoUJa64rOffbtm2zoqKirMzMTKLtdyrveX/n\n",
              "nXesgQMHVseINVZ5z/2nn35qhYaGWvn5+VZxcbH1xBNPWH/961+rY+Qap6xoq87vr7w9apj9+/fL\n",
              "09NTLi4ukiSHwyFvb29lZ2eX2C47O1vNmze3v/bx8bloG5Rfec/7fzp06JCWLl2q++6772qNWSOV\n",
              "99wXFBTokUce0bx58/hF2pWgvOd9x44dcnV11X333aewsDANGTJEubm51TFyjVHec9+zZ0/dcccd\n",
              "atKkiTw9PbVmzRo9/fTT1THyNaU6v78SbUAVyM/PV8+ePTVhwgS1a9euuse5JkyfPl3/9V//pTZt\n",
              "2lT3KNeUwsJCffXVV5o3b55SUlLUtGlT/eUvf6nusa4JmzZt0rZt2/Tzzz/r4MGDuvPOOzVy5Mjq\n",
              "HgtViGgzTLNmzZSTk6PCwkJJFz50nZ2dLW9v7xLbeXt7a9++ffbXWVlZF22D8ivveZekEydOqHv3\n",
              "7urdu7fGjx9/tUetccp77tevX6/XX39dPj4+uu2225Sfny8fHx+u+lTQlfy/pnPnzmratKkcDocG\n",
              "Dx6s77//vjpGrjHKe+7fe+89+6YbJycnDR06VOvWrauOka8p1fn9lWgzjIeHh8LDw7Vo0SJJ0rJl\n",
              "y+Tl5aWWLVuW2K5v375avny5Dh06JMuyNHfuXD344IPVMXKNUN7zfvLkSXXv3l3du3fX5MmTq2PU\n",
              "Gqe85z4pKUn79u1TVlaWvvnmG7m5uSkrK0uNGjWqjrGNV97zPmDAACUnJys/P1+S9Pnnnys0NPSq\n",
              "z1uTlPfc+/r6au3atTp//rwkacWKFQoKCrrq815rqvX761X55Bwq1Y8//mi1b9/e8vPzs26++WYr\n",
              "PT3dsizLGj58uPXZZ5/Z27399tuWr6+v5evraw0bNsy+wwgVU57z/uyzz1ouLi5WaGio/Xj22Wer\n",
              "c+waobz/5n+zd+9ebkSoBOU97++9954VGBhoBQcHW927d7eys7Ora+Qaozzn/uzZs9aIESOs1q1b\n",
              "W8HBwdZdd91l372OiomNjbWaNm1qOTs7Wx4eHlaLFi0sy/rjfH/ld48CAAAYgLdHAQAADEC0AQAA\n",
              "GIBoAwAAMADRBgAAYACiDQAAwABEGwAAgAGINgAAAAMQbQAAAAYg2gAAAAxAtAEAABiAaAMAADDA\n",
              "/wLsMap6hnpobQAAAABJRU5ErkJggg==\n",
              "\">\n",
              "      </div>\n",
              "      <script type=\"text/javascript\">\n",
              "        (() => {\n",
              "          const chartElement = document.getElementById(\"chart-63e29f33-4758-4dab-a064-05fd3600b413\");\n",
              "          async function getCodeForChartHandler(event) {\n",
              "            const chartCodeResponse =  await google.colab.kernel.invokeFunction(\n",
              "                'getCodeForChart', [\"chart-63e29f33-4758-4dab-a064-05fd3600b413\"], {});\n",
              "            const responseJson = chartCodeResponse.data['application/json'];\n",
              "            await google.colab.notebook.addCell(responseJson.code, 'code');\n",
              "          }\n",
              "          chartElement.onclick = getCodeForChartHandler;\n",
              "        })();\n",
              "      </script>\n",
              "      <style>\n",
              "        .colab-quickchart-chart-with-code  {\n",
              "            display: block;\n",
              "            float: left;\n",
              "            border: 1px solid transparent;\n",
              "        }\n",
              "\n",
              "        .colab-quickchart-chart-with-code:hover {\n",
              "            cursor: pointer;\n",
              "            border: 1px solid #aaa;\n",
              "        }\n",
              "      </style>"
            ]
          },
          "metadata": {}
        },
        {
          "output_type": "display_data",
          "data": {
            "text/plain": [
              "<google.colab._quickchart_helpers.SectionTitle at 0x7a6c42f7a4d0>"
            ],
            "text/html": [
              "<h4 class=\"colab-quickchart-section-title\">Values</h4>\n",
              "<style>\n",
              "  .colab-quickchart-section-title {\n",
              "      clear: both;\n",
              "  }\n",
              "</style>"
            ]
          },
          "metadata": {}
        },
        {
          "output_type": "display_data",
          "data": {
            "text/plain": [
              "from matplotlib import pyplot as plt\n",
              "_df_2['diagnosis'].plot(kind='line', figsize=(8, 4), title='diagnosis')\n",
              "plt.gca().spines[['top', 'right']].set_visible(False)"
            ],
            "text/html": [
              "      <div class=\"colab-quickchart-chart-with-code\" id=\"chart-9ceba26a-1c39-4612-be0a-cb1ab6277a39\">\n",
              "        <img style=\"width: 180px;\" src=\"data:image/png;base64,iVBORw0KGgoAAAANSUhEUgAAApsAAAFuCAYAAADOJdNTAAAAOXRFWHRTb2Z0d2FyZQBNYXRwbG90\n",
              "bGliIHZlcnNpb24zLjguMCwgaHR0cHM6Ly9tYXRwbG90bGliLm9yZy81sbWrAAAACXBIWXMAAA9h\n",
              "AAAPYQGoP6dpAABGOElEQVR4nO3deVRUBf/H8c9lRjbZBEVQNtnc2RTEfSktLZfcsizTRDTrZz24\n",
              "ZUVlG5lGmWXuli2Uiluo+ViiYqm4gfsCOiyKoiKLAgPM3N8fgzwRUGzDneXzOmfOEeY6frlnHN/O\n",
              "l2EEURRFEBERERFpgYnUAxARERGR4WJsEhEREZHWMDaJiIiISGsYm0RERESkNYxNIiIiItIaxiYR\n",
              "ERERaQ1jk4iIiIi0hrFJRERERFrD2CQiIiIirWFsEpHRKysrgyAI2L9/PxISEmBlZQWVSiX1WLWS\n",
              "np4OKysrXL16VepRiIiqJZd6ACIiXdK3b1/cv39f6jFqzc3NTa/mJSLjw2c2iYiIiEhrGJtEZHSy\n",
              "s7MxevRo2NnZwdPTEz///HPFdfv374cgCCgrK6v4uFevXnBwcECLFi0waNAgJCUlVbq99evXw9vb\n",
              "G9bW1hg9ejReeeUVDBgwoOL6AQMG4NVXX8Wzzz4LW1tbuLq64uuvv650Gzt37kS3bt1ga2sLX19f\n",
              "LFmyBGq1GgBQUlKCmTNnwsnJCdbW1vDw8MCyZcsAAAqFAoIgICUlBQCQnJyM/v37w87ODi1atEC3\n",
              "bt1w6dKlxj6FRES1xtgkIqPz3HPPobCwEFevXsXx48cRExNT47HNmjXDkiVLkJWVhfT0dHh7e2Pk\n",
              "yJEoKSkBABw8eBAzZszAsmXLkJubi7CwMKxbt67K7XzzzTcICwvDvXv38Pnnn+OVV16pCMRjx47h\n",
              "qaeewvz583H37l3ExMQgOjoaX3zxBQDg22+/xeHDh3H27FkUFBTgyJEj6N27d7Xzzpw5E4888gju\n",
              "3LmD27dvY+3atbCzs2vgGSMiqj/GJhEZlevXr2Pv3r1YvHgx7O3tYW9vj6ioqBqP7927N3r16gVT\n",
              "U1NYW1tj0aJFSE9Pr3i2cMOGDRg5ciSGDh0KmUyGYcOGYdiwYVVuZ8yYMRg0aBBMTEwwZswY2Nvb\n",
              "48SJEwCANWvW4IknnsD48eMhl8vRrVs3zJ07FytWrAAAmJqa4v79+zh//jxKS0vh5OSEoKCgauc1\n",
              "NTVFeno60tLSIJfLERAQgNatWzf0tBER1Rtjk4iMSmZmJgCgXbt2FZ/766//7vTp0xg+fDjatm0L\n",
              "GxubimOzs7MBaOLV3d290u/x8PCocjtt2rSp9HHz5s1RUFAAAMjIyICXl1el6729vZGeng5A80zs\n",
              "9OnTMXfuXLRs2RJDhw6tCNW/++abbyAIAgYNGgQXFxe89tprfAEREUmKsUlERsXFxQWA5nsdH/rr\n",
              "r/9u3Lhx8PLywtmzZ5Gfn49r164BAERRBAC0bdsWaWlplX7P3z/+N66urkhNTa30udTUVLi5uQEA\n",
              "ZDIZ5syZg6NHj+L69evo2LEjRo4cWe1tubu7Y/Xq1UhLS8P+/fuxd+/ef3zmlohI2xibRGRU2rZt\n",
              "i0ceeQTz5s3DvXv3cO/ePbzxxhs1Hp+XlwcbGxvY2toiJycHs2fPrnT9888/j+3bt2PPnj1QqVT4\n",
              "9ddfsWvXrjrN9OKLL2Lnzp2IjY2FSqXCqVOnsHjxYoSHhwMA9u3bh+PHj6OkpATm5uawsrKCTCar\n",
              "9ra++eYbZGZmQhRF2NjYQC6XQy7nT7kjIukwNonI6Hz//fcwNTWFh4cHgoKC8PTTT9d47Lp167Bp\n",
              "0yZYW1sjNDQUQ4cOrXR9//79sXz5csycORN2dnZYuXIlJk6cCHNz81rP06NHD2zevBkffvghWrRo\n",
              "gXHjxmHWrFl49dVXAWhW9pMnT4a9vT1atWqFAwcOYPPmzdXeVnx8PEJCQmBlZQV/f3/07NkT8+fP\n",
              "r/UsRESNTRAf7oKIiKhRjBo1Cq1bt8bKlSulHoWISHJ8ZpOIqIFiY2ORn5+P0tJS/Pzzz4iLi8PE\n",
              "iROlHouISCfwG3mIiBrol19+wbRp01BSUgJ3d3esW7cO/fr1k3osIiKdwDU6EREREWkN1+hERERE\n",
              "pDWMTSIiIiLSGsYmEREREWkNY5OIiIiItEYnY3Pp0qVSj0BEREREjUAnY7Ou7ytMRERERLpJJ2OT\n",
              "iIiIiAwDY5OIiIiItIaxSURERERaw9gkIiIiIq1hbBIRERGR1jA2iYiIiEhrGJtEREREpDWMTSIi\n",
              "IiLSmnrH5vr16yEIArZt21bt9XFxcejQoQN8fHwwevRo5Ofn1/ePIiIiIiI9Va/YVCgUWL16NUJD\n",
              "Q6u9/v79+5g6dSq2bduGK1euoE2bNnj//fcbNCgRERER6Z86x6ZarUZYWBiWLVsGMzOzao/ZvXs3\n",
              "AgMD0aFDBwDAzJkzERMT07BJiYiIiEjv1Dk2o6Oj0bt3b3Tr1q3GY9LT0+Hu7l7xsYeHB7KyslBW\n",
              "VlblWKVSifz8/EoXlUpV17GImszZ63mYFXMKp9LvST0KERGRzqtTbJ49exaxsbF46623Gm2AqKgo\n",
              "2NraVrokJiY22u0TNabkjFw8s/oIdiTfwPTvTiC3sETqkYiIiHRanWIzISEBCoUCPj4+8PDwwJEj\n",
              "RxAeHo6vv/660nFubm5IS0ur+FihUMDZ2RlyubzKbS5YsAB5eXmVLiEhIfX8coi051T6PTy35igK\n",
              "ijXP0GcXKLHwl/MST0VERKTb6hSbL730ErKysqBQKKBQKBAaGopVq1bhpZdeqnTc448/jpMnT+Li\n",
              "xYsAgOXLl2PChAnV3qaZmRlsbGwqXWQyWT2/HCLtOJl+D5PWJqJAWYYQD3v8ENYDJgKw9dR1/Pfc\n",
              "TanHIyIi0lmN9nM23377baxYsQIAYG1tjTVr1mDUqFHw9vZGZmYmIiMjG+uPImpSJ9L+Eprt7LF+\n",
              "SjB6e7dEeD8vAMAbW8/i3gOu04mIiKojiKIoSj3E30VERCA6OlrqMYhwIi0HL6w7hvvKMoR62mPd\n",
              "5GBYmmq+HaS4VIXhyw7hSvZ9jPBvgy+eCZR4WiIiIt3DdxAiqsFxRQ4mrU3EfWUZeno6VApNADBv\n",
              "JsOScf6QmQjYkXwDu89kSTgtERGRbmJsElXjmCIHL6xLxIMSFXp5VQ3Nh/xd7TCjvycA4K1tZ3H3\n",
              "vrKpRyUiItJpjE2iv0m89r/Q7O3tgLUvBMPCtOYXrc16xAftW1vj7oMSvL39XBNOSkREpPsYm0R/\n",
              "cfTqXUxen4jCEhX6eLf819AEADO5DJ+O16zTd57JQtzpG000LRERke5jbBKVO3L1LiavP4bCEhX6\n",
              "+rTEmhe6w7xZ7X4MV5e2tnh5oDcAIHLbWdwu4DqdiIgIYGwSAQD+TL2DKeuPoahUhX6+rbB6Uu1D\n",
              "86FXBnqjo7MN7hWW4q1tZ6CDP+iBiIioyTE2yej9mXIHL36jCc3+vq2w6vludQ5NADCVm2DJOD/I\n",
              "TQTsOXcLO5K5TiciImJsklH7I+UOXvz2GIpL1RjQvhVW1jM0H+rcxhb/N8gHAPDOjnPILihurFGJ\n",
              "iIj0EmOTjNahK5pnNItL1RjUwbHBofnQzIFe6NzGBrmFpXhz61mu04mIyKgxNskoHbx8G1O/PQZl\n",
              "mRqPdHDE188FwUze8NAEgGYyE3w63h/NZAL2nr+FbUnXG+V2iYiI9BFjk4zOgcu3EbbhOJRlajza\n",
              "0RHLGzE0H+rgZINXHylfp28/h1v5XKcTEZFxYmySUdl/KRvTNhxHSZkagzu1xvKJ3Ro9NB+a0d8L\n",
              "XdvaIr+4DAu28NXpRERknBibZDTiL2UjfMMJlJSpMaRTa3z1bBBM5dr7KyAvX6ebykyw72I2Yk9y\n",
              "nU5ERMaHsUlGIf5iNqZvOIESlRqPdW6NL7Ucmg/5trbGfwb7AgAW/nIOWXlFWv8ziYiIdAljkwze\n",
              "7xduYfp3mtAc2sWpyULzoWl928Hf1Q4FxWV4PZbrdCIiMi6MTTJov52/hRnfa0JzWFcnfPFMIJrJ\n",
              "mvZuL5eZ4NNxfjCVm+DA5dvYeDyjSf98IiIiKTE2yWDtPX8LL/1wAqUqEU90dcbSCU0fmg95O1pj\n",
              "zhDNOv2DuAu4nst1OhERGQfGJhmkPeduYmZ5aD7p54ylEwIkC82HpvbxRJCbHQqUZXg99jTX6URE\n",
              "ZBQYm2Rwfj17Ey//cBKlKhHD/dvg86cDIJc4NAFAZiJgyTh/mMlNkHDlDmISuU4nIiLDJ/2/wESN\n",
              "6NezWXjlx5MoU4sY4d8Gn43314nQfMizlRXmPtYeAPDhzvPIyCmUeCIiIiLt0p1/hYkaaPeZLLz8\n",
              "4ymUqUWMCmiDaB0LzYem9G6HYI8WeFCiwvzY01CruU4nIiLDpXv/EhPVw87TWXgl5hRUahFPBbbF\n",
              "p+N1Y3VeHZmJgMVj/WHezAR/pt7FD4npUo9ERESkNbr5rzFRHcSdvoFZP2lCc3RgWywZ5w+ZiSD1\n",
              "WP/Io2VzvP54BwBA1K4LSL/LdToRERkmxibptV+Sb+DVn5KgUosYE+SCxXoQmg9N6umBHu3sUVii\n",
              "wtzNyVynExGRQWJskt7annQdr5Y/ozmumws+GeunN6EJACbl63RLUxmOXsvBhsMKqUciIiJqdIxN\n",
              "0kvbk67jPz8nQS0C47u7YNEY/QrNh9wcLLFgqGadvujXS1DceSDxRERERI2rzrE5ZMgQ+Pn5ISAg\n",
              "AH379sWpU6eqHLN//35YWFggICCg4lJUxHdMocax9VRmRWhOCHbFx6P9YKKHofnQxB7u6OXlgKJS\n",
              "rtOJiMjwyOv6GzZu3Ag7OzsAwNatWzF58mQkJydXOa59+/ZISkpq6HxElWw5mYk5m5KhFoFnQlzx\n",
              "4aiueh2agGadvmiMHx7//CCOKe5h/Z8KTO3TTuqxiIiIGkWdn9l8GJoAkJeXB0HQ73/oSX9sPpGJ\n",
              "2RWh6WYQofmQq70l3niiIwDgk18v4urt+xJPRERE1Djq9T2bkyZNgqurKyIjI/Hdd99Ve0xqaiqC\n",
              "goIQHByM5cuX13hbSqUS+fn5lS4qlao+Y5EB23Q8A3M3J0MUgYk93PDhqC4GE5oPPRvihj7eLaEs\n",
              "U2Pu5tNQcZ1OREQGoF6xuWHDBmRkZOCDDz7A/Pnzq1wfFBSEzMxMnDx5Elu3bsWKFSuwcePGam8r\n",
              "KioKtra2lS6JiYn1GYsM1MbjGZgXexqiCDwX6oYPDDA0AUAQBCwa6wcrMzlOpN3DukPXpB6JiIio\n",
              "wQRRFBv09ImFhQUyMzPh4OBQ4zFRUVG4ceMGli1bVuU6pVIJpVJZ6XORkZFYunRpQ8YiA/HzsXS8\n",
              "vuUMRBGY1NMdC0d0Nvhv3fj5WDrmx56BqdwEu2b1hbejldQjERER1VudntnMzc3FjRs3Kj7etm0b\n",
              "HBwcYG9vX+m4rKwsqNVqAEBBQQHi4uIQGBhY7W2amZnBxsam0kUmk9X16yAD9FOiJrpEEZjcy8Mo\n",
              "QhMAxnd3RX/fVigpU2P2pmSUqdRSj0RERFRvdYrNvLw8jBo1Cl27doW/vz++/PJLxMXFQRAEhIWF\n",
              "YceOHQCA2NjYimNCQ0MxePBgTJkyRStfABmmH49qntEENKH5zvBORhGagGad/vGYrrA2lyM5Ixer\n",
              "E7hOJyIi/dXgNbo2REREIDo6WuoxSCI/HE3Dm1vPAgCm9PbA208aT2j+leZFUadhKjPBzll94NPa\n",
              "WuqRiIiI6ozvIEQ65bsj/wvNqX3aGW1oAsDYbi4Y1MERJSqu04mISH8xNklnfHdYgchtmtCc1rcd\n",
              "3nqio9GGJqBZp0eN7gobczlOZ+Zh5cGrUo9ERERUZ4xN0gnf/qlA5PZzAIDwfp54Y5hxh+ZDrW3M\n",
              "8e6IzgCAz3+7jIs38yWeiIiIqG4YmyS5b/64hnd2aEJzen9PLBjagaH5F08FtsWjHVujVCVizqZk\n",
              "lHKdTkREeoSxSZJad+ga3v3lPADgpQFeeP1xhubfCYKAj0Z3gZ1lM5y9no+v96dKPRIREVGtMTZJ\n",
              "MmsSruK9OE1ozhzghXmPtWdo1sDR2hwLy9fpX/x+Bedu5Ek8ERERUe0wNkkSaxKu4oOdFwAArwz0\n",
              "xlyG5r8a4d8Gj3VujTK1iDmbTqOkjOt0IiLSfYxNanKrD/4vNGcN8sbsIb4MzVoQBAEfjOqKFpbN\n",
              "cCErH1/Gp0g9EhER0b9ibFKTWnkgFR/uKg/NR3zwn8EMzbpoZW2G90d1AQAsj0/B2etcpxMRkW5j\n",
              "bFKT+Xp/KqJ2XwQAvPaoDyIYmvXypF8bPNHVuXydngxlmUrqkYiIiGrE2KQmsXx/Chb9qgnN/zzq\n",
              "i9ce9ZV4Iv323sjOcGhuios3C7Dsd67TiYhIdzE2Seu+ik/BJ79eAgBEDPbFq4/6SDyR/nOwMsMH\n",
              "5ev0rw+k4nRmrrQDERER1YCxSVq17PcrWLxHE5pzhvhi1iMMzcYytKszhvu3gUotYvZGrtOJiEg3\n",
              "MTZJa774/Qo+3XsZADD3sfZ4ZRBDs7G9N6IzWlqZ4Ur2fXz+2xWpxyEiIqqCsUla8flvlxFdHprz\n",
              "Hm+Plwd6SzyRYWrR3BQfPqVZp688kIpT6fcknoiIiKgyxiY1us/2Xq54lu31oR0wcwBDU5se6+yE\n",
              "UQFtoBaBOZuSUVzKdToREekOxiY1GlEUEb33Mpb+rgnNN4Z1wIz+XhJPZRzeHdEZrazNkHr7QcUz\n",
              "ykRERLqAsUmN4mFoflEemm8O64jwfgzNpmJnaYqop7oCAFYnXMWJtByJJyIiItJgbFKDiaKIJf+9\n",
              "hGX7ND/v8a0nOmJaP0+JpzI+j3ZqjTFBLhBFYM6m0ygq4TqdiIikx9ikBhFFEYv3XMJX8akAgMgn\n",
              "OyGsL0NTKm8P74TWNma4ducBlvz3ktTjEBERMTap/kRRxKJfL2H5fk1ovjO8E6b2aSfxVMbN1qIZ\n",
              "Ph7tBwBY98c1JF7jOp2IiKTF2KR6EUURH+++iBUHNKG5cERnTOnN0NQFAzs4Ynx3zTp93uZkFJaU\n",
              "ST0SEREZMcYm1ZkoiojafRErD14FoHmf7hd6eUg7FFXy1pOd4GxrDsXdwoq3CiUiIpICY5PqRBRF\n",
              "fLjzAlaVh+b7IztjUk8PaYeiKmzMm+HjMZp1+jd/KnDk6l2JJyIiImPF2KRaE0UR78ddwJpD1wAA\n",
              "H4zqgucZmjqrv28rPBPiCgCYuzkZD5RcpxMRUdNjbFKtiKKI9+LOY90fmtD86KmueC7UXeKp6N+8\n",
              "Mawj2tpZICOnCIt+vSj1OEREZITqHJtDhgyBn58fAgIC0LdvX5w6dara49auXQsfHx94eXlh2rRp\n",
              "KC0tbfCwJA1RFLHwl/NY/4cCABA1uiue7eEm7VBUK9bmzbCofJ2+4XAa/ky5I/FERERkbOocmxs3\n",
              "bsTp06eRlJSEiIgITJ48ucox165dQ2RkJBISEpCSkoJbt25h1apVjTEvNTFRFPHujnP45k8FBAFY\n",
              "NKYrnglhaOqTPj4tMbH8PwdzN5/Gfa7TiYioCdU5Nu3s7Cp+nZeXB0EQqhyzefNmjBgxAk5OThAE\n",
              "ATNmzEBMTEyDBqWmJ4oi3t5+Dt8eTtOE5mg/PB3M0NRHC4Z1hEsLC1zPLcJHuy5IPQ4RERkReX1+\n",
              "06RJkxAfHw8A2LVrV5Xr09PT4e7+v+/n8/DwQHp6erW3pVQqoVQqK31OpeLb7ElNrRbx9o6z+P5I\n",
              "evkzmn4Y391V6rGonqzM5PhkrB+eXX0UPx5Nx9AuTujr00rqsYiIyAjU6wVCGzZsQEZGBj744APM\n",
              "nz+/QQNERUXB1ta20iUxMbFBt0kNo1aLeGv7/0Jz8Vh/hqYB6OXVEi/01PwncP7m0ygo5vdRExGR\n",
              "9jXo1egvvPAC4uPjcfdu5Z/h5+bmhrS0tIqPFQoF3NyqX78uWLAAeXl5lS4hISENGYsaQK0W8ea2\n",
              "s/jxqCY0l4z1x9huLlKPRY1k/tAOcLO3xI28Yny4k+t0IiLSvjrFZm5uLm7cuFHx8bZt2+Dg4AB7\n",
              "e/tKx40ZMwY7duzAzZs3IYoiVqxYgQkTJlR7m2ZmZrCxsal0kclk9fhSqKHUahFvbD2DmMR0mAhA\n",
              "9Hh/jGFoGhRLUzkWj9W8Ov2nYxnYfylb4omIiMjQ1Sk28/LyMGrUKHTt2hX+/v748ssvERcXB0EQ\n",
              "EBYWhh07dgAAPD09sXDhQvTu3Rve3t5o1aoVpk+frpUvgBqHWi1iwZYz+OlYRnloBuCpQIamIerh\n",
              "6YApvT0AAK/HnkFeEdfpRESkPYIoiqLUQ/xdREQEoqOjpR7DaKjVIubHnsamE5kwEYDPng7AyIC2\n",
              "Uo9FWlRUosLQpQehuFuIcd1csHicv9QjERGRgeI7CBk5lVrEvL+E5ucTAhmaRsDCVIYl4/whCMCm\n",
              "E5nYd/GW1CMREZGBYmwaMZVaxNzNydh8IhMyEwFLJwRihH8bqceiJtLdwx5Te7cDUL5OL+Q6nYiI\n",
              "Gh9j00ip1CLmbkrGlpPXITMR8MWEQAxnaBqdOY+1h2fL5sguUGLhL+ekHoeIiAwQY9MIqdQiZm9M\n",
              "wpZTmtBc9kwgnvBzlnoskoB5MxmWjPeHiQBsOXUde89znU5ERI2LsWlkylRqRGxMwrakG5CbCPjy\n",
              "mUAM68rQNGZBbi0wrZ8nAOCNrWdw70GJxBMREZEhYWwaEU1oJmP7w9B8NghDGZoE4D+P+sLb0Qq3\n",
              "C5R4l+t0IiJqRIxNI1GmUuO1n5OwI1kTml9NDMLjXZykHot0hHkzzavTTQRge9IN/Ho2S+qRiIjI\n",
              "QDA2jUCZSo1Xf05C3OksNJMJWD4xCI91ZmhSZQGudpjR3wsA8Na2s8jhOp2IiBoBY9PAlarUePWn\n",
              "JOwsD82vJ3bDEIYm1eDVR33g29oKd+6X4O3tZ6Ueh4iIDABj04CVqtSYFXMKO89kwVRmghXPdcOj\n",
              "nVpLPRbpMDO5DJ+OC4DMREDc6SzsPM11OhERNQxj00CVqtT4vx9PYffZm5rQfD4Ij3RkaNK/6+pi\n",
              "i5kDNOv0yO1ncee+UuKJiIhInzE2DVBJmRqv/HgSv57ThObK57thUAeGJtXe/w3yQQcna+Q8KEHk\n",
              "trMQRVHqkYiISE8xNg1MSZkaL/94EnvO3YKp3ASrJnXDwA6OUo9FesZUboIl4/whNxGw++xN/MJ1\n",
              "OhER1RNj04CUlKkx84eT2HteE5qrJ3XHgPYMTaqfLm1t8cogbwDA29vPIrugWOKJiIhIHzE2DYSy\n",
              "TIWZP5zAbxduwUxugjWTuqO/byupxyI99/JAb3RytkFuYSne3Mp1OhER1R1j0wAoy1R46fuT+O1C\n",
              "tiY0X+iOfgxNagTNZJp1ejOZgL3nb2F70g2pRyIiIj3D2NRzxaUqzPjuBPZdzIZ5MxOsmxyMvj4M\n",
              "TWo8ndrYYNYgHwDAOzvOITuf63QiIqo9xqYeKy5VYcb3JxB/6bYmNF8IRm/vllKPRQZoxgAvdG1r\n",
              "i7yiUryx9QzX6UREVGuMTT1VXKpC+HcnsP9haE4ORi+GJmnJw3W6qcwEv13IxpaT16UeiYiI9ARj\n",
              "Uw8Vl6owbcNxHLx8GxbNZFg/OQS9vBiapF3tnazx6qOadfq7v5zDzTyu04mI6N8xNvXMw9BMuHJH\n",
              "E5pTgtHTy0HqschITO/nCX8XWxQUl+H1Lae5Ticion/F2NQjRSUqhH2rCU1LUxm+mRKMUE+GJjUd\n",
              "+cN1utwE+y/dxqYTmVKPREREOo6xqSeKSlSY+u0xHEq5g+amMnz7Ygh6MDRJAj6trTF7sC8A4P1f\n",
              "zuNGbpHEExERkS5jbOqBwpIyvPjNMfyZerciNIM97KUei4xYWF9PBLrZoUBZhvmxXKcTEVHNGJs6\n",
              "7mFoHr56F1ZmcmyYGoLuDE2SmMxEwJJx/jCTmyDhyh38dCxD6pGIiEhHMTZ1WGFJGaasP4YjV3Ng\n",
              "ZSbHty+GoJs7Q5N0g1crK8x9rD0A4IO488i8VyjxREREpIvqFJvFxcUYNWoUfH194e/vj8GDByMl\n",
              "JaXKcQqFAjKZDAEBARWX1NTURhvaGDxQlmHy+mM4ei0H1uXPaHZzbyH1WESVTOndDt3dW+BBiYrr\n",
              "dCIiqladn9kMDw/HpUuXkJycjJEjRyIsLKza46ytrZGUlFRx8fLyavCwxuK+sgyT1yci8S+hGeTG\n",
              "0CTdIzMRsHicP8ybmeCPlLv44Wi61CMREZGOqVNsmpubY9iwYRAEAQAQGhoKhUKhjbmM1n1lGSav\n",
              "S8QxxT1Ym8vxXVgPBDI0SYe1a9kc8x7rAAD4aNcFZORwnU5ERP/ToO/ZXLp0KUaOHFntdQ8ePEBw\n",
              "cDCCgoLw3nvvQaVSVXucUqlEfn5+pUtNxxq6guJSvLAuEcfTNKH5/dQeCHC1k3oson81uZcHQjzs\n",
              "UViiwtzNyVCruU4nIiKNesfmRx99hJSUFERFRVW5ztnZGdevX8exY8fw22+/ISEhAZ9++mm1txMV\n",
              "FQVbW9tKl8TExPqOpbcehuaJtHuwMZfjh7Ae8Gdokp4wMRGweJwfLJrJcORqDr4/mib1SEREpCPq\n",
              "FZtLlizBli1bsHv3blhaWla53szMDI6OjgAAe3t7vPjii0hISKj2thYsWIC8vLxKl5CQkPqMpbfy\n",
              "i0sxaV0iTqbnwtaiGX6cFgo/FzupxyKqE3eH5lgwTLNOj9p1EWl3H0g8ERER6YI6x2Z0dDRiYmKw\n",
              "d+9e2NnZVXtMdnY2SktLAWjW5Fu2bEFgYGC1x5qZmcHGxqbSRSaT1XUsvZVfXIpJaxNxqjw0fwjr\n",
              "gS5tbaUei6henuvhjlBPexSVqjB302mu04mIqG6xmZmZidmzZyM3NxcDBw5EQEAAevToAQB4++23\n",
              "sWLFCgDAoUOHEBgYCH9/fwQFBcHJyQlvvvlm40+v5/KKSvH82kQkZeTCzpKhSfrPxETA4rH+sDSV\n",
              "IVGRg2/+VEg9EhERSUwQdfAH40VERCA6OlrqMbQqr6gUk9YeRXJmHlpYNsMPYaHo1MZG6rGIGsX3\n",
              "R9Lw1razMG9mgt2v9kO7ls2lHomIiCTCdxCSQF5hKZ5naJIBm9jDDX28W6K4VI25m5Kh4jqdiMho\n",
              "MTabWF5hKZ5bexSnM/Ng39wUP05jaJLhEQQBH4/pCiszOY6n3cP6P65JPRIREUmEsdmEcgtLMHHt\n",
              "EZy5ngeH5qaImRaKjs4MTTJMLi0s8eYTHQEAi/dcQkr2fYknIiIiKTA2m8i9ByV4dvVRnL2eD4fy\n",
              "ZzTbO1lLPRaRVk0IdkVfn5ZQlqkxdzPX6URExoix2QTuPSjBxDVHcT4rHy2tTBETztAk4yAIAhaN\n",
              "8YO1mRyn0nOxJuGq1CMREVETY2xqWc6DEjxbEZpmiJkWCt/WDE0yHm3sLBD5ZCcAwKd7L+PKrQKJ\n",
              "JyIioqbE2NSiu/eVeHb1EVwoD82fwnvAh6FJRmhcdxcMaN8KJWVqzNmUjDKVWuqRiIioiTA2teTu\n",
              "fSUmrjmKizcL0MraDD+Fh8LbkaFJxkkQBHw82g/W5nIkZ+Zh5UGu04mIjAVjUwvu3Ffi2dWa0HSs\n",
              "CE0rqccikpSTrTneHd4ZAPD5b5dx6SbX6URExoCx2chuFyjxzKojuHSrAK1tNKHp1YqhSQQAo4Pa\n",
              "4tGOjihViZizKRmlXKcTERk8xmYjul2g+R7NK9n34WRjjp/Ce8KToUlUQRAEfPRUV9haNMOZ63lY\n",
              "sT9V6pGIiEjLGJuNJLugGM+Uh6azrTl+Cg/l+0ETVcPRxhwLR2jW6V/su4LzN/IlnoiIiLSJsdkI\n",
              "svOL8cyqI0j5S2h6MDSJajQyoA2GdGrNdToRkRFgbDZQdn4xJqw+gtTbD9CmPDTdHRiaRP9EEAR8\n",
              "+FRXtLBshvNZ+fgqPkXqkYiISEsYmw1wK78YE1YdwdXbD9DWzgI/hfdkaBLVUitrMywc2QUA8OW+\n",
              "FJy9nifxREREpA2MzXq6mVcemncehmYo3BwspR6LSK8M93PG0C5OKFNr1uklZVynExEZGsZmPWTl\n",
              "FWHCqsO49pfQdLVnaBLVlSAIeH9UF9g3N8XFmwVYtu+K1CMREVEjY2zW0Y3cIkxYdQSKu4VwaWGB\n",
              "n6czNIkaoqWVGd4vX6cv35+KM5lcpxMRGRLGZh1cLw/NtLuFcLW3wM/Te8KlBUOTqKGe8HPGE37O\n",
              "UKlFzN6UBGWZSuqRiIiokTA2a0kTmoeRnlMIN3tL/BTeE23tLKQei8hgvD+yC1pameLyrftY+hvX\n",
              "6UREhoKxWQuZ9woxYdVhZOQUwd3BEj+FhzI0iRqZfXNTfDCqKwBgxYFUJGXkSjsQERE1Csbmv8jI\n",
              "KcSEVUeQkVMEj/LQbMPQJNKKx7s4YWRAG6hFYPbGJBSXcp1ORKTvGJv/4GFoZt4rQruWzfFTeE84\n",
              "2zI0ibTp3eGd0craDKm3H+Cz3y5LPQ4RETUQY7MGD0Pzem4RPFs2R8y0UDjZmks9FpHBa9HcFB89\n",
              "pVmnrz54FSfS7kk8ERERNQRjsxrpdwvx9MrD/wvNcIYmUVMa3Kk1Rge2hVoE5m5K5jqdiEiPMTb/\n",
              "Ju3uAzy96jBu5BXDs1Vz/BQeitY2DE2ipvbO8M5wtDbD1TsPsGTPJanHISKieqpTbBYXF2PUqFHw\n",
              "9fWFv78/Bg8ejJSUlGqPjYuLQ4cOHeDj44PRo0cjPz+/UQbWJsWdB5iw6giy8orhVR6ajgxNIknY\n",
              "WjbDx2M06/S1f1zDcUWOxBMREVF91PmZzfDwcFy6dAnJyckYOXIkwsLCqhxz//59TJ06Fdu2bcOV\n",
              "K1fQpk0bvP/++40ysLZc+0toejta4afwnnC0ZmgSSWlQh9YY280FogjM2ZSMohKu04mI9E2dYtPc\n",
              "3BzDhg2DIAgAgNDQUCgUiirH7d69G4GBgejQoQMAYObMmYiJiWn4tFpy9fZ9TFh1GDfzi+HjaIWY\n",
              "aaFoZW0m9VhEBCDyyU5wsjGH4m4hPtlzUepxiIiojhr0PZtLly7FyJEjq3w+PT0d7u7uFR97eHgg\n",
              "KysLZWVlVY5VKpXIz8+vdFGpmu7Zi9Tb9zFh1RHcylfCt7UVYsIZmkS6xNbif+v09X8ocOTqXYkn\n",
              "IiKiuqh3bH700UdISUlBVFRUgwaIioqCra1tpUtiYmKDbrMuYk9kIrtAifatrREzLRQtrRiaRLpm\n",
              "QHtHTAh2BQDM23wahSVV/+NKRES6qV6xuWTJEmzZsgW7d++GpaVllevd3NyQlpZW8bFCoYCzszPk\n",
              "cnmVYxcsWIC8vLxKl5CQkPqMVS9zhrTHnCG++HFaDzgwNIl01ptPdEQbW3Ok5xRi0W6u04mI9EWd\n",
              "YzM6OhoxMTHYu3cv7Ozsqj3m8ccfx8mTJ3HxouYfhOXLl2PChAnVHmtmZgYbG5tKF5lMVtex6s3E\n",
              "RMArg3wYmkQ6ztq8GRaN9QMAfHs4DX+m3pF4IiIiqo06xWZmZiZmz56N3NxcDBw4EAEBAejRowcA\n",
              "4O2338aKFSsAANbW1lizZg1GjRoFb29vZGZmIjIysvGnJyKj0tenFZ7t4QZAs06/r+Q6nYhI1wmi\n",
              "KIpSD/F3ERERiI6OlnoMItJB95VleOyzg7ieW4SJPdzwYflbWxIRkW7iOwgRkV6xMpNjcfk6/Yej\n",
              "6Th0het0IiJdxtgkIr3Ty7slng/V/Hi1+bGnUVBcKvFERERUE8YmEeml14d2gKu9Ba7nFuGjXRek\n",
              "HoeIiGrA2CQivdTcTI7FY/0BADGJGThw+bbEExERUXUYm0Skt0I9HTC5lwcA4PXY08jnOp2ISOcw\n",
              "NolIr817vD3cHSyRlVeMD+LOSz0OERH9DWOTiPSapalmnS4IwMbjmYi/mC31SERE9BeMTSLSeyHt\n",
              "7PFi73YAgNe3nEZeIdfpRES6grFJRAZhzpD28GzZHLfylVgYd07qcYiIqBxjk4gMgoWpDIvH+cNE\n",
              "ALacvI7fzt+SeiQiIgJjk4gMSDf3Fgjr6wkAWLD1DHILSySeiIiIGJtEZFAiBvvCq1Vz3C5Q4t0d\n",
              "XKcTEUmNsUlEBsW8mQxLytfp25JuYM+5m1KPRERk1BibRGRwAt1aYHp/LwDAm1vPIOcB1+lERFJh\n",
              "bBKRQXrtUR/4OFrhzv0SvMN1OhGRZBibRGSQzOSadbrMRMAvyTew60yW1CMRERklxiYRGSx/Vzu8\n",
              "VL5Of2vbWdy5r5R4IiIi48PYJCKD9n+PeKODkzVyHpTg7e1npR6HiMjoMDaJyKD9dZ2+68xNxJ2+\n",
              "IfVIRERGhbFJRAavS1tbvDzQGwAQue0sbhdwnU5E1FQYm0RkFF4Z6I2Ozja4V1iKt7adgSiKUo9E\n",
              "RGQUGJtEZBRM5Sb4dJw/5CYC9py7hR3JXKcTETUFxiYRGY1ObWww6xEfAMDb288hO79Y4omIiAwf\n",
              "Y5OIjMpLA7zQpa0N8opK8cZWrtOJiLSNsUlERqWZzARLxvmjmUzAbxeysfXUdalHIiIyaIxNIjI6\n",
              "HZxs8NqjvgCAd3ecw808rtOJiLSlTrE5a9YseHh4QBAEJCUlVXvM/v37YWFhgYCAgIpLUVFRY8xK\n",
              "RNRopvfzhJ+LLfKLy7Bgy2mu04mItKROsTl27FgcOnQI7u7u/3hc+/btkZSUVHGxsLBo0JBERI1N\n",
              "LtO8Ot1UZoL4S7ex+USm1CMRERmkOsVmv3794OLioq1ZiIialE9ra/xnsGad/t4v55GVxy0MEVFj\n",
              "08r3bKampiIoKAjBwcFYvnz5Px6rVCqRn59f6aJSqbQxFhFRFdP6tkOAqx0KlGWYH8tXpxMRNbZG\n",
              "j82goCBkZmbi5MmT2Lp1K1asWIGNGzfWeHxUVBRsbW0rXRITExt7LCKiasnLX51uKjfBwcu38fOx\n",
              "DKlHIiIyKI0emzY2NrC1tQUAuLi44JlnnkFCQkKNxy9YsAB5eXmVLiEhIY09FhFRjbwdrTBniGad\n",
              "/sHOC7iey3U6EVFjafTYzMrKglqtBgAUFBQgLi4OgYGBNR5vZmYGGxubSheZTNbYYxER/aOpfTwR\n",
              "5GaH+8oyzN/MV6cTETWWOsXm9OnT4eLigszMTDz22GPw9vYGAISFhWHHjh0AgNjYWHTt2hX+/v4I\n",
              "DQ3F4MGDMWXKlMafnIioEclMBCwZ5w8zuQkOpdzBj4npUo9ERGQQBFEH//seERGB6OhoqccgIiO0\n",
              "9tA1vB93HpamMux5rR9c7S2lHomISK/xHYSIiP5iSi8PhHjYo7BEhXmbT0Ot1rn/jxMR6RXGJhHR\n",
              "X5iYCPhkrB/Mm5ng8NW7+OFomtQjERHpNcYmEdHfeLRsjtcf7wAA+GjXRaTfLZR4IiIi/cXYJCKq\n",
              "xqSeHujRzh5FpSrM2ZzMdToRUT0xNomIqmFiImDxWH9YmsqQeC0H3x5WSD0SEZFeYmwSEdXAzcES\n",
              "C4Zq1umLfr0IxZ0HEk9ERKR/GJtERP9gYg939PJyQHGpGnM2JUPFdToRUZ0wNomI/oGJiYBFY/zQ\n",
              "3FSG42n3sP6Pa1KPRESkVxibRET/wtXeEm8+0QkAsHjPJaTevi/xRERE+oOxSURUC8+EuKKvT0so\n",
              "y9SYy3U6EVGtMTaJiGpBEAR8PMYPVmZynEzPxdpDV6UeiYhILzA2iYhqqa2dBSKf7AgAWPLfy0jJ\n",
              "LpB4IiIi3cfYJCKqg/HdXdHftxVKytSYvek0ylRqqUciItJpjE0iojrQrNO7wtpcjuSMXKxK4Dqd\n",
              "iOifMDaJiOrI2dYCbz+peXX653uv4PItrtOJiGrC2CQiqoex3VwwqIMjSlRqzN6YjFKu04mIqsXY\n",
              "JCKqB0EQEDW6K2zM5ThzPQ8rD6RKPRIRkU5ibBIR1VNrG3MsHNkZALD09yu4kJUv8URERLqHsUlE\n",
              "1ACjAtri0Y6tUaoSMWcT1+lERH/H2CQiagBBEPDR6C6ws2yGczfysTye63Qior9ibBIRNZCjtTkW\n",
              "jtCs05ftu4JzN/IknoiISHcwNomIGsEI/zZ4vLMTytQiZm9MRkkZ1+lERABjk4ioUQiCgPdHdUEL\n",
              "y2a4eLMAX+67IvVIREQ6gbFJRNRIWlmb4f1RXQAAX+1PxdnrXKcTETE2iYga0ZN+bfBEV2eoytfp\n",
              "yjKV1CMREUmKsUlE1MjeG9kZDs1NcelWAb74net0IjJudYrNWbNmwcPDA4IgICkpqcbj1q5dCx8f\n",
              "H3h5eWHatGkoLS1t6JxERHrDwcoMH5Sv07/en4rkjFxpByIiklCdYnPs2LE4dOgQ3N3dazzm2rVr\n",
              "iIyMREJCAlJSUnDr1i2sWrWqwYMSEemToV2dMdy/DdQiMGdTMopLuU4nIuNUp9js168fXFxc/vGY\n",
              "zZs3Y8SIEXBycoIgCJgxYwZiYmIaNCQRkT56b0RntLQyw5Xs+/j8N67Ticg4Nfr3bKanp1d65tPD\n",
              "wwPp6ek1Hq9UKpGfn1/polLxGQAi0n8tmpvio6c06/RVB1PxU2I6yvh2lkRkZCR/gVBUVBRsbW0r\n",
              "XRITE6Uei4ioUQzp7ITRgW2hFoHXt5zBoE8PYOOxDL6HOhEZjUaPTTc3N6SlpVV8rFAo4ObmVuPx\n",
              "CxYsQF5eXqVLSEhIY49FRCSZqDFdsWBoBzg0N0V6TiHmxZ7GoE/346fEdEYnERm8Ro/NMWPGYMeO\n",
              "Hbh58yZEUcSKFSswYcKEGo83MzODjY1NpYtMJmvssYiIJGMml2F6fy8kzB+IN4d1REsrU2TkFOH1\n",
              "LWcwYPF+xCSm8+0tichg1Sk2p0+fDhcXF2RmZuKxxx6Dt7c3ACAsLAw7duwAAHh6emLhwoXo3bs3\n",
              "vL290apVK0yfPr3xJyci0jOWpnJM6+eJhHmD8NYTHdHSygzXc4uwYMsZDFyyHz8cTWN0EpHBEURR\n",
              "FKUe4u8iIiIQHR0t9RhERFpVVKLCj4npWHEgFbcLlACANrbmeGmgN8Z3d4GZnFseItJ/kr9AiIjI\n",
              "WFmYyjC1TzskzBuId4Z3gqO1GW7kFSNy21kMWLwf3x1W8O0uiUjvMTaJiCRm3kyGKb3b4eC8gXh3\n",
              "eCe0tjFDVl4xIrefQ/9P9uPbPxX8ofBEpLcYm0REOsK8mQyTe7fDgbkD8d7IznCyMcfN/GK8s+Mc\n",
              "+i+Ox/o/rjE6iUjvMDaJiHSMeTMZJvX0wIF5A/D+qC5wtjXHrXwlFv5yHv0+ice6Q4xOItIfjE0i\n",
              "Ih1lJpfh+VB37J87AB+M6oK2dhbILlDivbjz6PtJPNYkXEVRCaOTiHQbY5OISMeZyWV4LtQd8XMG\n",
              "4KOnuqKtnQVuFyjxwc4L6PtJPFYfvIrCkjKpxyQiqhZjk4hIT5jKTfBsDzfEzxmAj0d3hUsLC9y5\n",
              "r8SHuy6g3yfxWHUwldFJRDqHsUlEpGdM5SaYEKKJzkVjusLV3gJ37pfgo10X0XdRPFYcSMUDJaOT\n",
              "iHQDY5OISE81k5ng6WA37Js9AJ+M9YO7gyXuPijBx7svou8n8Vi+PwX3GZ1EJDHGJhGRnmsmM8H4\n",
              "7q74PaI/lozzh7uDJXIelOCTXy+h76J9+Cqe0UlE0mFsEhEZCLnMBGO7ueD3iP74dJw/2rVsjnuF\n",
              "pVi85xL6LNqHL/ddQUFxqdRjEpGRYWwSERkYucwEY7q5YO9/+uGzp/3h2bI5cgtLseS/l9FnUTy+\n",
              "+P0K8hmdRNREGJtERAZKLjPBU4Eu2BvRH0snBMCzVXPkFZUieu9l9Pl4H5b+dgV5RYxOItIuxiYR\n",
              "kYGTmQgYGdAWe/+jiU5vRyvkF5fhs98uo8+iffhs72VGJxFpDWOTiMhIPIzOPa/1w7JnAuHjaIWC\n",
              "4jIs/f0K+ny8D9H/vYS8QkYnETUuxiYRkZGRmQgY7t8Ge17rh6+eDYJvaysUKMvwxb4U9Fm0D5/+\n",
              "9xJyC0ukHpOIDARjk4jISJmYCHjCzxm/vtoPyycGoYOTNQqUZVi2LwV9FsVj8Z6LuPeA0UlEDcPY\n",
              "JCIyciYmAoZ1dcauWX2x4rkgdHS2wX1lGb6KT0WfRfuw6NeLyGF0ElE9MTaJiAiAJjof7+KMnf/X\n",
              "Byuf74ZOzjZ4UKLC1/s10fnx7ou4e18p9ZhEpGcYm0REVImJiYDHOjth56w+WPV8N3RuY4PCEhVW\n",
              "HEhF30/iEbXrAu4wOomolhibRERULUEQMKSzE+L+rw/WTOqOrm1tUViiwsqDV9F3UTw+3HketwsY\n",
              "nUT0zxibRET0jwRBwKOdWmPHK72xbnJ3+LnYoqhUhdUJ19D3k334IO48sguKpR6TiHQUY5OIiGpF\n",
              "EAQM6tAa21/ujfWTg+HvaofiUjXWHLqGvovi8d4v55Gdz+gkosoYm0REVCeCIGBgB0dsm9kL30wJ\n",
              "RqCbHZRlaqz74xr6fhKPd3ecwy1GJxGVY2wSEVG9CIKAAe0dseWlXtjwYgiCyqPzmz8VFdF5M4/R\n",
              "SWTsGJtERNQggiCgn28rxL7UC99NDUF39xYoKY/Ofovj8fb2s8jKK5J6TCKSSJ1j88qVK+jVqxd8\n",
              "fX0RHByMc+fOVTlm//79sLCwQEBAQMWlqIgPNEREhkwQBPT1aYVNM3rih7AeCPGwR0mZGhsOp6H/\n",
              "J/vx1rYzuJHLfwuIjI28rr9h+vTpCA8Px+TJk7F582ZMnjwZx44dq3Jc+/btkZSU1BgzEhGRHhEE\n",
              "Ab29W6KXlwMOX72Lz3+7gsRrOfj+SDp+PpaB8d1dMXOgN9raWUg9KhE1gTo9s5mdnY3jx4/jueee\n",
              "AwCMGTMGGRkZSElJ0cpwRESkvwRBQC+vltg4vSdipoUi1NMepSoRPxxNx4DF8Viw5Qwy7xVKPSYR\n",
              "aVmdYjMjIwPOzs6QyzVPiAqCADc3N6Snp1c5NjU1FUFBQQgODsby5ctrvE2lUon8/PxKF5VKVccv\n",
              "g4iIdFlPLwf8FN4TP4eHopeXA0pVImIS0zFg8X4s2HIaGTmMTiJDVec1em0EBQUhMzMTtra2yMzM\n",
              "xLBhw9CyZUuMHz++yrFRUVFYuHBhpc+FhoZqYywiIpJYD08H/OjpgMRrOVj6+2X8kXIXMYkZ2HQ8\n",
              "E2OCXPDyQG+4OVhKPSYRNSJBFEWxtgdnZ2fD29sbOTk5kMvlEEURzs7OOHToELy9vWv8fVFRUbhx\n",
              "4waWLVtW5TqlUgmlsvLbnUVGRmLp0qV1+DKIiEgfHVfkYOnvV5Bw5Q4AQGYiYHRgW7wyyBvuDs0l\n",
              "no6IGkOd1uiOjo4ICgrC999/DwCIjY2Fi4tLldDMysqCWq0GABQUFCAuLg6BgYHV3qaZmRlsbGwq\n",
              "XWQyWX2+FiIi0jPdPezx3dQeiH2pF/r5toJKLWLTiUwM+vQA5mxKhuLOA6lHJKIGqvOPPlq5ciVW\n",
              "rlwJX19ffPzxx1i/fj0AICwsDDt27ACgidCuXbvC398foaGhGDx4MKZMmdK4kxMRkcHo5t4CG14M\n",
              "wZaZvdC/PDo3n8jEI9EHELExCdcYnUR6q05r9KYSERGB6OhoqccgIiKJnEq/hy9+v4L4S7cBACYC\n",
              "MDJAs173amUl8XREVBd8ByEiItI5gW4tsH5KCLa/3BuPdHCEWgS2nrqOwdEH8NpPp5CSfV/qEYmo\n",
              "lhibRESks/xd7bB2cjB2vNIbj3bUROe2pBsY/NkBzIo5hZTsAqlHJKJ/wdgkIiKd5+dihzUvBCPu\n",
              "//pgcKfWEEVgR/INDP7sIF758SQu32J0EukqxiYREemNLm1tsXpSd+yc1QePddZEZ9zpLDz2+UG8\n",
              "/ONJXLrJ6CTSNYxNIiLSO53b2GLl892xa1ZfPN7ZCaII7CyPzpk/nMDFm/lSj0hE5RibRESktzq1\n",
              "scGK57th96t9MayrEwBg15mbePzzBMz47gTO32B0EkmNsUlERHqvo7MNlk/shj2v9cMTfs4QBODX\n",
              "czcx7IsETP/uOM7dyJN6RCKjxdgkIiKD0d7JGl89G4Q9r/XDk+XRuefcLTzxxSFM23AcZ68zOoma\n",
              "GmOTiIgMjm9ra3z5bBD++1o/jPBvA0EA9p6/hSeXHULYt8dwJpPRSdRUGJtERGSwfFpb44tnArH3\n",
              "P/0xKqANTATgtwvZGP7lIUz95hhOZ+ZKPSKRwWNsEhGRwfN2tMLnEwKxN6I/ngpsCxMB+P1iNkZ8\n",
              "+QemrE9EUkau1CMSGSzGJhERGQ2vVlb47OkA/BbRH6ODNNEZf+k2Rn31B15Yl4iT6fekHpHI4DA2\n",
              "iYjI6Hi2skL0+ADsmz0AY7u5QGYi4MDl2xi9/E9MWpeIE2mMTqLGwtgkIiKj5dGyOZaM88e+2f0x\n",
              "rjw6D16+jTFf/4nn1x7FcUWO1CMS6T3GJhERGT13h+ZYPM4f8bMH4OnurpCbCEi4cgdjVxzGxDVH\n",
              "kHiN0UlUX4xNIiKicm4Ollg01g/xcwbgmRBNdP6RchfjVx7Gs6uP4OjVu1KPSKR3GJtERER/42pv\n",
              "iajRD6PTDc1kAv5MvYunVx3BhFWHcTiV0UlUW4xNIiKiGmiisyvi5wzAxB6a6DxyNQfPrD6C8SsP\n",
              "48/UOxBFUeoxiXQaY5OIiOhfuLSwxIdPdcWBuQPxfKg7TGUmSLyWg2dXH8XTK4/gjxRGJ1FNGJtE\n",
              "RES11MbOAu+P6oID8wZgUs/y6FTkYOKaoxi34jASrtxmdBL9DWOTiIiojpxtLfDeyC44OG8gJvfy\n",
              "gKncBMfT7uH5tYkY8/WfOHiZ0Un0EGOTiIionpxszfHuiM5IKI9OM7kJTqbnYtK6RIz++k/sv5TN\n",
              "6CSjx9gkIiJqoNY2/4vOF3u3g5ncBKfSczF5/TE8tfxPxF9kdJLxYmwSERE1Ekcbc7w9vBMS5g/E\n",
              "1D7tYN7MBEkZuZjyzTGM+uoP7Lt4i9FJRoexSURE1Mgcrc0R+WQnJMwbhGl9NdGZnJmHF785jpFf\n",
              "/YHfzjM6yXgwNomIiLSklbUZ3nyiEw7NH4Tp/Txh0UyG05l5CNtwHMO/PIT/nrvJ6CSDV+fYvHLl\n",
              "Cnr16gVfX18EBwfj3Llz1R63du1a+Pj4wMvLC9OmTUNpaWmDhyUiItJHLa3MsGBYRxyaPxDT+3vC\n",
              "0lSGs9fzEf7dCTzxxSHsYXSSAatzbE6fPh3h4eG4fPky5s+fj8mTJ1c55tq1a4iMjERCQgJSUlJw\n",
              "69YtrFq1qjHmJSIi0lsOVmZYMLQjDs0fhJcGeKG5qQzns/Ix/bsTGPbFIfx6NgtqNaOTDEudYjM7\n",
              "OxvHjx/Hc889BwAYM2YMMjIykJKSUum4zZs3Y8SIEXBycoIgCJgxYwZiYmIab2oiIiI9Zt/cFPMf\n",
              "74BD8wfh5YGa6LyQlY8Z35/EsC8SsOsMo5MMh7wuB2dkZMDZ2Rlyuea3CYIANzc3pKenw9vbu+K4\n",
              "9PR0uLu7V3zs4eGB9PT0am9TqVRCqVRW+pxKparLWERERHqpRXNTzH2sA8L6eGLtoWv45k8FLt4s\n",
              "wMwfTsLdwRKtrMykHpH0TMRgX/Tybin1GJXUKTa1ISoqCgsXLqz0udDQUImmISIianotmptizmPt\n",
              "Eda3HdYduob1fyiQdrcQaXcLpR6N9My9Qt17jUydYtPV1RVZWVkoKyuDXC6HKIpIT0+Hm5tbpePc\n",
              "3NyQmppa8bFCoahyzEMLFixAREREpc9FRkbWZSwiIiKDYGdpiogh7TG1jycSFTlQqdVSj0R6xt/V\n",
              "TuoRqqhTbDo6OiIoKAjff/89Jk+ejNjYWLi4uFRaoQOa7+Xs06cP3n33XbRu3RorVqzAhAkTqr1N\n",
              "MzMzmJlVXhPIZLI6fhlERESGw9ayGQZ3ai31GESNos6vRl+5ciVWrlwJX19ffPzxx1i/fj0AICws\n",
              "DDt27AAAeHp6YuHChejduze8vb3RqlUrTJ8+vXEnJyIiIiKdJ4g6+IO9IiIiEB0dLfUYRERERNRA\n",
              "fAchIiIiItIaxiYRERERaQ1jk4iIiIi0hrFJRERERFrD2CQiIiIirWFsEhEREZHWMDaJiIiISGsY\n",
              "m0RERESkNYxNIiIiItIanXwHodGjR8PDw6PJ/jyVSoXExESEhITwfdn/guelZjw31eN5qR7PS814\n",
              "bqrH81IznpvqSXFe3N3d8eqrr/7rcToZm00tPz8ftra2yMvLg42NjdTj6Ayel5rx3FSP56V6PC81\n",
              "47mpHs9LzXhuqqfL54VrdCIiIiLSGsYmEREREWkNY5OIiIiItIaxCcDMzAzvvPMOzMzMpB5Fp/C8\n",
              "1Iznpno8L9XjeakZz031eF5qxnNTPV0+L3yBEBERERFpDZ/ZJCIiIiKtYWwSERERkdYwNomIiIhI\n",
              "a4wqNq9cuYJevXrB19cXwcHBOHfuXLXHrV27Fj4+PvDy8sK0adNQWlraxJM2rdqcl/3798PCwgIB\n",
              "AQEVl6KiIgmmbTqzZs2Ch4cHBEFAUlJSjccZ2/2lNufFGO8vxcXFGDVqFHx9feHv74/BgwcjJSWl\n",
              "2mPj4uLQoUMH+Pj4YPTo0cjPz2/iaZtWbc+NQqGATCardL9JTU2VYOKmM2TIEPj5+SEgIAB9+/bF\n",
              "qVOnqj3O2B5ngNqdG2N8rHlo/fr1EAQB27Ztq/Z6nXqcEY3IwIEDxfXr14uiKIqbNm0Su3fvXuWY\n",
              "q1evis7OzmJWVpaoVqvF4cOHi19++WUTT9q0anNe4uPjRX9//6YdTGIHDhwQMzIyRHd3d/HUqVPV\n",
              "HmOM95fanBdjvL8UFRWJO3fuFNVqtSiKorhs2TKxf//+VY4rKCgQHR0dxQsXLoiiKIovv/yyOGfO\n",
              "nKYctcnV9txcu3ZNtLW1bdrhJHbv3r2KX2/ZskX08/OrcowxPs6IYu3OjTE+1oii5u9Kz549xdDQ\n",
              "UHHr1q1Vrte1xxmjeWYzOzsbx48fx3PPPQcAGDNmDDIyMqr873rz5s0YMWIEnJycIAgCZsyYgZiY\n",
              "GClGbhK1PS/GqF+/fnBxcfnHY4zt/gLU7rwYI3NzcwwbNgyCIAAAQkNDoVAoqhy3e/duBAYGokOH\n",
              "DgCAmTNnGvx9prbnxhjZ2dlV/DovL6/iHP2VMT7OALU7N8ZIrVYjLCwMy5Ytq/HHHOna44zRxGZG\n",
              "RgacnZ0hl8sBAIIgwM3NDenp6ZWOS09Ph7u7e8XHHh4eVY4xJLU9LwCQmpqKoKAgBAcHY/ny5U09\n",
              "qk4ytvtLXRj7/WXp0qUYOXJklc9Xd5/JyspCWVlZU44nqZrODQA8ePAAwcHBCAoKwnvvvQeVStXE\n",
              "0zW9SZMmwdXVFZGRkfjuu++qXG/MjzP/dm4A43usiY6ORu/evdGtW7caj9G1xxm5JH8q6Z2goCBk\n",
              "ZmbC1tYWmZmZGDZsGFq2bInx48dLPRrpIGO/v3z00UdISUnB77//LvUoOuefzo2zszOuX78OR0dH\n",
              "5OTk4Omnn8ann36KefPmSTBp09mwYQMA4Ntvv8X8+fOxa9cuiSfSHf92boztsebs2bOIjY3FwYMH\n",
              "pR6lTozmmU1XV9dKVS+KItLT0+Hm5lbpODc3N6SlpVV8rFAoqhxjSGp7XmxsbGBrawsAcHFxwTPP\n",
              "PIOEhIQmn1fXGNv9pbaM+f6yZMkSbNmyBbt374alpWWV66u7z/x1u2DI/u3cmJmZwdHREQBgb2+P\n",
              "F1980WjuNwDwwgsvID4+Hnfv3q30eT7O1HxujO2xJiEhAQqFAj4+PvDw8MCRI0cQHh6Or7/+utJx\n",
              "uvY4YzSx6ejoiKCgIHz//fcAgNjYWLi4uMDb27vScWPGjMGOHTtw8+ZNiKKIFStWYMKECVKM3CRq\n",
              "e16ysrKgVqsBAAUFBYiLi0NgYGCTz6trjO3+UlvGen+Jjo5GTEwM9u7dW+n7zf7q8ccfx8mTJ3Hx\n",
              "4kUAwPLly43iPlObc5OdnV3xKmulUoktW7YY9P0mNzcXN27cqPh427ZtcHBwgL29faXjjPFxprbn\n",
              "xtgea1566SVkZWVBoVBAoVAgNDQUq1atwksvvVTpOJ17nJHspUkSuHjxohgaGir6+PiI3bp1E0+f\n",
              "Pi2KoihOnTpV3L59e8Vxq1atEj09PUVPT0/xxRdfFEtKSqQauUnU5rwsW7ZM7NSpk+jn5yd26tRJ\n",
              "fOeddypeWWqowsPDxbZt24oymUx0dHQUvby8RFHk/aU258UY7y8ZGRkiANHT01P09/cX/f39xZCQ\n",
              "EFEURTEyMlL8+uuvK47dvn272L59e9HLy0scOXKkmJubK9XYTaK25yY2Nlbs3Llzxf3mlVdeEYuL\n",
              "i6UcXasUCoUYHBwsdunSRfTz8xMfeeSRip/wYOyPM7U9N8b4WPNX/fv3r3g1ui4/zvC90YmIiIhI\n",
              "a4xmjU5ERERETY+xSURERERaw9gkIiIiIq1hbBIRERGR1jA2iYiIiEhrGJtEREREpDWMTSIiIiLS\n",
              "GsYmEREREWkNY5OIiIiItIaxSURERERaw9gkIiIiIq35f2xiY8JfWi4sAAAAAElFTkSuQmCC\n",
              "\">\n",
              "      </div>\n",
              "      <script type=\"text/javascript\">\n",
              "        (() => {\n",
              "          const chartElement = document.getElementById(\"chart-9ceba26a-1c39-4612-be0a-cb1ab6277a39\");\n",
              "          async function getCodeForChartHandler(event) {\n",
              "            const chartCodeResponse =  await google.colab.kernel.invokeFunction(\n",
              "                'getCodeForChart', [\"chart-9ceba26a-1c39-4612-be0a-cb1ab6277a39\"], {});\n",
              "            const responseJson = chartCodeResponse.data['application/json'];\n",
              "            await google.colab.notebook.addCell(responseJson.code, 'code');\n",
              "          }\n",
              "          chartElement.onclick = getCodeForChartHandler;\n",
              "        })();\n",
              "      </script>\n",
              "      <style>\n",
              "        .colab-quickchart-chart-with-code  {\n",
              "            display: block;\n",
              "            float: left;\n",
              "            border: 1px solid transparent;\n",
              "        }\n",
              "\n",
              "        .colab-quickchart-chart-with-code:hover {\n",
              "            cursor: pointer;\n",
              "            border: 1px solid #aaa;\n",
              "        }\n",
              "      </style>"
            ]
          },
          "metadata": {}
        },
        {
          "output_type": "display_data",
          "data": {
            "text/plain": [
              "<google.colab._quickchart_helpers.SectionTitle at 0x7a6c42f78670>"
            ],
            "text/html": [
              "<h4 class=\"colab-quickchart-section-title\">Faceted distributions</h4>\n",
              "<style>\n",
              "  .colab-quickchart-section-title {\n",
              "      clear: both;\n",
              "  }\n",
              "</style>"
            ]
          },
          "metadata": {}
        },
        {
          "output_type": "stream",
          "name": "stderr",
          "text": [
            "<string>:5: FutureWarning: \n",
            "\n",
            "Passing `palette` without assigning `hue` is deprecated and will be removed in v0.14.0. Assign the `y` variable to `hue` and set `legend=False` for the same effect.\n",
            "\n"
          ]
        },
        {
          "output_type": "display_data",
          "data": {
            "text/plain": [
              "from matplotlib import pyplot as plt\n",
              "import seaborn as sns\n",
              "figsize = (12, 1.2 * len(_df_3['id_code'].unique()))\n",
              "plt.figure(figsize=figsize)\n",
              "sns.violinplot(_df_3, x='diagnosis', y='id_code', inner='stick', palette='Dark2')\n",
              "sns.despine(top=True, right=True, bottom=True, left=True)"
            ],
            "text/html": [
              "      <div class=\"colab-quickchart-chart-with-code\" id=\"chart-adec77d7-db0c-496b-bf0c-6283c5194d30\">\n",
              "        <img style=\"width: 180px;\" src=\"data:image/png;base64,iVBORw0KGgoAAAANSUhEUgAABB8AAAIBCAYAAAABNBd5AAAAOXRFWHRTb2Z0d2FyZQBNYXRwbG90\n",
              "bGliIHZlcnNpb24zLjguMCwgaHR0cHM6Ly9tYXRwbG90bGliLm9yZy81sbWrAAAACXBIWXMAAA9h\n",
              "AAAPYQGoP6dpAAA71ElEQVR4nO39e7yVBZ33/783bEWdWzBBkEQk5KAcNhsUUhssylM2oXks8UBq\n",
              "IA423mYpmalTQXNrmVmmNspt2qiTkDpaYpEi3WqCgBxUFHIH6lYIFBCR4/X9w5/rN/vmIHJ7sQGf\n",
              "z8djP2Rfp/VZ63qsx2q/WutaVUVRFAEAAAAoSZPGHgAAAADYsYkPAAAAQKnEBwAAAKBU4gMAAABQ\n",
              "KvEBAAAAKJX4AAAAAJRKfAAAAABKJT4AAAAApRIfAAAAgFKJDwAAAECpxAcAAACgVOIDAAAAUCrx\n",
              "AQAAACiV+AAAAACUSnwAAAAASiU+AAAAAKUSHwAAAIBSiQ8AwEfesGHDMmzYsMYeAwB2WNWNPQAA\n",
              "QGN7/fXXG3sEANiheecDAAAAUCrxAQAAACiV+AAAAACUSnwAAAAASiU+AAAAAKUSHwAAAIBSiQ8A\n",
              "AABAqcQHAAAAoFTiAwAAAFAq8QEAAAAolfgAAAAAlEp8AAAAAEolPgAAAAClEh8AAACAUokPAAAA\n",
              "QKnEBwAAAKBU4gMAAABQKvEBAAAAKJX4AAAAAJRKfAAAAABKJT4AAAAApRIfAAAAgFKJDwAAAECp\n",
              "xAcAAACgVOIDAAAAUCrxAQAAACiV+AAAAACUSnwAAAAASiU+AAAAAKUSHwAAAIBSiQ8AAABAqcQH\n",
              "AAAAoFSlx4cXX3wxhx12WLp06ZK+fftm1qxZm1z+fus2ZuTIkenatWuaNGmSe++9d4Pb/OlPf0rT\n",
              "pk3zk5/8pLLssssuS8+ePVNbW5va2trcdddd6+333HPPZbfddsuFF1640du/+OKLc+WVVyZJVqxY\n",
              "kTPPPDM9evRIjx49MnDgwCxcuHCD+z3wwAP5zGc+kyQZN25cZY7a2tp8/OMfT58+fd73vgMAAMC2\n",
              "rPT4MHTo0AwZMiQvvPBCLrnkkgwePHiTy99v3cYcccQR+f3vf5/DDz98g+uXLFmSSy+9NMcee2yD\n",
              "5d/85jczY8aMTJs2LQ8++GCGDBmSv//975X1q1evzpAhQ/KlL31ps+/zTTfdlLfffjszZszIzJkz\n",
              "06ZNm1x99dXvu9/RRx+dadOmVX769OmTQYMGbfbtAgAAwLao1PiwYMGCTJ48OaeffnqS5MQTT8z8\n",
              "+fPz1FNPbXD5nDlzNrrPnDlzkiRPPPFE/vEf/zG9evVKTU1N7rvvviRJv3790rFjx43OMnz48Hzn\n",
              "O99Jy5YtGyzfY489Kv9+6623UhRF1q1bV1n2r//6rzn55JPTuXPnBvvV19fn6KOPTrdu3XLEEUfk\n",
              "5ZdfrqyrqqrK22+/ndWrV2fNmjV566230q5duyTvxozzzz8/nTt3Tr9+/fLII49scN5XX30148eP\n",
              "zxlnnLHxBxgAAAC2A6XGh/nz56dt27aprq5O8u4f5e3bt8/EiRM3uHzevHkb3WfevHlZvHhxjj/+\n",
              "+IwaNSrPPPNMpk2blv79+7/vHPfcc0+aNGmSgQMHbnD9T3/603Tt2jV9+vTJzTffnNatWydJ/vKX\n",
              "v+SJJ57IBRdcsN4+X//619OvX788++yzue222zJ+/PjKuqFDh2b33XdP69at06ZNmyxZsiTDhw9P\n",
              "ktx8882ZPXt2Zs2alT//+c+ZMmXKBmf63//7f+fYY4+tzLIhK1euzNKlSxv8rFy58n0fDwAAANia\n",
              "tqsLTj7xxBPp2rVrJTg0adIke+655yb3ee211/L9738/11133Ua3+frXv57Zs2fn8ccfz8iRI7No\n",
              "0aK8/fbbOf/88/PLX/4yVVVV6+0zfvz4nHvuuUmSffbZp0HYePjhh7Nu3bq89tprqa+vzx577JHv\n",
              "fve7lf3OPPPM7Lzzztl5551z9tlnr3fsoihy66235pxzztnkfRs1alRatGjR4GfUqFGb3AcAAAC2\n",
              "tuoyD77vvvumvr4+a9asSXV1dYqiyLx589K/f/9cddVV6y1v3759mjdvvsF92rdvn9mzZ3/gGZ5+\n",
              "+unU19entrY2SfL3v/89999/fxYuXJgf/OAHDbbt1atX9tlnnzz66KPp0qVL5s2blwEDBiRJ3nzz\n",
              "zaxbty5vvPFGbrvttvVu578HiptvvjmnnXZadtlllyTJoEGDMnLkyA3Ot6GwMWHChLzzzjs5+uij\n",
              "N3nfRowYkYsuuqjBsmbNmm1yHwAAANjaSn3nQ+vWrdOnT5/ccccdSZIxY8akXbt26dev3waXd+rU\n",
              "aaP7dOrUKYcddlhefPHFTJw4MUmybt26LF68eJMzfOELX8jrr7+eurq61NXV5aSTTsp3v/vdSnh4\n",
              "9tlnK9vOnTs3U6dOTbdu3dKzZ88sXLiwst+FF16Ys88+uxIejjjiiNx6661J3r3+w/333185TseO\n",
              "HfPwww+nKIoURZEHH3wwPXr0qOx3xx13ZPXq1Vm1alVGjx693sy33HJLBg8enKZNm27yvjVr1izN\n",
              "mzdv8CM+AAAAsK0p9Z0Pybvf/DB48OCMHDkyzZs3r/yxvbHlm1r3sY99LL/97W/zjW98I8uWLUuT\n",
              "Jk3yve99L1/84hfz/e9/PzfeeGMWLlyYmTNnZvjw4Zk6dWr22muvTc73rW99Ky+99FJ22mmnVFdX\n",
              "52c/+1kOPPDA971f1113XQYPHpxu3bpln332yWc/+9nKuiuvvDJDhgypBIcDDjggN910U5Lka1/7\n",
              "WmbOnJlu3brlYx/7WPr375+nn366su+SJUsyduzYzJgxYzMfYQAAANi2VRVFUTT2EAAAjemEE05I\n",
              "kowdO7aRJwGAHdN2dcFJAAAAYPsjPgAAAAClEh8AAACAUokPAAAAQKnEBwAAAKBU4gMAAABQKvEB\n",
              "AAAAKJX4AAAAAJRKfAAAAABKJT4AAAAApRIfAAAAgFKJDwAAAECpxAcAAACgVOIDAAAAUCrxAQAA\n",
              "ACiV+AAAAACUSnwAAAAASiU+AAAAAKUSHwAAAIBSiQ8AAABAqcQHAAAAoFTiAwAAAFAq8QEAAAAo\n",
              "lfgAAAAAlEp8AAAAAEolPgAAAAClEh8AAACAUokPAAAAQKnEBwAAAKBU4gMAAABQKvEBAAAAKJX4\n",
              "AAAAAJSqurEHAABobG3atGnsEQBgh1ZVFEXR2EMAAAAAOy4fuwAAAABKJT4AAAAApRIfAAAAgFKJ\n",
              "DwAAAECpxAcAAACgVOIDAAAAUCrxAQAAACiV+AAAAACUSnwAAAAASiU+AAAAAKUSHwAAAIBSiQ8A\n",
              "AABAqcQHAAAAoFTiAwAAAFAq8QEAAAAolfgAAAAAlEp8AAAAgG3MsGHDMmzYsMYe40NT3dgDAAAA\n",
              "AA29/vrrjT3Ch8o7HwAAAIBSiQ8AAABAqcQHAAAAoFTiAwAAAFAq8QEAAAAolfgAAAAAlEp8AAAA\n",
              "AEolPgAAAAClEh8AAACAUokPAAAAQKnEBwAAAKBU4gMAAABQKvEBAAAAKJX4AAAAAJRKfAAAAABK\n",
              "JT4AAAAApRIfAAAAgFKJDwAAAECpxAcAAACgVOIDAAAAUCrxAQAAACiV+AAAAACUSnwAAAAASiU+\n",
              "AAAAAKUSHwAAAIBSiQ8AAABAqcQHAAAAoFTiAwAAAFAq8QEAAAAolfgAAAAAlEp8AAAAAEolPgAA\n",
              "AACl2qrx4cUXX8xhhx2WLl26pG/fvpk1a9YmlyfJ17/+9XTo0CFVVVWZNm1ag+OtXLkyw4cPT+fO\n",
              "ndOzZ8+cfvrplXVHHXVUampqUltbm/79+2fq1KmVdQ899FAOPvjg1NTU5JBDDskzzzyzWfNv6TEX\n",
              "LFiQY445Jp07d06PHj3y2GOPVdY9+eST6dmzZ3r37p1x48ZtclsAAADYLhVb0YABA4rRo0cXRVEU\n",
              "v/nNb4qDDz54k8uLoigmTJhQzJ8/v9hvv/2KqVOnNjjehRdeWAwfPrxYt25dURRFUV9fX1n3xhtv\n",
              "VP49duzYoqampiiKoli8eHGx5557FjNnziyKoigee+yxonv37ps1/5Ye86tf/WpxxRVXFEVRFE89\n",
              "9VSxzz77FKtWrSqKoijOO++8YuTIkZu1LQAAAB8NX/rSl4ovfelLjT3Gh6Z6a0WOBQsWZPLkyXn4\n",
              "4YeTJCeeeGKGDx+ep556aoPL58yZk06dOuXwww/f4PGWL1+eW265JS+//HKqqqqSJHvvvXdl/R57\n",
              "7FH595IlSyrbzJ07Ny1btkz37t2TJP3798+8efMyZcqU9OnTJxdffHEmTJiQ1atXp3nz5vnlL3+Z\n",
              "rl27/j8d8z//8z8zZ86cJEnfvn3z8Y9/PBMmTMjkyZNz9913Z9ddd83dd9+dRx99dKPbHnHEEes9\n",
              "BitXrszKlSsbLGvWrFmaNWv2fqcDAAAAtpqt9rGL+fPnp23btqmufrd3VFVVpX379pk4ceIGl8+b\n",
              "N2+Tx5s7d2723HPPjBw5MgcffHD69++f8ePHN9jmzDPPzL777pvLL788t99+e5Kkc+fOWbRoUR5/\n",
              "/PEkyf33359ly5alrq4uSXLJJZdk0qRJmTZtWs4///z8y7/8y//TMRctWpTVq1c3CCMdOnTIvHnz\n",
              "cumll2bgwIH55je/mWnTpmXt2rUb3XZDRo0alRYtWjT4GTVq1CYfNwAAANjatto7Hz5sa9asyd/+\n",
              "9rd069YtP/zhDzN16tQceeSRmTVrVtq0aZMk+dWvfpUkue2223LJJZfkd7/7XVq0aJF77rknI0aM\n",
              "yFtvvZVDDz003bp1q8SPP/zhD7n++uuzbNmyrFu3LosXL25wu1tyzLKMGDEiF110UYNl3vUAAADA\n",
              "tmarxYd999039fX1WbNmTaqrq1MURebNm5f+/fvnqquuWm95+/btN3m89u3bp0mTJhk0aFCSpHfv\n",
              "3vnEJz6RGTNmVOLDe84666ycd955WbRoUVq2bJkBAwZkwIABSd796MLee++dbt26Zd68eRk+fHgm\n",
              "TZqU/fffP9OnT9/oxz4295gtW7ZMdXV1Xnvttco7Gurq6jZ4/z7ItomPWAAAALB92Gofu2jdunX6\n",
              "9OmTO+64I0kyZsyYtGvXLv369dvg8k6dOm3yeK1atcrnPve5jBs3Lkny0ksv5aWXXsqBBx6YN998\n",
              "M6+++mpl23vvvTctW7bMnnvumSSpr6+vrPve976Xz372s+nUqVOWLFmSnXbaKW3btk1RFPnZz35W\n",
              "2W5Lj5kkJ598cm688cYkyaRJk/LKK6/k05/+9Abv1wfZFgAAALYHW/VjFzfddFMGDx6ckSNHpnnz\n",
              "5hk9evQmlyfJ0KFD8+CDD+a1117L0Ucfnd13371yQcYbb7wx55xzTi655JI0adIkN910U/bZZ5/8\n",
              "7W9/y8knn5wVK1akSZMm2WuvvfLAAw9ULhD53e9+NxMnTsyaNWty6KGH5pZbbkmS9OzZM1/+8pfT\n",
              "vXv3tGzZMscff3xljiVLlmzRMZPk3/7t33LGGWekc+fO2XnnnXPHHXdkp5122uBj9EG2BQAAgO1B\n",
              "VVEURWMPAQAAAPz/nXDCCUmSsWPHNvIkH46t9rELAAAA4KNJfAAAAABKJT4AAAAApRIfAAAAgFKJ\n",
              "DwAAAECpxAcAAACgVOIDAAAAUCrxAQAAACiV+AAAAACUSnwAAAAASiU+AAAAAKUSHwAAAIBSiQ8A\n",
              "AABAqcQHAAAAoFTiAwAAAFAq8QEAAAAolfgAAAAAlEp8AAAAAEolPgAAAAClEh8AAACAUokPAAAA\n",
              "QKnEBwAAAKBU4gMAAABQKvEBAAAAKJX4AAAAAJRKfAAAAABKJT4AAAAApRIfAAAAgFKJDwAAAECp\n",
              "xAcAAACgVOIDAAAAUKrqxh4AAAAAaKhNmzaNPcKHqqooiqKxhwAAAAB2XD52AQAAAJRKfAAAAABK\n",
              "JT4AAAAApRIfAAAAgFKJDwAAAECpxAcAAACgVOIDAAAAUCrxAQAAACiV+AAAAACUSnwAAAAASiU+\n",
              "AAAAAKUSHwAAAIBSiQ8AAABAqcQHAAAAoFTiAwAAAFAq8QEAAAAolfgAsB0bNmxYhg0b1thjAADA\n",
              "JlU39gAAbLnXX3+9sUcAAID35Z0PAAAAQKnEBwAAAKBU4gMAAABQKvEBAAAAKJX4AAAAAJRKfAAA\n",
              "AABKJT4AAAAApRIfAAAAgFKJDwAAAECpxAcAAACgVOIDAAAAUCrxAQAAACiV+AAAAACUSnwAAAAA\n",
              "SiU+AAAAAKUSHwAAAIBSbXF8WL16debOnfthzgIAAADsgLYoPjz66KPZb7/9MmDAgCTJpEmTcvrp\n",
              "p3+ogwEAAAA7hi2KD5deemkmTpyYli1bJkn69u2bqVOnfqiDAQAAADuGLYoPa9euzf77799g2c47\n",
              "7/yhDAQAAADsWLYoPuyyyy556623UlVVlSSZMWNGdt111w91MAAAAGDHUL0lO11++eU56qij8sor\n",
              "r+T000/PH//4x/zHf/zHhz0bAAAAsAPYovhw1FFHpXPnznnooYdSFEWuuuqq9T6GAQAAAJBsYXxI\n",
              "kk984hMZNmzYhzkLAAAAsAP6QPHhE5/4ROU6Dxvy17/+9f95IAAAAGDH8oHiwwMPPJAkueuuu1JX\n",
              "V5ehQ4cmSX75y19mv/32+/CnAwAAALZ7VUVRFB90p759+2bSpEmV34uiSL9+/RosA6B8J5xwQpJk\n",
              "7NixjTwJAABs3BZ91eaSJUuyfPnyyu/Lly/PkiVLPrShAAAAgB3HFl1w8rTTTsshhxySU045JUny\n",
              "m9/8JqeffvqHOhgAAACwY9ii+HDllVemb9+++dOf/pQk+bd/+7d8/vOf/1AHAwAAAHYMW/xVm1/4\n",
              "whfSu3fvJMnHP/7xD20gAAAAYMeyRdd8eO6559K9e/f06NEjPXr0SM+ePfP8889/2LMBAAAAO4At\n",
              "ig/nn39+LrvssixevDiLFy/OZZddlmHDhm1ynxdffDGHHXZYunTpkr59+2bWrFmbXP7OO+/k+OOP\n",
              "T5cuXdKrV68ceeSRmTNnznrH/dOf/pSmTZvmJz/5yQe+HxdffHGuvPLK991u8ODBGz3+unXrcsEF\n",
              "F2T//fdPp06d8rOf/ex9jzdp0qQcdthh2W233XL88cd/sKEBAABgO7NF8eGNN97IaaedVvn9y1/+\n",
              "ct54441N7jN06NAMGTIkL7zwQi655JIMHjx4k8uTZMiQIZk9e3aeeeaZHHfccTn33HMbHHPJkiW5\n",
              "9NJLc+yxx27J3fhQ3HHHHXn22Wfzwgsv5KmnnsrVV19dCSgb07Zt2/zkJz/Jtddeu5WmBAAAgMaz\n",
              "RfGhadOmefbZZyu/P/vss2natOlGt1+wYEEmT55c+UaME088MfPnz89TTz21weVz5szJLrvskmOP\n",
              "PTZVVVVJkkMOOSR1dXUNjjt8+PB85zvfScuWLRssf+WVV3LSSSelZ8+eqampyeWXX54kqa+vz9FH\n",
              "H51u3brliCOOyMsvv1zZZ/z48Tn00EPTu3fvdO/ePbfcckuDY06fPr3yDo2zzjorK1asSJLcfffd\n",
              "+drXvpamTZtmzz33zKmnnpo777wzybtx5Nxzz02PHj3Sq1evnH322UmSdu3apV+/fmnWrNl6j9Xq\n",
              "1atz6aWXpl+/fqmtrc0pp5zyvmEHAAAAtmVbdMHJkSNH5vDDD09NTU2SZMaMGfn1r3+90e3nz5+f\n",
              "tm3bprr63ZurqqpK+/btM3HixA0unzdvXjp16tTgGNddd12OO+64yu/33HNPmjRpkoEDB2bs2LEN\n",
              "tj399NNz1FFH5Z577kmSLFy4MEny9a9/Pf369cu4cePyyiuvpLa2NgcccECSpE+fPvnzn/+cpk2b\n",
              "ZvHixendu3eOPvrotGvXLknyl7/8JU8++WTloxLXXnttvv3tb2fevHnZb7/9KrfdoUOHPPnkk0mS\n",
              "Cy+8MLvuumumT5+eJk2aVObYlKuvvjr/8A//kKeeeipJ8r3vfS/f+c538vOf/3y9bVeuXJmVK1c2\n",
              "WNasWbMNRg0AAABoLFsUH44++ug899xz+ctf/pLk3XcltGrV6kMd7L8bOXJk5syZk/HjxydJXnvt\n",
              "tXz/+9/Po48+ut62b731Vv785z9n3LhxlWV77bVXknff3XDNNdckSfbZZ58MHDiwss2iRYtyzjnn\n",
              "5IUXXkh1dXUWLVqUmTNnVuLDKaeckt133z1Jcs455+SnP/1pvv3tb29y7gceeCB/+ctf0qRJkwZz\n",
              "bMq9996bJUuWZMyYMUmSVatWpUOHDhvcdtSoUbnqqqsaLLviiis26zoWAAAAsLVsUXyYNGlSDjjg\n",
              "gPzTP/1TkmTp0qWZPHlyDj744A1uv++++6a+vj5r1qxJdXV1iqLIvHnz0r9//1x11VXrLW/fvn1l\n",
              "32uuuSZjx47NH//4x+y2225Jkqeffjr19fWpra1Nkvz973/P/fffn4ULF2bEiBGbfT/e+0hHkpx3\n",
              "3nk59thjM2bMmFRVVaVPnz5555133nff9u3b529/+1sOPfTQJEldXV2D+T+ooihy/fXX56ijjnrf\n",
              "bUeMGJGLLrqowTLvegAAAGBbs0XXfBg6dGglBCTJbrvtlvPOO2+j27du3Tp9+vTJHXfckSQZM2ZM\n",
              "5boHG1r+3kcufvzjH+fOO+/MH/7wh+yxxx6V433hC1/I66+/nrq6utTV1eWkk07Kd7/73fzgBz/I\n",
              "//gf/yOHH354fvSjH1W2f+/jDkcccURuvfXWJO9e/+H++++vbPPGG29kv/32S1VVVR577LE888wz\n",
              "De7DPffck7feeitr167N6NGjc8QRRyRJTj755Pzyl7/M2rVrs3jx4tx999059dRTkyQDBw7MNddc\n",
              "k3Xr1jWYY1Pe+0jH22+/nSR5++23N3oBy2bNmqV58+YNfsQHAAAAtjVbFB/WrVvX4AKT1dXVWbNm\n",
              "zSb3uemmm3LTTTelS5cu+eEPf5jRo0dvcvnLL7+cb3zjG3nzzTczYMCA1NbW5pOf/ORmzXf77bdn\n",
              "8uTJ6d69e2praytff3ndddflySefTLdu3XLmmWfms5/9bGWfH/7wh7n00ktTW1ubW2+9db3b6tu3\n",
              "b44++ugceOCB2WOPPXLhhRcmSc4444wccMAB6dy5c/r27ZuLLrooPXv2TJJce+21WblyZXr27Jna\n",
              "2trKxzRmz56ddu3a5aKLLsq4cePSrl273HDDDUmSSy65JH379s0nP/nJ1NTU5JBDDsm0adM2634D\n",
              "AADAtqiqKIrig+7Ur1+//PrXv07nzp2TJC+88EIGDRqUSZMmfegDArBxJ5xwQpKsd+FdAADYlmzR\n",
              "NR+uuOKK/OM//mM+//nPJ0nGjRtXeccCAAAAwH+3RfHhC1/4Qv785z/nD3/4Q5Lk8ssvz/777/+h\n",
              "DgYAAADsGLYoPiRJ586dKx+7+L997nOfq3wtJgAAAPDRtkUXnHw/ixcvLuOwAAAAwHaolPhQVVVV\n",
              "xmEBAACA7VAp8QEAAADgPeIDAAAAUKpS4sO+++5bxmEBAACA7dAH+raLxx57bJPrDz/88CTJfffd\n",
              "t+UTAQAAADuUDxQfvvGNbyRJ1q5dm2nTpqVjx46pqqrK3LlzU1tbmylTppQyJAAAALD9+kAfu5g0\n",
              "aVImTZqU2trajBs3LnPmzMmLL76Yhx9+OH369ClrRgAAAGA7tkXXfJg8eXKOPPLIyu9HHHFEJk2a\n",
              "9KENBQAAAOw4tig+NG3aNI888kjl9wkTJqRJE1+cAQAAAKzvA13z4T0///nP8+Uvfzk77bRTkmTN\n",
              "mjW5++67P9TBAAAAgB3DFsWHww47LHPnzs3zzz+fJDnggAMqIQIAAADgv/tA8WH58uX5h3/4hyxd\n",
              "ujRJst9++yVJVqxYkRUrVqR58+Yf/oQAAADAdu0DxYf+/ftnypQp2WOPPVJVVZWiKBr8d+3atWXN\n",
              "CQAAAGynPlB8mDJlSpJk3bp1pQwDAAAA7Hh8RQUAAABQKvEBAAAAKJX4AAAAAJRKfAAAAABKJT4A\n",
              "AAAApRIfAAAAgFKJDwAAAECpxAcAAACgVOIDAAAAUCrxAQAAACiV+AAAAACUSnwAAAAASiU+AAAA\n",
              "AKUSHwAAAIBSVTf2AABsuTZt2jT2CAAA8L6qiqIoGnsIAAAAYMflYxcAAABAqcQHAAAAoFTiAwAA\n",
              "AFAq8QEAAAAolfgAAAAAlEp8AAAAAEolPgAAAAClEh8AAACAUokPAAAAQKnEBwAAAKBU4gMAAABQ\n",
              "KvEBAAAAKJX4AAAAAJRKfAAAAABKJT4AAAAApRIf2OqGDRuWYcOGNfYYAAAAbCXVjT0AHz2vv/56\n",
              "Y48AAADAVuSdDwAAAECpxAcAAACgVOIDAAAAUCrxAQAAACiV+AAAAACUSnwAAAAASiU+AAAAAKUS\n",
              "HwAAAIBSiQ8AAABAqcQHAAAAoFTiAwAAAFAq8QEAAAAolfgAAAAAlEp8AAAAAEolPgAAAAClEh8A\n",
              "AACAUokPAAAAQKnEBwAAAKBU4gMAAABQKvEBAAAAKJX4AAAAAJRKfAAAAABKJT4AAAAApRIfAAAA\n",
              "gFKJDwAAAECpxAcAAACgVOIDAAAAUCrxAQAAACiV+AAAAACUSnwAAAAASiU+AAAAAKUSHwAAAIBS\n",
              "bZX48OKLL+awww5Lly5d0rdv38yaNWuTy995550cf/zx6dKlS3r16pUjjzwyc+bMed/b+fa3v50D\n",
              "DjggvXr1ysEHH5xx48ZV1j344IM56KCD0qxZs1x44YUN9vv5z3+enj17pra2Nj169MhPf/rTyror\n",
              "r7wye+21V2pra1NbW5tBgwZV1i1cuDBf/OIXU1NTkwMPPDBnnXVWVqxY8f/yUGXChAnp27dvunfv\n",
              "nm7duuWJJ574fzoeAAAANLatEh+GDh2aIUOG5IUXXsgll1ySwYMHb3J5kgwZMiSzZ8/OM888k+OO\n",
              "Oy7nnnvu+95O//79M3Xq1DzzzDO55ZZbcsopp2T58uVJks6dO+fWW2/NN7/5zfX2O/300zNjxoxM\n",
              "mzYtjz/+eK655ppMnTq1sn7QoEGZNm1apk2bll//+teV5T/4wQ/SuXPnTJ8+PTNnzszrr7+e0aNH\n",
              "b+GjlLz66qs566yz8qtf/SqzZs3K1KlTc+CBB27x8QAAAGBbUHp8WLBgQSZPnpzTTz89SXLiiSdm\n",
              "/vz5eeqppza4fM6cOdlll11y7LHHpqqqKklyyCGHpK6urnLM5557LkcffXRqampSU1OTG2+8MUny\n",
              "+c9/PrvuumuSpGfPnimKIgsXLkySyrsoqqur15uxRYsWlX8vX748q1ev3qz7VlVVlWXLlmXdunVZ\n",
              "tWpV3n777bRr1y5JsmrVqnzzm99Mjx490qtXrxxzzDGV/a655pr069cvffr0yTHHHJO//e1vSZIb\n",
              "brghp512WiU4NGvWLHvsscdmzQIAAADbqtLjw/z589O2bdvKH/1VVVVp3759Jk6cuMHl8+bNW+8Y\n",
              "1113XY477rgkyZo1a3Lcccdl8ODBmT59eqZPn56TTjppvX1Gjx6djh07Zr/99tusOe+555507949\n",
              "HTp0yMUXX5zevXtX1v3mN79Jr1698tnPfjaPPPJIZfnll1+eOXPmZO+9907r1q1z4IEHZuDAgUmS\n",
              "UaNG5YUXXsjTTz+dZ555JrfffnuS5D/+4z8ye/bsPPHEE5kyZUoGDRqU888/P0ny7LPPZsWKFTni\n",
              "iCNSW1ubCy64oPLOjQ1ZuXJlli5d2uBn5cqVm3V/AQAAYGvZ5i84OXLkyMyZMyejRo1KksyePTvv\n",
              "vPNOvvKVr1S2adWqVYN9xo8fn6uuuip333135d0T7+ekk07KrFmzMnv27Nxxxx2ZPXt2kuS8885L\n",
              "XV1dnnnmmXzve9/LqaeeWnmnwl133ZVu3bqlvr4+r776al544YX8+7//e5LkgQceyL/8y7+kWbNm\n",
              "SZK99torSXLvvffmj3/8Yw466KDU1tbmf/2v/1UJLmvWrMljjz2W3/zmN5k0aVLeeOONXHHFFRud\n",
              "edSoUWnRokWDn/ceJwAAANhWlB4f9t1339TX12fNmjVJkqIoMm/evPTv33+Dy9u3b1/Z95prrsnY\n",
              "sWPz+9//Prvttttm3d6ECRPy1a9+Nf/1X/+Vrl27fuB5O3TokE9+8pN54IEHkiR77713dtpppyTJ\n",
              "pz71qfTu3TuTJ09O8u7HJAYNGpSmTZtm9913z0knndTgnREbUhRFRowYUbmGxIwZMzJjxowkSfv2\n",
              "7fOFL3whH/vYx7LTTjvlK1/5Sp588smNHmvEiBFZsmRJg58RI0Z84PsMAAAAZSo9PrRu3Tp9+vTJ\n",
              "HXfckSQZM2ZM2rVrV7nmwf+9vFOnTkmSH//4x7nzzjvzhz/8ocF1D7p27Zrddtstd955Z2XZ3//+\n",
              "9yTJY489ljPOOCP33XdfevXqtdkzPvvss5V/L1y4MH/6059SU1OTJHn55Zcr61588cVMmzYtPXv2\n",
              "TJJ07NgxDz30UJJk9erVGTduXHr06JEkGThwYK677rrKxyDeu/bE8ccfnxtvvDGLFy+u7PfexS1P\n",
              "O+20PPLII5V9fv/732/yfjRr1izNmzdv8PPeOy0AAABgW1FVFEVR9o3Mnj07gwcPzqJFi9K8efOM\n",
              "Hj06PXv23Ojyl19+Ofvuu286duyY3XffPcm7f2j/5S9/qRzvggsuSH19fZo0aZLzzz8/Q4cOTefO\n",
              "nbN06dK0bdu2ctu33357evbsmfHjx+ess87K0qVLUxRFWrRokRtuuCEDBw7M0KFDM3HixOy8884p\n",
              "iiJDhw6tXIfhrLPOytNPP53q6uo0bdo0I0aMqFxj4qWXXsp5552XV199NWvXrs2hhx6an//859ll\n",
              "l12yatWqXHbZZfnd736XnXbaKR//+Mfzu9/9Lkny05/+NLfcckuSdz9qcfbZZ+cb3/hGkuTqq6/O\n",
              "6NGj07Rp03Tv3j033njjDnfRyRNOOCFJMnbs2EaeBAAAgK1hq8QH+O/EBwAAgI+Wbf6CkwAAAMD2\n",
              "TXwAAAAASiU+AAAAAKUSHwAAAIBSiQ8AAABAqcQHAAAAoFTiAwAAAFAq8QEAAAAolfgAAAAAlEp8\n",
              "AAAAAEolPgAAAAClEh8AAACAUokPAAAAQKnEBwAAAKBU4gMAAABQKvEBAAAAKJX4AAAAAJRKfAAA\n",
              "AABKJT4AAAAApRIfAAAAgFKJDwAAAECpxAcAAACgVOIDAAAAUCrxAQAAACiV+AAAAACUSnwAAAAA\n",
              "SiU+AAAAAKUSHwAAAIBSiQ8AAABAqcQHAAAAoFTiAwAAAFAq8QEAAAAoVXVjD8BHT5s2bRp7BAAA\n",
              "ALaiqqIoisYeAgAAANhx+dgFAAAAUCrxAQAAACiV+AAAAACUSnwAAAAASiU+AAAAAKUSHwAAAIBS\n",
              "iQ8AAABAqcQHAAAAoFTiAwAAAFAq8QEAAAAolfgAAAAAlEp8AAAAAEolPgAAAAClEh8AAACAUokP\n",
              "AAAAQKnEBwAAAKBU4gNb3bBhwzJs2LDGHgMAAICtpLqxB+Cj5/XXX2/sEQAAANiKvPMBAAAAKJX4\n",
              "AAAAAJRKfAAAAABKJT4AAAAApRIfAAAAgFKJDwAAAECpxAcAAACgVOIDAAAAUCrxAQAAACiV+AAA\n",
              "AACUSnwAAAAASiU+AAAAAKUSHwAAAIBSiQ8AAABAqcQHAAAAoFTiAwAAAFAq8QEAAAAolfgAAAAA\n",
              "lEp8AAAAAEolPgAAAAClEh8AAACAUokPAAAAQKnEBwAAAKBU4gMAAABQKvEBAAAAKJX4AAAAAJRK\n",
              "fAAAAABKJT4AAAAApRIfAAAAgFKJDwAAAECpxAcAAACgVOIDAAAAUKrS48OLL76Yww47LF26dEnf\n",
              "vn0za9asTS5Pkg4dOqRr166pra1NbW1t7r777sq6qqqqvPnmmxu8rYceeigHH3xwampqcsghh+SZ\n",
              "Z56prPvMZz6TT3ziE5VjXnvtte87+7e//e0ccMAB6dWrVw4++OCMGzeusm7hwoX54he/mJqamhx4\n",
              "4IE566yzsmLFiiTJihUrcuaZZ6ZHjx7p0aNHBg4cmIULFyZJHn300ey6666VOWprayv7/elPf0q/\n",
              "fv3SrVu3dO/ePd/61reybt26zXykAQAAYNtUenwYOnRohgwZkhdeeCGXXHJJBg8evMnl77n77rsz\n",
              "bdq0TJs2Laeeeur73s4bb7yRQYMG5bbbbsv06dNz9dVXZ9CgQQ22ufbaayvH/J//83++7zH79++f\n",
              "qVOn5plnnsktt9ySU045JcuXL0+S/OAHP0jnzp0zffr0zJw5M6+//npGjx6dJLnpppvy9ttvZ8aM\n",
              "GZk5c2batGmTq6++unLcrl27VuaYNm1adt111yTJxz72sdx111159tln8/TTT+fxxx/Pr371q/ed\n",
              "EwAAALZlpcaHBQsWZPLkyTn99NOTJCeeeGLmz5+fp556aoPL58yZs1nHveaaa9K7d+906dIlv/71\n",
              "r5Mkc+fOTcuWLdO9e/ck74aDefPmZcqUKe97vOeeey5HH310ampqUlNTkxtvvDFJ8vnPf74SBnr2\n",
              "7JmiKCrvYKiqqsqyZcuybt26rFq1Km+//XbatWtXWff2229n9erVWbNmTd56663Kuk3p3bt3Onbs\n",
              "mCTZZZddUltbm7q6us16TAAAAGBbVWp8mD9/ftq2bZvq6uok7/5R3r59+0ycOHGDy+fNm1fZ98wz\n",
              "z0zPnj1zzjnnVP7gf09VVVWmTp2ahx56KBdccEHq6urSuXPnLFq0KI8//niS5P7778+yZcsa/PF+\n",
              "6aWXpmfPnjn11FPz17/+NUmyZs2aHHfccRk8eHCmT5+e6dOn56STTlrvvowePTodO3bMfvvtlyS5\n",
              "/PLLM2fOnOy9995p3bp1DjzwwAwcODDJu+/q2H333dO6deu0adMmS5YsyfDhwyvHmjt3bvr06ZO+\n",
              "ffvmhhtu2OBj99prr+Wee+7JP/3TP2308V25cmWWLl3a4GflypUb3R4AAAAawzZ5wcnHHnss06dP\n",
              "z5QpU9KqVaucddZZDdafe+65SZKOHTvm8MMPz2OPPZYWLVrknnvuyYgRI3LQQQfl4YcfTrdu3SqB\n",
              "4/bbb8/zzz+f6dOnp3///pU/6mfPnp133nknX/nKVyrHb9WqVYPbGz9+fK666qrcfffdqaqqSpLc\n",
              "dddd6datW+rr6/Pqq6/mhRdeyL//+78nSR5++OGsW7cur732Wurr67PHHnvku9/9bpKkT58+efnl\n",
              "lzNlypT89re/zY033pj//M//bHB7S5cuzRe/+MV861vfysEHH7zRx2nUqFFp0aJFg59Ro0Z94Mcb\n",
              "AAAAylRqfNh3331TX1+fNWvWJEmKosi8efPSv3//DS5v3759klT+u9NOO+XCCy/MxIkTN3k77wWB\n",
              "AQMGZMKECXn66afzox/9KK+++mq6detWmeW9bYcPH56//vWvWbRo0fvehwkTJuSrX/1q/uu//itd\n",
              "u3atLL/hhhsyaNCgNG3aNLvvvntOOumkPPLII0mSm2++OV/60peyyy67ZOedd86gQYMq65o3b54W\n",
              "LVokSdq1a5evfOUrDe7fsmXLcswxx+S4447LRRddtMnZRowYkSVLljT4GTFixPveJwAAANiaSo0P\n",
              "rVu3Tp8+fXLHHXckScaMGZN27dqlX79+G1zeqVOnLF++vMG3Wdx5553p3bt3g+O+d2HHurq6TJw4\n",
              "Mf3790+S1NfXV7b53ve+l89+9rPp1KlT1qxZk9dff72ybsyYMWnTpk1atmyZrl27Zrfddsudd95Z\n",
              "Wf/3v/89ybvvwDjjjDNy3333pVevXg1m6NixYx566KEkyerVqzNu3Lj06NGjsu7hhx9OURQpiiIP\n",
              "PvhgZV19fX3lGyyWLVuWBx54oHL/3nrrrRxzzDE55phj8p3vfOd9H99mzZqlefPmDX6aNWv2vvsB\n",
              "AADA1lRVFEVR5g3Mnj07gwcPzqJFi9K8efOMHj06PXv23Ojyv/71rznxxBOzdu3aFEWRjh075rrr\n",
              "rkuHDh3eHbiqKt/5znfywAMPZPny5bniiisq32rxta99LRMnTsyaNWty6KGH5vrrr88ee+yR5cuX\n",
              "59Of/nRWrlyZJk2apFWrVvnxj39cCQqzZ8/OBRdckPr6+jRp0iTnn39+hg4dms6dO2fp0qVp27Zt\n",
              "5f7cfvvt6dmzZ1566aWcd955efXVV7N27doceuih+fnPf55ddtklixcvzpAhQ/Lcc88lSQ444IDc\n",
              "dNNNadWqVX72s5/lF7/4Raqrq7NmzZqcfPLJueKKK1JVVZUf/OAHufLKKysXzUySk08+OZdddlmZ\n",
              "p2irO+GEE5IkY8eObeRJAAAA2BpKjw/wfxMfAAAAPlq2yQtOAgAAADsO8QEAAAAolfgAAAAAlEp8\n",
              "AAAAAEolPgAAAAClEh8AAACAUokPAAAAQKnEBwAAAKBU4gMAAABQKvEBAAAAKJX4AAAAAJRKfAAA\n",
              "AABKJT4AAAAApRIfAAAAgFKJDwAAAECpxAcAAACgVOIDAAAAUCrxAQAAACiV+AAAAACUSnwAAAAA\n",
              "SiU+AAAAAKUSHwAAAIBSiQ8AAABAqcQHAAAAoFTiAwAAAFAq8QEAAAAolfgAAAAAlEp8AAAAAEol\n",
              "PgAAAAClEh8AAACAUokPAAAAQKnEBwAAAKBU1Y09AB89bdq0aewRAAAA2IqqiqIoGnsIAAAAYMfl\n",
              "YxcAAABAqcQHAAAAoFTiAwAAAFAq8QEAAAAolfgAAAAAlEp8AAAAAEolPgAAAAClEh/Y6lauXJkr\n",
              "r7wyK1eubOxR2ATnafvgPG37nKPtg/O0fXCetn3O0fbBedo+7GjnqaooiqKxh+CjZenSpWnRokWW\n",
              "LFmS5s2bN/Y4bITztH1wnrZ9ztH2wXnaPjhP2z7naPvgPG0fdrTz5J0PAAAAQKnEBwAAAKBU4gMA\n",
              "AABQKvGBra5Zs2a54oor0qxZs8YehU1wnrYPztO2zznaPjhP2wfnadvnHG0fnKftw452nlxwEgAA\n",
              "ACiVdz4AAAAApRIfAAAAgFKJDwAAAECpxAdK8+KLL+awww5Lly5d0rdv38yaNWuD291yyy3p3Llz\n",
              "9t9//3zta1/L6tWrt/KkH22bc54effTR7Lrrrqmtra38rFixohGm/Wj6+te/ng4dOqSqqirTpk3b\n",
              "6HaeS41rc86T51Ljeuedd3L88cenS5cu6dWrV4488sjMmTNng9s+8MADOeCAA9K5c+eccMIJWbp0\n",
              "6Vae9qNrc89TXV1dmjZt2uD5NHfu3EaY+KPpqKOOSk1NTWpra9O/f/9MnTp1g9t5bWpcm3OevDZt\n",
              "G0aPHp2qqqrce++9G1y/Q7wuFVCSAQMGFKNHjy6Koih+85vfFAcffPB62/z1r38t2rZtW9TX1xfr\n",
              "1q0rvvjFLxY/+9nPtvKkH22bc54eeeSRolevXlt3MComTJhQzJ8/v9hvv/2KqVOnbnAbz6XGtznn\n",
              "yXOpca1YsaJ48MEHi3Xr1hVFURTXX3998elPf3q97ZYtW1a0bt26eO6554qiKIp//ud/Li6++OKt\n",
              "OepH2uaep5deeqlo0aLF1h2OijfeeKPy77FjxxY1NTXrbeO1qfFtznny2tT4XnrppeLQQw8tDjnk\n",
              "kOK3v/3teut3lNcl73ygFAsWLMjkyZNz+umnJ0lOPPHEzJ8/f73/5+Kee+7JwIEDs/fee6eqqirn\n",
              "nXde7rzzzsYY+SNpc88Tjevwww9Pu3btNrmN51Lj25zzROPaZZddcuyxx6aqqipJcsghh6Surm69\n",
              "7X7/+9+nd+/eOeCAA5Ik559/vufTVrS554nGtccee1T+vWTJksr5+u+8NjW+zTlPNK5169bl3HPP\n",
              "zfXXX7/Rr9TcUV6XxAdKMX/+/LRt2zbV1dVJkqqqqrRv3z7z5s1rsN28efOy3377VX7v0KHDettQ\n",
              "ns09T0kyd+7c9OnTJ3379s0NN9ywtUflfXgubT88l7Yd1113XY477rj1lm/o+VRfX581a9ZszfH4\n",
              "/9nYeUqS5cuXp2/fvunTp0/+9V//NWvXrt3K0320nXnmmdl3331z+eWX5/bbb19vvdembcP7nafE\n",
              "a1Nj+vGPf5xPfepTOeiggza6zY7yulTd2AMA274+ffrk5ZdfTosWLfLyyy/n2GOPTatWrXLKKac0\n",
              "9miwXfFc2naMHDkyc+bMyfjx4xt7FDZhU+epbdu2eeWVV9K6dessXrw4p556an70ox/lW9/6ViNM\n",
              "+tH0q1/9Kkly22235ZJLLsnvfve7Rp6IDXm/8+S1qfHMnDkzY8aMyWOPPdbYo2wV3vlAKfbdd98G\n",
              "Na4oisybNy/t27dvsF379u3zt7/9rfJ7XV3dettQns09T82bN0+LFi2SJO3atctXvvKVTJw4cavP\n",
              "y8Z5Lm0fPJe2Dddcc03Gjh2b3//+99ltt93WW7+h59N/f5cYW8f7nadmzZqldevWSZI999wzZ599\n",
              "tudTIznrrLPyyCOPZNGiRQ2We23atmzsPHltajwTJ05MXV1dOnfunA4dOuTJJ5/MkCFD8otf/KLB\n",
              "djvK65L4QClat26dPn365I477kiSjBkzJu3atUunTp0abHfiiSfm/vvvz2uvvZaiKHLjjTfmy1/+\n",
              "cmOM/JG0ueepvr4+69atS5IsW7YsDzzwQHr37r3V52XjPJe2D55Lje/HP/5x7rzzzvzhD39o8Fno\n",
              "/+6YY47JlClT8vzzzydJbrjhBs+nrWxzztOCBQsq35ywcuXKjB071vNpK3nzzTfz6quvVn6/9957\n",
              "07Jly+y5554NtvPa1Lg29zx5bWo8w4YNS319ferq6lJXV5dDDjkkN998c4YNG9Zgux3mdalRL3fJ\n",
              "Du35558vDjnkkKJz587FQQcdVEyfPr0oiqI455xzivvuu6+y3c0331x07Nix6NixY3H22WcXq1at\n",
              "aqyRP5I25zxdf/31Rbdu3YqampqiW7duxRVXXFG5CjnlGzJkSLHPPvsUTZs2LVq3bl3sv//+RVF4\n",
              "Lm1rNuc8eS41rvnz5xdJio4dOxa9evUqevXqVfTr168oiqK4/PLLi1/84heVbe+7776ia9euxf77\n",
              "718cd9xxxZtvvtlYY3/kbO55GjNmTNG9e/fK82n48OHFO++805ijf2TU1dUVffv2LXr06FHU1NQU\n",
              "n/vc5yrf8uO1aduxuefJa9O249Of/nTl2y52xNelqqIoisYOIAAAAMCOy8cuAAAAgFKJDwAAAECp\n",
              "xAcAYLvTqlWr1NXV5dhjj83s2bMbe5yKV199Nf3792/sMQBgm+OaDwDAdqdVq1aZPHlyOnTo0Nij\n",
              "AACbwTsfAIBt3v33358DDzwwNTU1+da3vlVZ3qFDh0ybNi3Ju1/P2Ldv39TW1qZv37554oknKts9\n",
              "/vjjqa2tTc+ePXP22WenV69eefTRR5Mkn/nMZ3LxxRenf//+2X///XPeeedV9luwYEFOOOGE9OzZ\n",
              "Mz169MhNN92UJFm3bl2GDx+eAw88ML169cpBBx2Ud955J3V1dZWvhlyxYkVOPfXUdOvWLb169cpR\n",
              "Rx1V7oMEANuw6sYeAABgUxYsWJCvfvWrmThxYrp165abb745ixYtWm+7M844IxdddFGS5Mknn8zg\n",
              "wYPz/PPPZ9WqVTn11FPzq1/9KgMGDMgjjzyS0aNHN9h37ty5eeSRR7J69ep069YtTzzxRA499NBc\n",
              "cMEF6dq1a8aOHZsFCxbkoIMOSq9evdKsWbOMHz8+s2bNSpMmTbJkyZLsvPPODY750EMP5c0338yz\n",
              "zz6bJFm8eHFJjxAAbPu88wEA2KY9+eSTqampSbdu3ZIk55xzznp/6CfJ1KlT8+lPfzo9evTIeeed\n",
              "l9mzZ2fFihV5/vnnU11dnQEDBiRJBgwYkP3337/Bvqeeemqqq6uz6667pra2NnPnzk2S/PGPf8zQ\n",
              "oUOTJK1bt84JJ5yQP/7xj+nYsWPWrFmTs88+O7fddltWr16dJk0a/s+qXr165bnnnsv555+fu+++\n",
              "OzvttNOH/tgAwPZCfAAAtitVVVXrLVu1alVOOOGEXHPNNZk5c2Yee+yxJMnKlSs36xi77LJL5d9N\n",
              "mzbNmjVrNrlfixYtMnPmzJx22ml5/vnnU1NTkzlz5jTYtmPHjnn22WdzzDHH5P/8n/+THj165I03\n",
              "3tj8OwoAOxDxAQDYph166KGZPn16nn/++STJrbfemlWrVjXY5p133smqVavSvn37JMn1119fWde1\n",
              "a9esXr06EyZMSJJMmDBhvVCwMUcccUR++ctfJkkWLlyYsWPH5sgjj8zChQuzfPnyHHXUURk5cmQ6\n",
              "dOhQ+XjFe15++eVUVVVl4MCBueaaa1IURebPn79lDwIAbOdc8wEA2KbttddeufXWW/OlL30pO++8\n",
              "c4455pi0bNmywTbNmzfP97///fTr1y+tWrXKl7/85cq6Zs2a5a677so///M/Z926dTnooIPStWvX\n",
              "yoUhN+WnP/1phg0blp49e6Yoilx22WX55Cc/mSlTpuRrX/taVq9enbVr1+ZTn/pUPv/5z+eVV16p\n",
              "7DtjxoyMGDEiRVFkzZo1OeOMM1JTU/OhPS4AsD3xVZsAwA5v2bJl2X333ZMkkyZNysCBAzN37tzs\n",
              "tttujTwZAHw0eOcDALDDGzNmTK699toURZHq6urcfvvtwgMAbEXe+QAAAACUygUnAQAAgFKJDwAA\n",
              "AECpxAcAAACgVOIDAAAAUCrxAQAAACiV+AAAAACUSnwAAAAASiU+AAAAAKUSHwAAAIBS/X9o1Zr8\n",
              "8dtTeQAAAABJRU5ErkJggg==\n",
              "\">\n",
              "      </div>\n",
              "      <script type=\"text/javascript\">\n",
              "        (() => {\n",
              "          const chartElement = document.getElementById(\"chart-adec77d7-db0c-496b-bf0c-6283c5194d30\");\n",
              "          async function getCodeForChartHandler(event) {\n",
              "            const chartCodeResponse =  await google.colab.kernel.invokeFunction(\n",
              "                'getCodeForChart', [\"chart-adec77d7-db0c-496b-bf0c-6283c5194d30\"], {});\n",
              "            const responseJson = chartCodeResponse.data['application/json'];\n",
              "            await google.colab.notebook.addCell(responseJson.code, 'code');\n",
              "          }\n",
              "          chartElement.onclick = getCodeForChartHandler;\n",
              "        })();\n",
              "      </script>\n",
              "      <style>\n",
              "        .colab-quickchart-chart-with-code  {\n",
              "            display: block;\n",
              "            float: left;\n",
              "            border: 1px solid transparent;\n",
              "        }\n",
              "\n",
              "        .colab-quickchart-chart-with-code:hover {\n",
              "            cursor: pointer;\n",
              "            border: 1px solid #aaa;\n",
              "        }\n",
              "      </style>"
            ]
          },
          "metadata": {}
        }
      ]
    },
    {
      "cell_type": "code",
      "source": [
        "import numpy as np\n",
        "import cv2\n",
        "import tensorflow as tf\n",
        "from tensorflow.keras.preprocessing.image import ImageDataGenerator\n",
        "from sklearn.model_selection import train_test_split\n"
      ],
      "metadata": {
        "id": "u3mEw9h3sy2P"
      },
      "execution_count": null,
      "outputs": []
    },
    {
      "cell_type": "code",
      "source": [
        "from tensorflow.keras.preprocessing.image import ImageDataGenerator\n",
        "\n",
        "# Create an ImageDataGenerator for data augmentation and preprocessing\n",
        "datagen = ImageDataGenerator(\n",
        "    rescale=1./255,  # Normalize pixel values to [0, 1]\n",
        "    rotation_range=30,\n",
        "    width_shift_range=0.2,\n",
        "    height_shift_range=0.2,\n",
        "    shear_range=0.2,\n",
        "    zoom_range=0.2,\n",
        "    horizontal_flip=True,\n",
        "    fill_mode='nearest'\n",
        ")\n",
        "\n",
        "# Path to the image directory\n",
        "train_dir = '/content/drive/MyDrive/my_dataset_folder/archive (1)/gaussian_filtered_images/gaussian_filtered_images'\n",
        "\n",
        "# Set up ImageDataGenerator to load images from directory\n",
        "train_generator = datagen.flow_from_directory(\n",
        "    train_dir,\n",
        "    target_size=(224, 224),  # Resize images to 224x224 for ResNet\n",
        "    batch_size=32,\n",
        "    class_mode='categorical'  # Multi-class classification\n",
        ")\n"
      ],
      "metadata": {
        "colab": {
          "base_uri": "https://localhost:8080/"
        },
        "id": "6fnqF2HmseBr",
        "outputId": "33bf60fd-102a-404c-d24a-cff498106e23"
      },
      "execution_count": null,
      "outputs": [
        {
          "output_type": "stream",
          "name": "stdout",
          "text": [
            "Found 3662 images belonging to 5 classes.\n"
          ]
        }
      ]
    },
    {
      "cell_type": "code",
      "source": [
        "import tensorflow as tf\n",
        "from tensorflow.keras.preprocessing.image import ImageDataGenerator\n",
        "from tensorflow.keras.applications import ResNet50\n",
        "from tensorflow.keras.layers import GlobalAveragePooling2D, Dense\n",
        "from tensorflow.keras.models import Sequential\n"
      ],
      "metadata": {
        "id": "gZUYQ39Ct6X2"
      },
      "execution_count": null,
      "outputs": []
    },
    {
      "cell_type": "code",
      "source": [
        "# Load the pre-trained ResNet50 model without the top layer\n",
        "base_model = ResNet50(weights='imagenet', include_top=False, input_shape=(224, 224, 3))\n",
        "\n",
        "# Freeze the layers of ResNet50 so they are not updated during training\n",
        "base_model.trainable = False\n",
        "\n",
        "# Create the model by adding custom layers on top\n",
        "model = Sequential([\n",
        "    base_model,\n",
        "    GlobalAveragePooling2D(),\n",
        "    Dense(512, activation='relu'),\n",
        "    Dense(5, activation='softmax')\n",
        "])\n",
        "\n",
        "# Compile the model with Adam optimizer and categorical cross-entropy loss\n",
        "model.compile(optimizer='adam', loss='categorical_crossentropy', metrics=['accuracy'])\n"
      ],
      "metadata": {
        "colab": {
          "base_uri": "https://localhost:8080/"
        },
        "id": "3Ny6v2ZGttIp",
        "outputId": "42a8328f-e0f1-45e8-db8d-6e023ea3c109"
      },
      "execution_count": null,
      "outputs": [
        {
          "output_type": "stream",
          "name": "stdout",
          "text": [
            "Downloading data from https://storage.googleapis.com/tensorflow/keras-applications/resnet/resnet50_weights_tf_dim_ordering_tf_kernels_notop.h5\n",
            "\u001b[1m94765736/94765736\u001b[0m \u001b[32m━━━━━━━━━━━━━━━━━━━━\u001b[0m\u001b[37m\u001b[0m \u001b[1m0s\u001b[0m 0us/step\n"
          ]
        }
      ]
    },
    {
      "cell_type": "code",
      "source": [
        "history = model.fit(\n",
        "    train_generator,  # Data generator that provides batches of images\n",
        "    epochs=10,  # Train for 10 epochs\n",
        "    steps_per_epoch=train_generator.samples // train_generator.batch_size  # Number of steps per epoch\n",
        ")\n"
      ],
      "metadata": {
        "colab": {
          "base_uri": "https://localhost:8080/"
        },
        "id": "CNFGsSW1uhOs",
        "outputId": "75e765da-d81e-4342-d988-801e7eeb1191"
      },
      "execution_count": null,
      "outputs": [
        {
          "output_type": "stream",
          "name": "stdout",
          "text": [
            "Epoch 1/10\n"
          ]
        },
        {
          "output_type": "stream",
          "name": "stderr",
          "text": [
            "/usr/local/lib/python3.10/dist-packages/keras/src/trainers/data_adapters/py_dataset_adapter.py:122: UserWarning: Your `PyDataset` class should call `super().__init__(**kwargs)` in its constructor. `**kwargs` can include `workers`, `use_multiprocessing`, `max_queue_size`. Do not pass these arguments to `fit()`, as they will be ignored.\n",
            "  self._warn_if_super_not_called()\n"
          ]
        },
        {
          "output_type": "stream",
          "name": "stdout",
          "text": [
            "\u001b[1m114/114\u001b[0m \u001b[32m━━━━━━━━━━━━━━━━━━━━\u001b[0m\u001b[37m\u001b[0m \u001b[1m1429s\u001b[0m 12s/step - accuracy: 0.4981 - loss: 1.3174\n",
            "Epoch 2/10\n",
            "\u001b[1m114/114\u001b[0m \u001b[32m━━━━━━━━━━━━━━━━━━━━\u001b[0m\u001b[37m\u001b[0m \u001b[1m7s\u001b[0m 452us/step - accuracy: 0.7188 - loss: 0.7991\n",
            "Epoch 3/10\n"
          ]
        },
        {
          "output_type": "stream",
          "name": "stderr",
          "text": [
            "/usr/lib/python3.10/contextlib.py:153: UserWarning: Your input ran out of data; interrupting training. Make sure that your dataset or generator can generate at least `steps_per_epoch * epochs` batches. You may need to use the `.repeat()` function when building your dataset.\n",
            "  self.gen.throw(typ, value, traceback)\n"
          ]
        },
        {
          "output_type": "stream",
          "name": "stdout",
          "text": [
            "\u001b[1m114/114\u001b[0m \u001b[32m━━━━━━━━━━━━━━━━━━━━\u001b[0m\u001b[37m\u001b[0m \u001b[1m777s\u001b[0m 7s/step - accuracy: 0.6273 - loss: 1.0542\n",
            "Epoch 4/10\n",
            "\u001b[1m114/114\u001b[0m \u001b[32m━━━━━━━━━━━━━━━━━━━━\u001b[0m\u001b[37m\u001b[0m \u001b[1m5s\u001b[0m 140us/step - accuracy: 0.5625 - loss: 0.9464\n",
            "Epoch 5/10\n",
            "\u001b[1m114/114\u001b[0m \u001b[32m━━━━━━━━━━━━━━━━━━━━\u001b[0m\u001b[37m\u001b[0m \u001b[1m777s\u001b[0m 7s/step - accuracy: 0.6240 - loss: 1.0248\n",
            "Epoch 6/10\n",
            "\u001b[1m114/114\u001b[0m \u001b[32m━━━━━━━━━━━━━━━━━━━━\u001b[0m\u001b[37m\u001b[0m \u001b[1m7s\u001b[0m 142us/step - accuracy: 0.6562 - loss: 1.1583\n",
            "Epoch 7/10\n",
            "\u001b[1m114/114\u001b[0m \u001b[32m━━━━━━━━━━━━━━━━━━━━\u001b[0m\u001b[37m\u001b[0m \u001b[1m772s\u001b[0m 7s/step - accuracy: 0.5836 - loss: 1.0770\n",
            "Epoch 8/10\n",
            "\u001b[1m114/114\u001b[0m \u001b[32m━━━━━━━━━━━━━━━━━━━━\u001b[0m\u001b[37m\u001b[0m \u001b[1m6s\u001b[0m 140us/step - accuracy: 0.6875 - loss: 1.0387\n",
            "Epoch 9/10\n",
            "\u001b[1m114/114\u001b[0m \u001b[32m━━━━━━━━━━━━━━━━━━━━\u001b[0m\u001b[37m\u001b[0m \u001b[1m794s\u001b[0m 7s/step - accuracy: 0.6146 - loss: 1.0366\n",
            "Epoch 10/10\n",
            "\u001b[1m114/114\u001b[0m \u001b[32m━━━━━━━━━━━━━━━━━━━━\u001b[0m\u001b[37m\u001b[0m \u001b[1m5s\u001b[0m 133us/step - accuracy: 0.5938 - loss: 1.0143\n"
          ]
        }
      ]
    },
    {
      "cell_type": "code",
      "source": [
        "model.save('/content/drive/My Drive/diabetic_retinopathy_model.h5')\n"
      ],
      "metadata": {
        "colab": {
          "base_uri": "https://localhost:8080/"
        },
        "id": "FmolqecPCbjt",
        "outputId": "ae6eba7d-fd79-4114-9af0-09d520e2b789"
      },
      "execution_count": null,
      "outputs": [
        {
          "output_type": "stream",
          "name": "stderr",
          "text": [
            "WARNING:absl:You are saving your model as an HDF5 file via `model.save()` or `keras.saving.save_model(model)`. This file format is considered legacy. We recommend using instead the native Keras format, e.g. `model.save('my_model.keras')` or `keras.saving.save_model(model, 'my_model.keras')`. \n"
          ]
        }
      ]
    },
    {
      "cell_type": "code",
      "source": [
        "from tensorflow.keras.preprocessing.image import ImageDataGenerator\n",
        "\n",
        "# Create a test data generator (without augmentation)\n",
        "test_datagen = ImageDataGenerator(rescale=1./255)\n",
        "# Correct the test directory path\n",
        "test_dir = '/content/drive/MyDrive/my_dataset_folder/archive (1)/gaussian_filtered_images/gaussian_filtered_images'\n",
        "\n",
        "# Define the test dataset generator\n",
        "test_dataset = test_datagen.flow_from_directory(\n",
        "    test_dir,\n",
        "    target_size=(224, 224),\n",
        "    batch_size=32,\n",
        "    class_mode='categorical'\n",
        ")\n",
        "\n"
      ],
      "metadata": {
        "colab": {
          "base_uri": "https://localhost:8080/"
        },
        "id": "-AxgPJ2UCi7y",
        "outputId": "ffbc0113-b663-459e-cc92-fff8310ee801"
      },
      "execution_count": null,
      "outputs": [
        {
          "output_type": "stream",
          "name": "stdout",
          "text": [
            "Found 3662 images belonging to 5 classes.\n"
          ]
        }
      ]
    },
    {
      "cell_type": "code",
      "source": [
        "# Evaluate the model on the test set\n",
        "model.evaluate(test_dataset)\n"
      ],
      "metadata": {
        "colab": {
          "base_uri": "https://localhost:8080/"
        },
        "id": "rTwavwb7DGas",
        "outputId": "d6e8524c-f0d6-4f1d-8a01-1374b805e99a"
      },
      "execution_count": null,
      "outputs": [
        {
          "output_type": "stream",
          "name": "stdout",
          "text": [
            "\u001b[1m115/115\u001b[0m \u001b[32m━━━━━━━━━━━━━━━━━━━━\u001b[0m\u001b[37m\u001b[0m \u001b[1m731s\u001b[0m 6s/step - accuracy: 0.6498 - loss: 0.9803\n"
          ]
        },
        {
          "output_type": "execute_result",
          "data": {
            "text/plain": [
              "[0.9824732542037964, 0.6523757576942444]"
            ]
          },
          "metadata": {},
          "execution_count": 22
        }
      ]
    },
    {
      "cell_type": "code",
      "source": [
        "import numpy as np\n",
        "from tensorflow.keras.preprocessing import image\n",
        "\n",
        "# Load an image file that you want to predict, e.g., from the test set\n",
        "img_path = '/content/1.jpeg'  # Replace this with the path to your image\n",
        "\n",
        "# Load the image and resize it to match the model input\n",
        "img = image.load_img(img_path, target_size=(224, 224))\n",
        "\n",
        "# Convert the image to a numpy array\n",
        "img_array = image.img_to_array(img)\n",
        "\n",
        "# Expand the dimensions of the array to match the model input\n",
        "img_array = np.expand_dims(img_array, axis=0)\n",
        "\n",
        "# Rescale the image as you did during training\n",
        "img_array /= 255.0\n",
        "\n",
        "# Make a prediction\n",
        "predictions = model.predict(img_array)\n",
        "\n",
        "# Print the predicted class probabilities\n",
        "print(predictions)\n",
        "\n",
        "# Get the predicted class (the index of the maximum probability)\n",
        "predicted_class = np.argmax(predictions, axis=1)\n",
        "print(f\"Predicted class: {predicted_class}\")\n"
      ],
      "metadata": {
        "colab": {
          "base_uri": "https://localhost:8080/"
        },
        "id": "o2TGi6AAGLcv",
        "outputId": "63fbd580-2b25-48b1-9de2-1098dfdda2c6"
      },
      "execution_count": null,
      "outputs": [
        {
          "output_type": "stream",
          "name": "stdout",
          "text": [
            "\u001b[1m1/1\u001b[0m \u001b[32m━━━━━━━━━━━━━━━━━━━━\u001b[0m\u001b[37m\u001b[0m \u001b[1m2s\u001b[0m 2s/step\n",
            "[[0.13601683 0.4303474  0.20618133 0.18537885 0.04207553]]\n",
            "Predicted class: [1]\n"
          ]
        }
      ]
    },
    {
      "cell_type": "code",
      "source": [
        "# Define the severity class labels\n",
        "class_labels = ['No_DR', 'Mild', 'Moderate', 'Severe', 'Proliferative']\n",
        "\n",
        "# Map the predicted class index to its label\n",
        "predicted_label = class_labels[predicted_class[0]]\n",
        "print(f\"Predicted severity: {predicted_label}\")\n"
      ],
      "metadata": {
        "colab": {
          "base_uri": "https://localhost:8080/"
        },
        "id": "QHCSujNuGpfo",
        "outputId": "450b7b68-b25c-4bd4-8e82-ecaf95ffd324"
      },
      "execution_count": null,
      "outputs": [
        {
          "output_type": "stream",
          "name": "stdout",
          "text": [
            "Predicted severity: Mild\n"
          ]
        }
      ]
    },
    {
      "cell_type": "code",
      "source": [],
      "metadata": {
        "id": "S670sTTJGrOw"
      },
      "execution_count": null,
      "outputs": []
    },
    {
      "cell_type": "code",
      "source": [
        "import numpy as np\n",
        "from tensorflow.keras.preprocessing import image\n",
        "\n",
        "# Load an image file that you want to predict, e.g., from the test set\n",
        "img_path = '/content/323.jpeg'  # Replace this with the path to your image\n",
        "\n",
        "# Load the image and resize it to match the model input\n",
        "img = image.load_img(img_path, target_size=(224, 224))\n",
        "\n",
        "# Convert the image to a numpy array\n",
        "img_array = image.img_to_array(img)\n",
        "\n",
        "# Expand the dimensions of the array to match the model input\n",
        "img_array = np.expand_dims(img_array, axis=0)\n",
        "\n",
        "# Rescale the image as you did during training\n",
        "img_array /= 255.0\n",
        "\n",
        "# Make a prediction\n",
        "predictions = model.predict(img_array)\n",
        "\n",
        "# Print the predicted class probabilities\n",
        "print(predictions)\n",
        "\n",
        "# Get the predicted class (the index of the maximum probability)\n",
        "predicted_class = np.argmax(predictions, axis=1)\n",
        "print(f\"Predicted class: {predicted_class}\")\n",
        "class_labels = ['No_DR', 'Mild', 'Moderate', 'Severe', 'Proliferative']\n",
        "\n",
        "# Map the predicted class index to its label\n",
        "predicted_label = class_labels[predicted_class[0]]\n",
        "print(f\"Predicted severity: {predicted_label}\")\n"
      ],
      "metadata": {
        "colab": {
          "base_uri": "https://localhost:8080/"
        },
        "outputId": "be363965-e86e-4fc9-a9f4-c096728be3ca",
        "id": "ASBgN3kRG39g"
      },
      "execution_count": null,
      "outputs": [
        {
          "output_type": "stream",
          "name": "stdout",
          "text": [
            "\u001b[1m1/1\u001b[0m \u001b[32m━━━━━━━━━━━━━━━━━━━━\u001b[0m\u001b[37m\u001b[0m \u001b[1m0s\u001b[0m 191ms/step\n",
            "[[0.04914287 0.14909689 0.7295593  0.0579177  0.01428323]]\n",
            "Predicted class: [2]\n",
            "Predicted severity: Moderate\n"
          ]
        }
      ]
    },
    {
      "cell_type": "code",
      "source": [],
      "metadata": {
        "id": "Dfp831adHWuj"
      },
      "execution_count": null,
      "outputs": []
    },
    {
      "cell_type": "code",
      "source": [
        "import numpy as np\n",
        "from tensorflow.keras.preprocessing import image\n",
        "\n",
        "# Load an image file that you want to predict, e.g., from the test set\n",
        "img_path = '/content/hmm.png'  # Replace this with the path to your image\n",
        "\n",
        "# Load the image and resize it to match the model input\n",
        "img = image.load_img(img_path, target_size=(224, 224))\n",
        "\n",
        "# Convert the image to a numpy array\n",
        "img_array = image.img_to_array(img)\n",
        "\n",
        "# Expand the dimensions of the array to match the model input\n",
        "img_array = np.expand_dims(img_array, axis=0)\n",
        "\n",
        "# Rescale the image as you did during training\n",
        "img_array /= 255.0\n",
        "\n",
        "# Make a prediction\n",
        "predictions = model.predict(img_array)\n",
        "\n",
        "# Print the predicted class probabilities\n",
        "print(predictions)\n",
        "\n",
        "# Get the predicted class (the index of the maximum probability)\n",
        "predicted_class = np.argmax(predictions, axis=1)\n",
        "print(f\"Predicted class: {predicted_class}\")\n",
        "class_labels = ['No_DR', 'Mild', 'Moderate', 'Severe', 'Proliferative']\n",
        "\n",
        "# Map the predicted class index to its label\n",
        "predicted_label = class_labels[predicted_class[0]]\n",
        "print(f\"Predicted severity: {predicted_label}\")\n"
      ],
      "metadata": {
        "colab": {
          "base_uri": "https://localhost:8080/"
        },
        "id": "S6_0aoISHawP",
        "outputId": "d23aabcc-3466-4ea0-9874-4f987fc162a2"
      },
      "execution_count": null,
      "outputs": [
        {
          "output_type": "stream",
          "name": "stdout",
          "text": [
            "\u001b[1m1/1\u001b[0m \u001b[32m━━━━━━━━━━━━━━━━━━━━\u001b[0m\u001b[37m\u001b[0m \u001b[1m0s\u001b[0m 208ms/step\n",
            "[[0.13074496 0.3872873  0.27459493 0.16810669 0.03926607]]\n",
            "Predicted class: [1]\n",
            "Predicted severity: Mild\n"
          ]
        }
      ]
    },
    {
      "cell_type": "code",
      "source": [
        "datagen = ImageDataGenerator(rescale=1.0/255)\n"
      ],
      "metadata": {
        "id": "a-g9XXh0cLve"
      },
      "execution_count": null,
      "outputs": []
    },
    {
      "cell_type": "code",
      "source": [
        "train_datagen = ImageDataGenerator(\n",
        "    rescale=1.0/255,\n",
        "    rotation_range=20,\n",
        "    width_shift_range=0.2,\n",
        "    height_shift_range=0.2,\n",
        "    shear_range=0.2,\n",
        "    zoom_range=0.2,\n",
        "    horizontal_flip=True,\n",
        "    fill_mode='nearest'\n",
        ")\n"
      ],
      "metadata": {
        "id": "aqcnQmCYca4d"
      },
      "execution_count": null,
      "outputs": []
    },
    {
      "cell_type": "code",
      "source": [
        "from tensorflow.keras.applications import ResNet50\n",
        "\n",
        "base_model = ResNet50(weights='imagenet', include_top=False, input_shape=(224, 224, 3))\n"
      ],
      "metadata": {
        "colab": {
          "base_uri": "https://localhost:8080/"
        },
        "id": "l36eYgu2cgh9",
        "outputId": "d0b1fc7f-3603-489d-bed2-8c23e975c896"
      },
      "execution_count": null,
      "outputs": [
        {
          "output_type": "stream",
          "name": "stdout",
          "text": [
            "Downloading data from https://storage.googleapis.com/tensorflow/keras-applications/resnet/resnet50_weights_tf_dim_ordering_tf_kernels_notop.h5\n",
            "\u001b[1m94765736/94765736\u001b[0m \u001b[32m━━━━━━━━━━━━━━━━━━━━\u001b[0m\u001b[37m\u001b[0m \u001b[1m4s\u001b[0m 0us/step\n"
          ]
        }
      ]
    },
    {
      "cell_type": "code",
      "source": [
        "for layer in base_model.layers[-20:]:\n",
        "    layer.trainable = True\n"
      ],
      "metadata": {
        "id": "xLjIr_aScwmC"
      },
      "execution_count": null,
      "outputs": []
    },
    {
      "cell_type": "code",
      "source": [
        "from tensorflow.keras.models import Model\n",
        "from tensorflow.keras.layers import Dense, GlobalAveragePooling2D\n",
        "\n",
        "# Add a global spatial average pooling layer\n",
        "x = base_model.output\n",
        "x = GlobalAveragePooling2D()(x)\n",
        "\n",
        "# Add a fully connected layer\n",
        "x = Dense(1024, activation='relu')(x)\n",
        "\n",
        "# Add the output layer with 5 classes (assuming 5 severity levels)\n",
        "predictions = Dense(5, activation='softmax')(x)\n",
        "\n",
        "# Finalize the model\n",
        "model = Model(inputs=base_model.input, outputs=predictions)\n"
      ],
      "metadata": {
        "id": "smw85-jOcz4G"
      },
      "execution_count": null,
      "outputs": []
    },
    {
      "cell_type": "code",
      "source": [
        "from tensorflow.keras.optimizers import Adam\n",
        "\n",
        "model.compile(optimizer=Adam(learning_rate=1e-4),\n",
        "              loss='categorical_crossentropy',\n",
        "              metrics=['accuracy'])\n"
      ],
      "metadata": {
        "id": "M2J6b2eec3uf"
      },
      "execution_count": null,
      "outputs": []
    },
    {
      "cell_type": "code",
      "source": [
        "import numpy as np\n",
        "from tensorflow.keras.preprocessing import image\n",
        "\n",
        "# Load an image file that you want to predict, e.g., from the test set\n",
        "img_path = '/content/drive/MyDrive/my_dataset_folder/archive (1)/gaussian_filtered_images/gaussian_filtered_images/Moderate/00b74780d31d.png'  # Replace this with the path to your image\n",
        "\n",
        "# Load the image and resize it to match the model input\n",
        "img = image.load_img(img_path, target_size=(224, 224))\n",
        "\n",
        "# Convert the image to a numpy array\n",
        "img_array = image.img_to_array(img)\n",
        "\n",
        "# Expand the dimensions of the array to match the model input\n",
        "img_array = np.expand_dims(img_array, axis=0)\n",
        "\n",
        "# Rescale the image as you did during training\n",
        "img_array /= 255.0\n",
        "\n",
        "# Make a prediction\n",
        "predictions = model.predict(img_array)\n",
        "\n",
        "# Print the predicted class probabilities\n",
        "print(predictions)\n",
        "\n",
        "# Get the predicted class (the index of the maximum probability)\n",
        "predicted_class = np.argmax(predictions, axis=1)\n",
        "print(f\"Predicted class: {predicted_class}\")\n",
        "class_labels = ['No_DR', 'Mild', 'Moderate', 'Severe', 'Proliferative']\n",
        "\n",
        "# Map the predicted class index to its label\n",
        "predicted_label = class_labels[predicted_class[0]]\n",
        "print(f\"Predicted severity: {predicted_label}\")\n"
      ],
      "metadata": {
        "colab": {
          "base_uri": "https://localhost:8080/"
        },
        "id": "lz82QIvNflSm",
        "outputId": "54c8da45-2577-4ff6-8805-22f20cd40424"
      },
      "execution_count": null,
      "outputs": [
        {
          "output_type": "stream",
          "name": "stdout",
          "text": [
            "\u001b[1m1/1\u001b[0m \u001b[32m━━━━━━━━━━━━━━━━━━━━\u001b[0m\u001b[37m\u001b[0m \u001b[1m5s\u001b[0m 5s/step\n",
            "[[0.10689948 0.0931237  0.09652718 0.09412749 0.6093222 ]]\n",
            "Predicted class: [4]\n",
            "Predicted severity: Proliferative\n"
          ]
        }
      ]
    },
    {
      "cell_type": "markdown",
      "source": [
        "#Resnet50 was 60% accurate and was not making accurarte predictions so we will try implementing other models like EfficientNetB0"
      ],
      "metadata": {
        "id": "cFPpOGEEk2MJ"
      }
    },
    {
      "cell_type": "code",
      "source": [
        "pip install tensorflow keras\n"
      ],
      "metadata": {
        "colab": {
          "base_uri": "https://localhost:8080/"
        },
        "id": "_wRzb7QXlOyU",
        "outputId": "19c14118-2b45-4eac-a7a7-7fee2012c587"
      },
      "execution_count": null,
      "outputs": [
        {
          "output_type": "stream",
          "name": "stdout",
          "text": [
            "Requirement already satisfied: tensorflow in /usr/local/lib/python3.10/dist-packages (2.17.1)\n",
            "Requirement already satisfied: keras in /usr/local/lib/python3.10/dist-packages (3.5.0)\n",
            "Requirement already satisfied: absl-py>=1.0.0 in /usr/local/lib/python3.10/dist-packages (from tensorflow) (1.4.0)\n",
            "Requirement already satisfied: astunparse>=1.6.0 in /usr/local/lib/python3.10/dist-packages (from tensorflow) (1.6.3)\n",
            "Requirement already satisfied: flatbuffers>=24.3.25 in /usr/local/lib/python3.10/dist-packages (from tensorflow) (24.3.25)\n",
            "Requirement already satisfied: gast!=0.5.0,!=0.5.1,!=0.5.2,>=0.2.1 in /usr/local/lib/python3.10/dist-packages (from tensorflow) (0.6.0)\n",
            "Requirement already satisfied: google-pasta>=0.1.1 in /usr/local/lib/python3.10/dist-packages (from tensorflow) (0.2.0)\n",
            "Requirement already satisfied: h5py>=3.10.0 in /usr/local/lib/python3.10/dist-packages (from tensorflow) (3.12.1)\n",
            "Requirement already satisfied: libclang>=13.0.0 in /usr/local/lib/python3.10/dist-packages (from tensorflow) (18.1.1)\n",
            "Requirement already satisfied: ml-dtypes<0.5.0,>=0.3.1 in /usr/local/lib/python3.10/dist-packages (from tensorflow) (0.4.1)\n",
            "Requirement already satisfied: opt-einsum>=2.3.2 in /usr/local/lib/python3.10/dist-packages (from tensorflow) (3.4.0)\n",
            "Requirement already satisfied: packaging in /usr/local/lib/python3.10/dist-packages (from tensorflow) (24.2)\n",
            "Requirement already satisfied: protobuf!=4.21.0,!=4.21.1,!=4.21.2,!=4.21.3,!=4.21.4,!=4.21.5,<5.0.0dev,>=3.20.3 in /usr/local/lib/python3.10/dist-packages (from tensorflow) (4.25.5)\n",
            "Requirement already satisfied: requests<3,>=2.21.0 in /usr/local/lib/python3.10/dist-packages (from tensorflow) (2.32.3)\n",
            "Requirement already satisfied: setuptools in /usr/local/lib/python3.10/dist-packages (from tensorflow) (75.1.0)\n",
            "Requirement already satisfied: six>=1.12.0 in /usr/local/lib/python3.10/dist-packages (from tensorflow) (1.17.0)\n",
            "Requirement already satisfied: termcolor>=1.1.0 in /usr/local/lib/python3.10/dist-packages (from tensorflow) (2.5.0)\n",
            "Requirement already satisfied: typing-extensions>=3.6.6 in /usr/local/lib/python3.10/dist-packages (from tensorflow) (4.12.2)\n",
            "Requirement already satisfied: wrapt>=1.11.0 in /usr/local/lib/python3.10/dist-packages (from tensorflow) (1.17.0)\n",
            "Requirement already satisfied: grpcio<2.0,>=1.24.3 in /usr/local/lib/python3.10/dist-packages (from tensorflow) (1.68.1)\n",
            "Requirement already satisfied: tensorboard<2.18,>=2.17 in /usr/local/lib/python3.10/dist-packages (from tensorflow) (2.17.1)\n",
            "Requirement already satisfied: tensorflow-io-gcs-filesystem>=0.23.1 in /usr/local/lib/python3.10/dist-packages (from tensorflow) (0.37.1)\n",
            "Requirement already satisfied: numpy<2.0.0,>=1.23.5 in /usr/local/lib/python3.10/dist-packages (from tensorflow) (1.26.4)\n",
            "Requirement already satisfied: rich in /usr/local/lib/python3.10/dist-packages (from keras) (13.9.4)\n",
            "Requirement already satisfied: namex in /usr/local/lib/python3.10/dist-packages (from keras) (0.0.8)\n",
            "Requirement already satisfied: optree in /usr/local/lib/python3.10/dist-packages (from keras) (0.13.1)\n",
            "Requirement already satisfied: wheel<1.0,>=0.23.0 in /usr/local/lib/python3.10/dist-packages (from astunparse>=1.6.0->tensorflow) (0.45.1)\n",
            "Requirement already satisfied: charset-normalizer<4,>=2 in /usr/local/lib/python3.10/dist-packages (from requests<3,>=2.21.0->tensorflow) (3.4.0)\n",
            "Requirement already satisfied: idna<4,>=2.5 in /usr/local/lib/python3.10/dist-packages (from requests<3,>=2.21.0->tensorflow) (3.10)\n",
            "Requirement already satisfied: urllib3<3,>=1.21.1 in /usr/local/lib/python3.10/dist-packages (from requests<3,>=2.21.0->tensorflow) (2.2.3)\n",
            "Requirement already satisfied: certifi>=2017.4.17 in /usr/local/lib/python3.10/dist-packages (from requests<3,>=2.21.0->tensorflow) (2024.8.30)\n",
            "Requirement already satisfied: markdown>=2.6.8 in /usr/local/lib/python3.10/dist-packages (from tensorboard<2.18,>=2.17->tensorflow) (3.7)\n",
            "Requirement already satisfied: tensorboard-data-server<0.8.0,>=0.7.0 in /usr/local/lib/python3.10/dist-packages (from tensorboard<2.18,>=2.17->tensorflow) (0.7.2)\n",
            "Requirement already satisfied: werkzeug>=1.0.1 in /usr/local/lib/python3.10/dist-packages (from tensorboard<2.18,>=2.17->tensorflow) (3.1.3)\n",
            "Requirement already satisfied: markdown-it-py>=2.2.0 in /usr/local/lib/python3.10/dist-packages (from rich->keras) (3.0.0)\n",
            "Requirement already satisfied: pygments<3.0.0,>=2.13.0 in /usr/local/lib/python3.10/dist-packages (from rich->keras) (2.18.0)\n",
            "Requirement already satisfied: mdurl~=0.1 in /usr/local/lib/python3.10/dist-packages (from markdown-it-py>=2.2.0->rich->keras) (0.1.2)\n",
            "Requirement already satisfied: MarkupSafe>=2.1.1 in /usr/local/lib/python3.10/dist-packages (from werkzeug>=1.0.1->tensorboard<2.18,>=2.17->tensorflow) (3.0.2)\n"
          ]
        }
      ]
    },
    {
      "cell_type": "code",
      "source": [
        "import tensorflow as tf\n",
        "from tensorflow.keras.applications import EfficientNetB0\n",
        "from tensorflow.keras import Sequential\n",
        "from tensorflow.keras.layers import Dense, Dropout, GlobalAveragePooling2D\n",
        "from tensorflow.keras.preprocessing.image import ImageDataGenerator\n"
      ],
      "metadata": {
        "id": "p7-EPXD4lVOc"
      },
      "execution_count": null,
      "outputs": []
    },
    {
      "cell_type": "code",
      "source": [
        "dataset_dir = '/content/drive/MyDrive/my_dataset_folder/archive (1)/gaussian_filtered_images/gaussian_filtered_images'\n"
      ],
      "metadata": {
        "id": "yvf7af0MmCHe"
      },
      "execution_count": null,
      "outputs": []
    },
    {
      "cell_type": "markdown",
      "source": [
        "Splitin the data"
      ],
      "metadata": {
        "id": "nNXenB_umHV0"
      }
    },
    {
      "cell_type": "code",
      "source": [
        "from tensorflow.keras.preprocessing.image import ImageDataGenerator\n",
        "\n",
        "# Create ImageDataGenerator for train and validation\n",
        "datagen = ImageDataGenerator(\n",
        "    rescale=1.0/255.0,\n",
        "    rotation_range=10,\n",
        "    width_shift_range=0.2,\n",
        "    height_shift_range=0.2,\n",
        "    shear_range=0.1,\n",
        "    zoom_range=0.2,\n",
        "    horizontal_flip=True,\n",
        "    validation_split=0.2  # 20% of data will be used for validation\n",
        ")\n",
        "\n",
        "# Train Dataset\n",
        "train_dataset = datagen.flow_from_directory(\n",
        "    dataset_dir,\n",
        "    target_size=(224, 224),\n",
        "    batch_size=32,\n",
        "    class_mode='categorical',\n",
        "    subset='training',\n",
        "    seed=42\n",
        ")\n",
        "\n",
        "# Validation Dataset\n",
        "val_dataset = datagen.flow_from_directory(\n",
        "    dataset_dir,\n",
        "    target_size=(224, 224),\n",
        "    batch_size=32,\n",
        "    class_mode='categorical',\n",
        "    subset='validation',\n",
        "    seed=42\n",
        ")\n"
      ],
      "metadata": {
        "colab": {
          "base_uri": "https://localhost:8080/"
        },
        "id": "nNQhR5trmE3f",
        "outputId": "622358e4-845c-4b0e-d912-0457cb6ca5cf"
      },
      "execution_count": null,
      "outputs": [
        {
          "output_type": "stream",
          "name": "stdout",
          "text": [
            "Found 2931 images belonging to 5 classes.\n",
            "Found 731 images belonging to 5 classes.\n"
          ]
        }
      ]
    },
    {
      "cell_type": "code",
      "source": [
        "from tensorflow.keras.applications import EfficientNetB0\n",
        "from tensorflow.keras.models import Sequential\n",
        "from tensorflow.keras.layers import Dense, Dropout, GlobalAveragePooling2D\n",
        "\n",
        "# Load the EfficientNetB0 model\n",
        "base_model = EfficientNetB0(\n",
        "    weights='imagenet',\n",
        "    include_top=False,\n",
        "    input_shape=(224, 224, 3)\n",
        ")\n",
        "\n",
        "# Freeze the base model initially\n",
        "base_model.trainable = False\n",
        "\n",
        "# Add a classification head\n",
        "model = Sequential([\n",
        "    base_model,\n",
        "    GlobalAveragePooling2D(),\n",
        "    Dropout(0.5),\n",
        "    Dense(128, activation='relu'),\n",
        "    Dense(5, activation='softmax')  # 5 classes: mild, moderate, etc.\n",
        "])\n",
        "\n",
        "# Compile the model\n",
        "model.compile(\n",
        "    optimizer='adam',\n",
        "    loss='categorical_crossentropy',\n",
        "    metrics=['accuracy']\n",
        ")\n",
        "\n",
        "model.summary()\n"
      ],
      "metadata": {
        "colab": {
          "base_uri": "https://localhost:8080/",
          "height": 377
        },
        "id": "BmQR6M-RmQbn",
        "outputId": "e5c718c0-ff1d-4e6d-c393-e473a5191702"
      },
      "execution_count": null,
      "outputs": [
        {
          "output_type": "stream",
          "name": "stdout",
          "text": [
            "Downloading data from https://storage.googleapis.com/keras-applications/efficientnetb0_notop.h5\n",
            "\u001b[1m16705208/16705208\u001b[0m \u001b[32m━━━━━━━━━━━━━━━━━━━━\u001b[0m\u001b[37m\u001b[0m \u001b[1m1s\u001b[0m 0us/step\n"
          ]
        },
        {
          "output_type": "display_data",
          "data": {
            "text/plain": [
              "\u001b[1mModel: \"sequential\"\u001b[0m\n"
            ],
            "text/html": [
              "<pre style=\"white-space:pre;overflow-x:auto;line-height:normal;font-family:Menlo,'DejaVu Sans Mono',consolas,'Courier New',monospace\"><span style=\"font-weight: bold\">Model: \"sequential\"</span>\n",
              "</pre>\n"
            ]
          },
          "metadata": {}
        },
        {
          "output_type": "display_data",
          "data": {
            "text/plain": [
              "┏━━━━━━━━━━━━━━━━━━━━━━━━━━━━━━━━━━━━━━┳━━━━━━━━━━━━━━━━━━━━━━━━━━━━━┳━━━━━━━━━━━━━━━━━┓\n",
              "┃\u001b[1m \u001b[0m\u001b[1mLayer (type)                        \u001b[0m\u001b[1m \u001b[0m┃\u001b[1m \u001b[0m\u001b[1mOutput Shape               \u001b[0m\u001b[1m \u001b[0m┃\u001b[1m \u001b[0m\u001b[1m        Param #\u001b[0m\u001b[1m \u001b[0m┃\n",
              "┡━━━━━━━━━━━━━━━━━━━━━━━━━━━━━━━━━━━━━━╇━━━━━━━━━━━━━━━━━━━━━━━━━━━━━╇━━━━━━━━━━━━━━━━━┩\n",
              "│ efficientnetb0 (\u001b[38;5;33mFunctional\u001b[0m)          │ (\u001b[38;5;45mNone\u001b[0m, \u001b[38;5;34m7\u001b[0m, \u001b[38;5;34m7\u001b[0m, \u001b[38;5;34m1280\u001b[0m)          │       \u001b[38;5;34m4,049,571\u001b[0m │\n",
              "├──────────────────────────────────────┼─────────────────────────────┼─────────────────┤\n",
              "│ global_average_pooling2d_1           │ (\u001b[38;5;45mNone\u001b[0m, \u001b[38;5;34m1280\u001b[0m)                │               \u001b[38;5;34m0\u001b[0m │\n",
              "│ (\u001b[38;5;33mGlobalAveragePooling2D\u001b[0m)             │                             │                 │\n",
              "├──────────────────────────────────────┼─────────────────────────────┼─────────────────┤\n",
              "│ dropout (\u001b[38;5;33mDropout\u001b[0m)                    │ (\u001b[38;5;45mNone\u001b[0m, \u001b[38;5;34m1280\u001b[0m)                │               \u001b[38;5;34m0\u001b[0m │\n",
              "├──────────────────────────────────────┼─────────────────────────────┼─────────────────┤\n",
              "│ dense_2 (\u001b[38;5;33mDense\u001b[0m)                      │ (\u001b[38;5;45mNone\u001b[0m, \u001b[38;5;34m128\u001b[0m)                 │         \u001b[38;5;34m163,968\u001b[0m │\n",
              "├──────────────────────────────────────┼─────────────────────────────┼─────────────────┤\n",
              "│ dense_3 (\u001b[38;5;33mDense\u001b[0m)                      │ (\u001b[38;5;45mNone\u001b[0m, \u001b[38;5;34m5\u001b[0m)                   │             \u001b[38;5;34m645\u001b[0m │\n",
              "└──────────────────────────────────────┴─────────────────────────────┴─────────────────┘\n"
            ],
            "text/html": [
              "<pre style=\"white-space:pre;overflow-x:auto;line-height:normal;font-family:Menlo,'DejaVu Sans Mono',consolas,'Courier New',monospace\">┏━━━━━━━━━━━━━━━━━━━━━━━━━━━━━━━━━━━━━━┳━━━━━━━━━━━━━━━━━━━━━━━━━━━━━┳━━━━━━━━━━━━━━━━━┓\n",
              "┃<span style=\"font-weight: bold\"> Layer (type)                         </span>┃<span style=\"font-weight: bold\"> Output Shape                </span>┃<span style=\"font-weight: bold\">         Param # </span>┃\n",
              "┡━━━━━━━━━━━━━━━━━━━━━━━━━━━━━━━━━━━━━━╇━━━━━━━━━━━━━━━━━━━━━━━━━━━━━╇━━━━━━━━━━━━━━━━━┩\n",
              "│ efficientnetb0 (<span style=\"color: #0087ff; text-decoration-color: #0087ff\">Functional</span>)          │ (<span style=\"color: #00d7ff; text-decoration-color: #00d7ff\">None</span>, <span style=\"color: #00af00; text-decoration-color: #00af00\">7</span>, <span style=\"color: #00af00; text-decoration-color: #00af00\">7</span>, <span style=\"color: #00af00; text-decoration-color: #00af00\">1280</span>)          │       <span style=\"color: #00af00; text-decoration-color: #00af00\">4,049,571</span> │\n",
              "├──────────────────────────────────────┼─────────────────────────────┼─────────────────┤\n",
              "│ global_average_pooling2d_1           │ (<span style=\"color: #00d7ff; text-decoration-color: #00d7ff\">None</span>, <span style=\"color: #00af00; text-decoration-color: #00af00\">1280</span>)                │               <span style=\"color: #00af00; text-decoration-color: #00af00\">0</span> │\n",
              "│ (<span style=\"color: #0087ff; text-decoration-color: #0087ff\">GlobalAveragePooling2D</span>)             │                             │                 │\n",
              "├──────────────────────────────────────┼─────────────────────────────┼─────────────────┤\n",
              "│ dropout (<span style=\"color: #0087ff; text-decoration-color: #0087ff\">Dropout</span>)                    │ (<span style=\"color: #00d7ff; text-decoration-color: #00d7ff\">None</span>, <span style=\"color: #00af00; text-decoration-color: #00af00\">1280</span>)                │               <span style=\"color: #00af00; text-decoration-color: #00af00\">0</span> │\n",
              "├──────────────────────────────────────┼─────────────────────────────┼─────────────────┤\n",
              "│ dense_2 (<span style=\"color: #0087ff; text-decoration-color: #0087ff\">Dense</span>)                      │ (<span style=\"color: #00d7ff; text-decoration-color: #00d7ff\">None</span>, <span style=\"color: #00af00; text-decoration-color: #00af00\">128</span>)                 │         <span style=\"color: #00af00; text-decoration-color: #00af00\">163,968</span> │\n",
              "├──────────────────────────────────────┼─────────────────────────────┼─────────────────┤\n",
              "│ dense_3 (<span style=\"color: #0087ff; text-decoration-color: #0087ff\">Dense</span>)                      │ (<span style=\"color: #00d7ff; text-decoration-color: #00d7ff\">None</span>, <span style=\"color: #00af00; text-decoration-color: #00af00\">5</span>)                   │             <span style=\"color: #00af00; text-decoration-color: #00af00\">645</span> │\n",
              "└──────────────────────────────────────┴─────────────────────────────┴─────────────────┘\n",
              "</pre>\n"
            ]
          },
          "metadata": {}
        },
        {
          "output_type": "display_data",
          "data": {
            "text/plain": [
              "\u001b[1m Total params: \u001b[0m\u001b[38;5;34m4,214,184\u001b[0m (16.08 MB)\n"
            ],
            "text/html": [
              "<pre style=\"white-space:pre;overflow-x:auto;line-height:normal;font-family:Menlo,'DejaVu Sans Mono',consolas,'Courier New',monospace\"><span style=\"font-weight: bold\"> Total params: </span><span style=\"color: #00af00; text-decoration-color: #00af00\">4,214,184</span> (16.08 MB)\n",
              "</pre>\n"
            ]
          },
          "metadata": {}
        },
        {
          "output_type": "display_data",
          "data": {
            "text/plain": [
              "\u001b[1m Trainable params: \u001b[0m\u001b[38;5;34m164,613\u001b[0m (643.02 KB)\n"
            ],
            "text/html": [
              "<pre style=\"white-space:pre;overflow-x:auto;line-height:normal;font-family:Menlo,'DejaVu Sans Mono',consolas,'Courier New',monospace\"><span style=\"font-weight: bold\"> Trainable params: </span><span style=\"color: #00af00; text-decoration-color: #00af00\">164,613</span> (643.02 KB)\n",
              "</pre>\n"
            ]
          },
          "metadata": {}
        },
        {
          "output_type": "display_data",
          "data": {
            "text/plain": [
              "\u001b[1m Non-trainable params: \u001b[0m\u001b[38;5;34m4,049,571\u001b[0m (15.45 MB)\n"
            ],
            "text/html": [
              "<pre style=\"white-space:pre;overflow-x:auto;line-height:normal;font-family:Menlo,'DejaVu Sans Mono',consolas,'Courier New',monospace\"><span style=\"font-weight: bold\"> Non-trainable params: </span><span style=\"color: #00af00; text-decoration-color: #00af00\">4,049,571</span> (15.45 MB)\n",
              "</pre>\n"
            ]
          },
          "metadata": {}
        }
      ]
    },
    {
      "cell_type": "code",
      "source": [
        "history = model.fit(\n",
        "    train_dataset,\n",
        "    validation_data=val_dataset,\n",
        "    epochs=10,\n",
        "    batch_size=32\n",
        ")\n"
      ],
      "metadata": {
        "colab": {
          "base_uri": "https://localhost:8080/"
        },
        "id": "nlkyj_M1mcBD",
        "outputId": "c86e9f17-ec7d-428f-bc67-6a63ff16e0a2"
      },
      "execution_count": null,
      "outputs": [
        {
          "output_type": "stream",
          "name": "stdout",
          "text": [
            "Epoch 1/10\n"
          ]
        },
        {
          "output_type": "stream",
          "name": "stderr",
          "text": [
            "/usr/local/lib/python3.10/dist-packages/keras/src/trainers/data_adapters/py_dataset_adapter.py:122: UserWarning: Your `PyDataset` class should call `super().__init__(**kwargs)` in its constructor. `**kwargs` can include `workers`, `use_multiprocessing`, `max_queue_size`. Do not pass these arguments to `fit()`, as they will be ignored.\n",
            "  self._warn_if_super_not_called()\n"
          ]
        },
        {
          "output_type": "stream",
          "name": "stdout",
          "text": [
            "\u001b[1m92/92\u001b[0m \u001b[32m━━━━━━━━━━━━━━━━━━━━\u001b[0m\u001b[37m\u001b[0m \u001b[1m2330s\u001b[0m 24s/step - accuracy: 0.4726 - loss: 1.3498 - val_accuracy: 0.4938 - val_loss: 1.2949\n",
            "Epoch 2/10\n",
            "\u001b[1m92/92\u001b[0m \u001b[32m━━━━━━━━━━━━━━━━━━━━\u001b[0m\u001b[37m\u001b[0m \u001b[1m357s\u001b[0m 4s/step - accuracy: 0.4920 - loss: 1.3050 - val_accuracy: 0.4938 - val_loss: 1.2971\n",
            "Epoch 3/10\n",
            "\u001b[1m92/92\u001b[0m \u001b[32m━━━━━━━━━━━━━━━━━━━━\u001b[0m\u001b[37m\u001b[0m \u001b[1m344s\u001b[0m 4s/step - accuracy: 0.4936 - loss: 1.2971 - val_accuracy: 0.4938 - val_loss: 1.2935\n",
            "Epoch 4/10\n",
            "\u001b[1m92/92\u001b[0m \u001b[32m━━━━━━━━━━━━━━━━━━━━\u001b[0m\u001b[37m\u001b[0m \u001b[1m382s\u001b[0m 4s/step - accuracy: 0.4970 - loss: 1.3026 - val_accuracy: 0.4938 - val_loss: 1.2935\n",
            "Epoch 5/10\n",
            "\u001b[1m92/92\u001b[0m \u001b[32m━━━━━━━━━━━━━━━━━━━━\u001b[0m\u001b[37m\u001b[0m \u001b[1m397s\u001b[0m 4s/step - accuracy: 0.4976 - loss: 1.2839 - val_accuracy: 0.4938 - val_loss: 1.2943\n",
            "Epoch 6/10\n",
            "\u001b[1m92/92\u001b[0m \u001b[32m━━━━━━━━━━━━━━━━━━━━\u001b[0m\u001b[37m\u001b[0m \u001b[1m347s\u001b[0m 4s/step - accuracy: 0.4855 - loss: 1.2981 - val_accuracy: 0.4938 - val_loss: 1.3004\n",
            "Epoch 7/10\n",
            "\u001b[1m92/92\u001b[0m \u001b[32m━━━━━━━━━━━━━━━━━━━━\u001b[0m\u001b[37m\u001b[0m \u001b[1m347s\u001b[0m 4s/step - accuracy: 0.5023 - loss: 1.2964 - val_accuracy: 0.4938 - val_loss: 1.2959\n",
            "Epoch 8/10\n",
            "\u001b[1m92/92\u001b[0m \u001b[32m━━━━━━━━━━━━━━━━━━━━\u001b[0m\u001b[37m\u001b[0m \u001b[1m350s\u001b[0m 4s/step - accuracy: 0.5010 - loss: 1.2916 - val_accuracy: 0.4938 - val_loss: 1.2970\n",
            "Epoch 9/10\n",
            "\u001b[1m92/92\u001b[0m \u001b[32m━━━━━━━━━━━━━━━━━━━━\u001b[0m\u001b[37m\u001b[0m \u001b[1m390s\u001b[0m 4s/step - accuracy: 0.4853 - loss: 1.3046 - val_accuracy: 0.4938 - val_loss: 1.2929\n",
            "Epoch 10/10\n",
            "\u001b[1m92/92\u001b[0m \u001b[32m━━━━━━━━━━━━━━━━━━━━\u001b[0m\u001b[37m\u001b[0m \u001b[1m377s\u001b[0m 4s/step - accuracy: 0.5031 - loss: 1.2861 - val_accuracy: 0.4938 - val_loss: 1.2937\n"
          ]
        }
      ]
    },
    {
      "cell_type": "code",
      "source": [
        "# Unfreeze the last 20 layers of the base model\n",
        "base_model.trainable = True\n",
        "for layer in base_model.layers[:-20]:\n",
        "    layer.trainable = False\n",
        "\n",
        "# Recompile the model with a lower learning rate\n",
        "from tensorflow.keras.optimizers import Adam\n",
        "\n",
        "model.compile(\n",
        "    optimizer=Adam(learning_rate=1e-4),\n",
        "    loss='categorical_crossentropy',\n",
        "    metrics=['accuracy']\n",
        ")\n",
        "\n",
        "# Fine-tune the model\n",
        "history_fine = model.fit(\n",
        "    train_dataset,\n",
        "    validation_data=val_dataset,\n",
        "    epochs=5\n",
        ")\n"
      ],
      "metadata": {
        "colab": {
          "base_uri": "https://localhost:8080/"
        },
        "id": "EV3PEClL8zGX",
        "outputId": "2f31dcb9-5c77-4d8c-ef66-c51266eeed64"
      },
      "execution_count": null,
      "outputs": [
        {
          "output_type": "stream",
          "name": "stdout",
          "text": [
            "Epoch 1/5\n",
            "\u001b[1m92/92\u001b[0m \u001b[32m━━━━━━━━━━━━━━━━━━━━\u001b[0m\u001b[37m\u001b[0m \u001b[1m394s\u001b[0m 4s/step - accuracy: 0.4235 - loss: 1.4221 - val_accuracy: 0.4938 - val_loss: 1.3024\n",
            "Epoch 2/5\n",
            "\u001b[1m92/92\u001b[0m \u001b[32m━━━━━━━━━━━━━━━━━━━━\u001b[0m\u001b[37m\u001b[0m \u001b[1m389s\u001b[0m 4s/step - accuracy: 0.4859 - loss: 1.3507 - val_accuracy: 0.4938 - val_loss: 1.3032\n",
            "Epoch 3/5\n",
            "\u001b[1m92/92\u001b[0m \u001b[32m━━━━━━━━━━━━━━━━━━━━\u001b[0m\u001b[37m\u001b[0m \u001b[1m371s\u001b[0m 4s/step - accuracy: 0.4911 - loss: 1.3304 - val_accuracy: 0.4938 - val_loss: 1.3111\n",
            "Epoch 4/5\n",
            "\u001b[1m92/92\u001b[0m \u001b[32m━━━━━━━━━━━━━━━━━━━━\u001b[0m\u001b[37m\u001b[0m \u001b[1m382s\u001b[0m 4s/step - accuracy: 0.4925 - loss: 1.3074 - val_accuracy: 0.4938 - val_loss: 1.2964\n",
            "Epoch 5/5\n",
            "\u001b[1m92/92\u001b[0m \u001b[32m━━━━━━━━━━━━━━━━━━━━\u001b[0m\u001b[37m\u001b[0m \u001b[1m390s\u001b[0m 4s/step - accuracy: 0.5059 - loss: 1.2927 - val_accuracy: 0.4938 - val_loss: 1.2954\n"
          ]
        }
      ]
    },
    {
      "cell_type": "code",
      "source": [
        "# Evaluate performance\n",
        "test_loss, test_acc = model.evaluate(val_dataset)\n",
        "print(f\"Validation Accuracy: {test_acc:.2f}\")\n"
      ],
      "metadata": {
        "colab": {
          "base_uri": "https://localhost:8080/"
        },
        "id": "gqLkI_tKF5kp",
        "outputId": "c291bbc9-8734-468d-cb1a-35f160729fc5"
      },
      "execution_count": null,
      "outputs": [
        {
          "output_type": "stream",
          "name": "stdout",
          "text": [
            "\u001b[1m23/23\u001b[0m \u001b[32m━━━━━━━━━━━━━━━━━━━━\u001b[0m\u001b[37m\u001b[0m \u001b[1m67s\u001b[0m 3s/step - accuracy: 0.4984 - loss: 1.2905\n",
            "Validation Accuracy: 0.49\n"
          ]
        }
      ]
    },
    {
      "cell_type": "code",
      "source": [
        "from tensorflow.keras.preprocessing import image\n",
        "import numpy as np\n",
        "\n",
        "# Load a new image for prediction (adjust the path accordingly)\n",
        "img_path = \"/content/drive/MyDrive/my_dataset_folder/archive (1)/gaussian_filtered_images/gaussian_filtered_images/Moderate/00b74780d31d.png\"\n",
        "img = image.load_img(img_path, target_size=(224, 224))\n",
        "\n",
        "# Convert image to array and preprocess\n",
        "img_array = image.img_to_array(img)  # Convert image to array\n",
        "img_array = np.expand_dims(img_array, axis=0)  # Add batch dimension\n",
        "img_array = img_array / 255.0  # Normalize to [0, 1]\n",
        "\n",
        "# Make prediction\n",
        "predictions = model.predict(img_array)\n",
        "predicted_class = np.argmax(predictions, axis=1)\n",
        "print(f\"Predicted class: {predicted_class}\")\n",
        "\n",
        "# Get the class labels and their corresponding indices\n",
        "class_indices = train_dataset.class_indices\n",
        "print(\"Class indices:\", class_indices)\n",
        "\n",
        "# Map the predicted class index to the actual class name\n",
        "class_labels = {v: k for k, v in class_indices.items()}\n",
        "predicted_class_label = class_labels[predicted_class[0]]\n",
        "print(f\"Predicted class label: {predicted_class_label}\")\n"
      ],
      "metadata": {
        "colab": {
          "base_uri": "https://localhost:8080/"
        },
        "id": "Eg0SuU-NG0H_",
        "outputId": "645bd565-47f7-43c5-f757-144c4f393275"
      },
      "execution_count": null,
      "outputs": [
        {
          "output_type": "stream",
          "name": "stdout",
          "text": [
            "\u001b[1m1/1\u001b[0m \u001b[32m━━━━━━━━━━━━━━━━━━━━\u001b[0m\u001b[37m\u001b[0m \u001b[1m0s\u001b[0m 214ms/step\n",
            "Predicted class: [2]\n",
            "Class indices: {'Mild': 0, 'Moderate': 1, 'No_DR': 2, 'Proliferate_DR': 3, 'Severe': 4}\n",
            "Predicted class label: No_DR\n"
          ]
        }
      ]
    },
    {
      "cell_type": "code",
      "source": [
        "print(train_dataset.class_indices)\n"
      ],
      "metadata": {
        "colab": {
          "base_uri": "https://localhost:8080/"
        },
        "id": "3UKLtUUkH5f5",
        "outputId": "4dd4411b-aef5-4c60-dddb-8c2af9b0cc29"
      },
      "execution_count": null,
      "outputs": [
        {
          "output_type": "stream",
          "name": "stdout",
          "text": [
            "{'Mild': 0, 'Moderate': 1, 'No_DR': 2, 'Proliferate_DR': 3, 'Severe': 4}\n"
          ]
        }
      ]
    },
    {
      "cell_type": "code",
      "source": [
        "train_datagen = ImageDataGenerator(\n",
        "    rescale=1./255,\n",
        "    rotation_range=30,\n",
        "    width_shift_range=0.2,\n",
        "    height_shift_range=0.2,\n",
        "    shear_range=0.2,\n",
        "    zoom_range=0.2,\n",
        "    horizontal_flip=True,\n",
        "    fill_mode='nearest'\n",
        ")\n"
      ],
      "metadata": {
        "id": "lGDHQXHkIln0"
      },
      "execution_count": null,
      "outputs": []
    },
    {
      "cell_type": "code",
      "source": [
        "for layer in base_model.layers[-20:]:\n",
        "    layer.trainable = True\n"
      ],
      "metadata": {
        "id": "hL3novA7JTMz"
      },
      "execution_count": null,
      "outputs": []
    },
    {
      "cell_type": "code",
      "source": [
        "from tensorflow.keras.preprocessing import image\n",
        "import numpy as np\n",
        "\n",
        "# Load a new image for prediction (adjust the path accordingly)\n",
        "img_path = \"/content/drive/MyDrive/my_dataset_folder/archive (1)/gaussian_filtered_images/gaussian_filtered_images/Proliferate_DR/0083ee8054ee.png\"\n",
        "img = image.load_img(img_path, target_size=(224, 224))\n",
        "\n",
        "# Convert image to array and preprocess\n",
        "img_array = image.img_to_array(img)  # Convert image to array\n",
        "img_array = np.expand_dims(img_array, axis=0)  # Add batch dimension\n",
        "img_array = img_array / 255.0  # Normalize to [0, 1]\n",
        "\n",
        "# Make prediction\n",
        "predictions = model.predict(img_array)\n",
        "predicted_class = np.argmax(predictions, axis=1)\n",
        "print(f\"Predicted class: {predicted_class}\")\n",
        "\n",
        "# Get the class labels and their corresponding indices\n",
        "class_indices = train_dataset.class_indices\n",
        "print(\"Class indices:\", class_indices)\n",
        "\n",
        "# Map the predicted class index to the actual class name\n",
        "class_labels = {v: k for k, v in class_indices.items()}\n",
        "predicted_class_label = class_labels[predicted_class[0]]\n",
        "print(f\"Predicted class label: {predicted_class_label}\")\n"
      ],
      "metadata": {
        "colab": {
          "base_uri": "https://localhost:8080/"
        },
        "id": "_kg4P8FWJWTY",
        "outputId": "677b314a-d1ed-452d-b305-c1c2375ed769"
      },
      "execution_count": null,
      "outputs": [
        {
          "output_type": "stream",
          "name": "stdout",
          "text": [
            "\u001b[1m1/1\u001b[0m \u001b[32m━━━━━━━━━━━━━━━━━━━━\u001b[0m\u001b[37m\u001b[0m \u001b[1m0s\u001b[0m 137ms/step\n",
            "Predicted class: [2]\n",
            "Class indices: {'Mild': 0, 'Moderate': 1, 'No_DR': 2, 'Proliferate_DR': 3, 'Severe': 4}\n",
            "Predicted class label: No_DR\n"
          ]
        }
      ]
    },
    {
      "cell_type": "code",
      "source": [
        "from sklearn.utils.class_weight import compute_class_weight\n",
        "import numpy as np\n",
        "\n",
        "class_weights = compute_class_weight('balanced', classes=np.unique(train_dataset.classes), y=train_dataset.classes)\n",
        "class_weight_dict = {i : class_weights[i] for i in range(len(class_weights))}\n",
        "print(class_weight_dict)\n"
      ],
      "metadata": {
        "colab": {
          "base_uri": "https://localhost:8080/"
        },
        "id": "z0yenGxnJsC9",
        "outputId": "96843e3e-b9bd-496f-e552-93b220f2fc3f"
      },
      "execution_count": null,
      "outputs": [
        {
          "output_type": "stream",
          "name": "stdout",
          "text": [
            "{0: 1.9804054054054054, 1: 0.73275, 2: 0.4059556786703601, 3: 2.483898305084746, 4: 3.7819354838709676}\n"
          ]
        }
      ]
    },
    {
      "cell_type": "code",
      "source": [
        "model.fit(train_dataset, epochs=5, class_weight=class_weight_dict)\n"
      ],
      "metadata": {
        "colab": {
          "base_uri": "https://localhost:8080/"
        },
        "id": "JvNWlSBVJ4np",
        "outputId": "f922d7fd-5bbd-4356-dd08-0f1bf176ca37"
      },
      "execution_count": null,
      "outputs": [
        {
          "output_type": "stream",
          "name": "stdout",
          "text": [
            "Epoch 1/5\n",
            "\u001b[1m92/92\u001b[0m \u001b[32m━━━━━━━━━━━━━━━━━━━━\u001b[0m\u001b[37m\u001b[0m \u001b[1m334s\u001b[0m 3s/step - accuracy: 0.4052 - loss: 1.6571\n",
            "Epoch 2/5\n",
            "\u001b[1m92/92\u001b[0m \u001b[32m━━━━━━━━━━━━━━━━━━━━\u001b[0m\u001b[37m\u001b[0m \u001b[1m384s\u001b[0m 3s/step - accuracy: 0.2643 - loss: 1.5599\n",
            "Epoch 3/5\n",
            "\u001b[1m92/92\u001b[0m \u001b[32m━━━━━━━━━━━━━━━━━━━━\u001b[0m\u001b[37m\u001b[0m \u001b[1m384s\u001b[0m 3s/step - accuracy: 0.2412 - loss: 1.6330\n",
            "Epoch 4/5\n",
            "\u001b[1m92/92\u001b[0m \u001b[32m━━━━━━━━━━━━━━━━━━━━\u001b[0m\u001b[37m\u001b[0m \u001b[1m397s\u001b[0m 4s/step - accuracy: 0.2492 - loss: 1.6037\n",
            "Epoch 5/5\n",
            "\u001b[1m92/92\u001b[0m \u001b[32m━━━━━━━━━━━━━━━━━━━━\u001b[0m\u001b[37m\u001b[0m \u001b[1m343s\u001b[0m 4s/step - accuracy: 0.3211 - loss: 1.6691\n"
          ]
        },
        {
          "output_type": "execute_result",
          "data": {
            "text/plain": [
              "<keras.src.callbacks.history.History at 0x798e9a2a7100>"
            ]
          },
          "metadata": {},
          "execution_count": 36
        }
      ]
    },
    {
      "cell_type": "code",
      "source": [
        "# Unfreeze the top 10 layers (for fine-tuning)\n",
        "for layer in base_model.layers[-10:]:\n",
        "    layer.trainable = True\n"
      ],
      "metadata": {
        "id": "DK5vjUjhROJa"
      },
      "execution_count": null,
      "outputs": []
    },
    {
      "cell_type": "code",
      "source": [
        "import numpy as np\n",
        "from tensorflow.keras.preprocessing import image\n",
        "\n",
        "img_path = '/content/drive/MyDrive/my_dataset_folder/archive (1)/gaussian_filtered_images/gaussian_filtered_images/Proliferate_DR/0243404e8a00.png'\n",
        "img = image.load_img(img_path, target_size=(224, 224))\n",
        "img_array = image.img_to_array(img) / 255.0  # Normalize the image\n",
        "img_array = np.expand_dims(img_array, axis=0)\n",
        "\n",
        "pred = model.predict(img_array)\n",
        "pred_class = np.argmax(pred, axis=1)\n",
        "print(f\"Predicted class index: {pred_class}\")\n",
        "print(f\"Predicted class: {list(train_dataset.class_indices.keys())[list(train_dataset.class_indices.values()).index(pred_class[0])]}\")\n"
      ],
      "metadata": {
        "colab": {
          "base_uri": "https://localhost:8080/"
        },
        "id": "lxI90oPoRUYL",
        "outputId": "e3b2c88d-911f-4379-fd8b-e87b57adfb50"
      },
      "execution_count": null,
      "outputs": [
        {
          "output_type": "stream",
          "name": "stdout",
          "text": [
            "\u001b[1m1/1\u001b[0m \u001b[32m━━━━━━━━━━━━━━━━━━━━\u001b[0m\u001b[37m\u001b[0m \u001b[1m0s\u001b[0m 153ms/step\n",
            "Predicted class index: [2]\n",
            "Predicted class: No_DR\n"
          ]
        }
      ]
    },
    {
      "cell_type": "markdown",
      "source": [
        "#Trying to improve accuracy of Resnet50"
      ],
      "metadata": {
        "id": "ZVzEoAXOabcF"
      }
    },
    {
      "cell_type": "code",
      "source": [
        "from tensorflow.keras.preprocessing.image import ImageDataGenerator\n",
        "\n",
        "train_datagen = ImageDataGenerator(\n",
        "    rescale=1./255,\n",
        "    rotation_range=30,\n",
        "    width_shift_range=0.2,\n",
        "    height_shift_range=0.2,\n",
        "    shear_range=0.2,\n",
        "    zoom_range=0.2,\n",
        "    horizontal_flip=True,\n",
        "    fill_mode='nearest'\n",
        ")\n",
        "\n",
        "train_generator = train_datagen.flow_from_directory(\n",
        "    '/content/drive/MyDrive/my_dataset_folder/archive (1)/gaussian_filtered_images/gaussian_filtered_images',  # Path to your dataset\n",
        "    target_size=(224, 224),\n",
        "    batch_size=32,\n",
        "    class_mode='categorical'\n",
        ")\n"
      ],
      "metadata": {
        "colab": {
          "base_uri": "https://localhost:8080/"
        },
        "id": "Y-NWaVEralMf",
        "outputId": "721a935c-65fa-4301-9216-3154bb16cf4c"
      },
      "execution_count": null,
      "outputs": [
        {
          "output_type": "stream",
          "name": "stdout",
          "text": [
            "Found 3662 images belonging to 5 classes.\n"
          ]
        }
      ]
    },
    {
      "cell_type": "code",
      "source": [
        "#learning rate schedule\n",
        "\n",
        "from tensorflow.keras.callbacks import ReduceLROnPlateau\n",
        "\n",
        "lr_scheduler = ReduceLROnPlateau(\n",
        "    monitor='val_loss',\n",
        "    factor=0.5,\n",
        "    patience=3,\n",
        "    verbose=1,\n",
        "    min_lr=1e-6\n",
        ")"
      ],
      "metadata": {
        "id": "3wJn3IXyaxlW"
      },
      "execution_count": null,
      "outputs": []
    },
    {
      "cell_type": "code",
      "source": [
        "from tensorflow.keras.models import Model\n",
        "from tensorflow.keras.layers import GlobalAveragePooling2D, Dense\n",
        "from tensorflow.keras.optimizers import Adam\n",
        "\n",
        "# Load ResNet50 with pre-trained weights\n",
        "base_model = tf.keras.applications.ResNet50(weights='imagenet', include_top=False, input_shape=(224, 224, 3))\n",
        "\n",
        "# Freeze the base model\n",
        "for layer in base_model.layers:\n",
        "    layer.trainable = False\n",
        "\n",
        "# Add custom top layers for classification\n",
        "model = tf.keras.Sequential([\n",
        "    base_model,\n",
        "    GlobalAveragePooling2D(),\n",
        "    Dense(1024, activation='relu'),\n",
        "    Dense(5, activation='softmax')  # Assuming 5 classes in your dataset\n",
        "])\n",
        "\n",
        "# Compile the model\n",
        "model.compile(optimizer=Adam(learning_rate=1e-5), loss='categorical_crossentropy', metrics=['accuracy'])\n"
      ],
      "metadata": {
        "id": "mvK5jO2Aa5PX"
      },
      "execution_count": null,
      "outputs": []
    },
    {
      "cell_type": "code",
      "source": [
        "for layer in base_model.layers[-10:]:\n",
        "    layer.trainable = True  # Unfreeze the last 10 layers of ResNet50\n",
        "\n",
        "model.compile(optimizer=Adam(learning_rate=1e-5), loss='categorical_crossentropy', metrics=['accuracy'])\n",
        "\n",
        "# Continue training\n",
        "history = model.fit(train_generator, epochs=10, steps_per_epoch=train_generator.samples // 32, callbacks=[lr_scheduler])\n"
      ],
      "metadata": {
        "colab": {
          "base_uri": "https://localhost:8080/"
        },
        "id": "DEtviImgbIEB",
        "outputId": "38ae52f0-1476-4960-859f-db3bb00bb351"
      },
      "execution_count": null,
      "outputs": [
        {
          "output_type": "stream",
          "name": "stdout",
          "text": [
            "Epoch 1/10\n"
          ]
        },
        {
          "output_type": "stream",
          "name": "stderr",
          "text": [
            "/usr/local/lib/python3.10/dist-packages/keras/src/trainers/data_adapters/py_dataset_adapter.py:122: UserWarning: Your `PyDataset` class should call `super().__init__(**kwargs)` in its constructor. `**kwargs` can include `workers`, `use_multiprocessing`, `max_queue_size`. Do not pass these arguments to `fit()`, as they will be ignored.\n",
            "  self._warn_if_super_not_called()\n"
          ]
        },
        {
          "output_type": "stream",
          "name": "stdout",
          "text": [
            "\u001b[1m114/114\u001b[0m \u001b[32m━━━━━━━━━━━━━━━━━━━━\u001b[0m\u001b[37m\u001b[0m \u001b[1m879s\u001b[0m 8s/step - accuracy: 0.5175 - loss: 1.2172 - learning_rate: 1.0000e-05\n",
            "Epoch 2/10\n"
          ]
        },
        {
          "output_type": "stream",
          "name": "stderr",
          "text": [
            "/usr/local/lib/python3.10/dist-packages/keras/src/callbacks/callback_list.py:96: UserWarning: Learning rate reduction is conditioned on metric `val_loss` which is not available. Available metrics are: accuracy,loss,learning_rate.\n",
            "  callback.on_epoch_end(epoch, logs)\n"
          ]
        },
        {
          "output_type": "stream",
          "name": "stdout",
          "text": [
            "\u001b[1m114/114\u001b[0m \u001b[32m━━━━━━━━━━━━━━━━━━━━\u001b[0m\u001b[37m\u001b[0m \u001b[1m6s\u001b[0m 471us/step - accuracy: 0.5000 - loss: 1.1224 - learning_rate: 1.0000e-05\n",
            "Epoch 3/10\n"
          ]
        },
        {
          "output_type": "stream",
          "name": "stderr",
          "text": [
            "/usr/lib/python3.10/contextlib.py:153: UserWarning: Your input ran out of data; interrupting training. Make sure that your dataset or generator can generate at least `steps_per_epoch * epochs` batches. You may need to use the `.repeat()` function when building your dataset.\n",
            "  self.gen.throw(typ, value, traceback)\n"
          ]
        },
        {
          "output_type": "stream",
          "name": "stdout",
          "text": [
            "\u001b[1m114/114\u001b[0m \u001b[32m━━━━━━━━━━━━━━━━━━━━\u001b[0m\u001b[37m\u001b[0m \u001b[1m914s\u001b[0m 8s/step - accuracy: 0.6231 - loss: 1.0362 - learning_rate: 1.0000e-05\n",
            "Epoch 4/10\n",
            "\u001b[1m114/114\u001b[0m \u001b[32m━━━━━━━━━━━━━━━━━━━━\u001b[0m\u001b[37m\u001b[0m \u001b[1m9s\u001b[0m 150us/step - accuracy: 0.6875 - loss: 0.8763 - learning_rate: 1.0000e-05\n",
            "Epoch 5/10\n",
            "\u001b[1m114/114\u001b[0m \u001b[32m━━━━━━━━━━━━━━━━━━━━\u001b[0m\u001b[37m\u001b[0m \u001b[1m867s\u001b[0m 8s/step - accuracy: 0.6387 - loss: 0.9860 - learning_rate: 1.0000e-05\n",
            "Epoch 6/10\n",
            "\u001b[1m114/114\u001b[0m \u001b[32m━━━━━━━━━━━━━━━━━━━━\u001b[0m\u001b[37m\u001b[0m \u001b[1m6s\u001b[0m 139us/step - accuracy: 0.6250 - loss: 1.0911 - learning_rate: 1.0000e-05\n",
            "Epoch 7/10\n",
            "\u001b[1m114/114\u001b[0m \u001b[32m━━━━━━━━━━━━━━━━━━━━\u001b[0m\u001b[37m\u001b[0m \u001b[1m865s\u001b[0m 8s/step - accuracy: 0.6348 - loss: 0.9887 - learning_rate: 1.0000e-05\n",
            "Epoch 8/10\n",
            "\u001b[1m114/114\u001b[0m \u001b[32m━━━━━━━━━━━━━━━━━━━━\u001b[0m\u001b[37m\u001b[0m \u001b[1m8s\u001b[0m 321us/step - accuracy: 0.5938 - loss: 0.9561 - learning_rate: 1.0000e-05\n",
            "Epoch 9/10\n",
            "\u001b[1m114/114\u001b[0m \u001b[32m━━━━━━━━━━━━━━━━━━━━\u001b[0m\u001b[37m\u001b[0m \u001b[1m888s\u001b[0m 8s/step - accuracy: 0.6373 - loss: 0.9713 - learning_rate: 1.0000e-05\n",
            "Epoch 10/10\n",
            "\u001b[1m114/114\u001b[0m \u001b[32m━━━━━━━━━━━━━━━━━━━━\u001b[0m\u001b[37m\u001b[0m \u001b[1m10s\u001b[0m 172us/step - accuracy: 0.4688 - loss: 1.2035 - learning_rate: 1.0000e-05\n"
          ]
        }
      ]
    },
    {
      "cell_type": "code",
      "source": [
        "from tensorflow.keras.layers import Dropout\n",
        "\n",
        "model = tf.keras.Sequential([\n",
        "    base_model,\n",
        "    GlobalAveragePooling2D(),\n",
        "    Dropout(0.5),\n",
        "    Dense(1024, activation='relu'),\n",
        "    Dense(5, activation='softmax')  # Assuming 5 classes\n",
        "])\n"
      ],
      "metadata": {
        "id": "9aOzqkZ43j1W"
      },
      "execution_count": null,
      "outputs": []
    },
    {
      "cell_type": "code",
      "source": [
        "from tensorflow.keras.optimizers import SGD\n",
        "\n",
        "model.compile(optimizer=SGD(learning_rate=0.001, momentum=0.9), loss='categorical_crossentropy', metrics=['accuracy'])\n"
      ],
      "metadata": {
        "id": "7xDD00IA33Ar"
      },
      "execution_count": null,
      "outputs": []
    },
    {
      "cell_type": "code",
      "source": [
        "# Save the trained model to a file\n",
        "model.save('/content/drive/MyDrive/my_dataset_folder/archive (1)/gaussian_filtered_images/gaussian_filtered_images/model.h5')\n",
        "\n",
        "print(\"Model saved successfully!\")\n"
      ],
      "metadata": {
        "colab": {
          "base_uri": "https://localhost:8080/"
        },
        "id": "HdPoXSFH423t",
        "outputId": "b0773fd6-f0c2-45d0-9c8b-75eb37a875b2"
      },
      "execution_count": null,
      "outputs": [
        {
          "output_type": "stream",
          "name": "stderr",
          "text": [
            "WARNING:absl:You are saving your model as an HDF5 file via `model.save()` or `keras.saving.save_model(model)`. This file format is considered legacy. We recommend using instead the native Keras format, e.g. `model.save('my_model.keras')` or `keras.saving.save_model(model, 'my_model.keras')`. \n"
          ]
        },
        {
          "output_type": "stream",
          "name": "stdout",
          "text": [
            "Model saved successfully!\n"
          ]
        }
      ]
    },
    {
      "cell_type": "code",
      "source": [
        "from tensorflow.keras.preprocessing import image\n",
        "import numpy as np\n",
        "\n",
        "# Path to the trained model\n",
        "model_path = '/content/drive/MyDrive/my_dataset_folder/archive (1)/gaussian_filtered_images/gaussian_filtered_images/model.h5'\n",
        "# Load the trained model\n",
        "from tensorflow.keras.models import load_model\n",
        "model = load_model(model_path)\n",
        "\n",
        "# Path to the image you want to predict\n",
        "image_path = '/content/drive/MyDrive/my_dataset_folder/archive (1)/gaussian_filtered_images/gaussian_filtered_images/ss.jpeg'\n",
        "\n",
        "# Preprocess the image\n",
        "def preprocess_image(img_path, target_size=(224, 224)):\n",
        "    img = image.load_img(img_path, target_size=target_size)  # Load image\n",
        "    img_array = image.img_to_array(img)                     # Convert to array\n",
        "    img_array = np.expand_dims(img_array, axis=0)           # Add batch dimension\n",
        "    img_array = img_array / 255.0                           # Normalize to [0, 1]\n",
        "    return img_array\n",
        "\n",
        "# Preprocess the input image\n",
        "input_image = preprocess_image(image_path)\n",
        "\n",
        "# Predict the class\n",
        "predictions = model.predict(input_image)\n",
        "\n",
        "# Decode predictions\n",
        "class_indices = train_generator.class_indices  # Use the class indices from training\n",
        "class_labels = {v: k for k, v in class_indices.items()}  # Reverse the dictionary\n",
        "\n",
        "# Get the predicted class\n",
        "predicted_class_index = np.argmax(predictions, axis=1)[0]\n",
        "predicted_class_label = class_labels[predicted_class_index]\n",
        "\n",
        "# Print the result\n",
        "print(f\"Predicted Class Index: {predicted_class_index}\")\n",
        "print(f\"Predicted Class Label: {predicted_class_label}\")\n"
      ],
      "metadata": {
        "colab": {
          "base_uri": "https://localhost:8080/"
        },
        "id": "fxzZVXjA420f",
        "outputId": "f9f86cdd-4a24-4fac-b53f-77ef308e6352"
      },
      "execution_count": null,
      "outputs": [
        {
          "output_type": "stream",
          "name": "stderr",
          "text": [
            "WARNING:absl:Compiled the loaded model, but the compiled metrics have yet to be built. `model.compile_metrics` will be empty until you train or evaluate the model.\n"
          ]
        },
        {
          "output_type": "stream",
          "name": "stdout",
          "text": [
            "\u001b[1m1/1\u001b[0m \u001b[32m━━━━━━━━━━━━━━━━━━━━\u001b[0m\u001b[37m\u001b[0m \u001b[1m3s\u001b[0m 3s/step\n",
            "Predicted Class Index: 0\n",
            "Predicted Class Label: Mild\n"
          ]
        }
      ]
    },
    {
      "cell_type": "code",
      "source": [
        "from sklearn.utils.class_weight import compute_class_weight\n",
        "import numpy as np\n",
        "\n",
        "# Calculate class weights\n",
        "class_weights = compute_class_weight(\n",
        "    class_weight='balanced',\n",
        "    classes=np.unique(train_generator.classes),\n",
        "    y=train_generator.classes\n",
        ")\n",
        "class_weights = dict(enumerate(class_weights))\n",
        "\n",
        "print(\"Class Weights:\", class_weights)\n"
      ],
      "metadata": {
        "colab": {
          "base_uri": "https://localhost:8080/"
        },
        "id": "PvKauAxw5-qD",
        "outputId": "7f6895bb-b30c-4891-d45b-50f44bb16cb2"
      },
      "execution_count": null,
      "outputs": [
        {
          "output_type": "stream",
          "name": "stdout",
          "text": [
            "Class Weights: {0: 1.9794594594594594, 1: 0.7331331331331331, 2: 0.4057617728531856, 3: 2.4827118644067796, 4: 3.7948186528497407}\n"
          ]
        }
      ]
    }
  ]
}